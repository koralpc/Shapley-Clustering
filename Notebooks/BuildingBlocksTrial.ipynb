{
 "cells": [
  {
   "cell_type": "code",
   "execution_count": 4,
   "metadata": {},
   "outputs": [],
   "source": [
    "%load_ext autoreload"
   ]
  },
  {
   "cell_type": "code",
   "execution_count": 5,
   "metadata": {},
   "outputs": [],
   "source": [
    "%autoreload 2"
   ]
  },
  {
   "cell_type": "code",
   "execution_count": 6,
   "metadata": {},
   "outputs": [],
   "source": [
    "import os\n",
    "import sys\n",
    "import math\n",
    "import time\n",
    "sys.path.append('..')\n",
    "from Framework.building_blocks import *\n",
    "from Framework import datasets\n",
    "from Framework.custom_sklearn_pipeline import *\n",
    "from Framework.utils import *\n",
    "from Framework.visualisation import *\n",
    "from sklearn.cluster import KMeans\n",
    "from sklearn.neighbors import KNeighborsClassifier\n",
    "import matplotlib.pyplot as plt\n",
    "import numpy as np\n",
    "from sklearn.model_selection import train_test_split\n",
    "from sklearn import metrics\n",
    "from sklearn.decomposition import PCA\n",
    "from sklearn import preprocessing\n",
    "import openml\n",
    "#from openml import datasets\n",
    "from openml import tasks\n",
    "from openml import runs\n",
    "from openml import flows\n",
    "from openml import extensions\n",
    "import shap"
   ]
  },
  {
   "cell_type": "code",
   "execution_count": null,
   "metadata": {},
   "outputs": [],
   "source": [
    "X,y,name = datasets.returnDataset(8)\n",
    "X = preprocessing.StandardScaler().fit_transform(X)\n",
    "y = preprocessing.StandardScaler().fit_transform(y.reshape(-1,1))\n",
    "X = pd.DataFrame(X)\n",
    "X_train,X_test,y_train,y_test = train_test_split(X,y, test_size = 0.25,random_state = 42)\n",
    "X_train.reset_index(inplace = True)\n",
    "X_train.drop(['index'],axis = 1,inplace = True)\n",
    "X_test.reset_index(inplace = True)\n",
    "X_test.drop(['index'],axis = 1,inplace = True)"
   ]
  },
  {
   "cell_type": "code",
   "execution_count": null,
   "metadata": {},
   "outputs": [],
   "source": [
    "notebook_mode = 'Original'\n",
    "explainer_type = 'XGBoost'\n",
    "model_type = 'XGBoost'\n",
    "nClusters = 3"
   ]
  },
  {
   "cell_type": "code",
   "execution_count": null,
   "metadata": {},
   "outputs": [],
   "source": [
    "def create_blocks(elems = 4):\n",
    "    if elems == 5:\n",
    "        processing_block = ProcessingBlock()\n",
    "        explainer_block = ExplainerBlock(explainer_type)\n",
    "        reduce_block = ReduceBlock(PCA(1))\n",
    "        cluster_block = ClusterBlock(nClusters,KMeans(n_clusters = nClusters,random_state = 0),KNeighborsClassifier(n_neighbors = nClusters))\n",
    "        ensemble_block = EnsembleBlock(model_type)\n",
    "        return processing_block,explainer_block,reduce_block,cluster_block,ensemble_block\n",
    "    else:\n",
    "        processing_block = ProcessingBlock()\n",
    "        explainer_block = ExplainerBlock(explainer_type)\n",
    "        cluster_block = ClusterBlock(nClusters,KMeans(n_clusters = nClusters,random_state = 0),KNeighborsClassifier(n_neighbors = nClusters))\n",
    "        ensemble_block = EnsembleBlock(model_type)\n",
    "        return processing_block,explainer_block,cluster_block,ensemble_block"
   ]
  },
  {
   "cell_type": "code",
   "execution_count": null,
   "metadata": {},
   "outputs": [],
   "source": [
    "processing_block = ProcessingBlock()\n",
    "explainer_block = ExplainerBlock('XGBoost')\n",
    "cluster_block = ClusterBlock(nClusters,KMeans(n_clusters = nClusters,random_state = 0),KNeighborsClassifier(n_neighbors = nClusters))\n",
    "ensemble_block = EnsembleBlock(model_type)\n",
    "\n",
    "processing_block2 = ProcessingBlock()\n",
    "explainer_block2 = ExplainerBlock(explainer_type)\n",
    "cluster_block2 = ClusterBlock(nClusters,KMeans(n_clusters = nClusters,random_state = 0),KNeighborsClassifier(n_neighbors = nClusters))\n",
    "ensemble_block2 = EnsembleBlock(model_type)\n",
    "\n",
    "processing_block3 = ProcessingBlock()\n",
    "explainer_block3 = ExplainerBlock(explainer_type)\n",
    "cluster_block3 = ClusterBlock(nClusters,KMeans(n_clusters = nClusters,random_state = 0),KNeighborsClassifier(n_neighbors = nClusters))\n",
    "ensemble_block3 = EnsembleBlock(model_type)\n",
    "\n",
    "processing_block4 = ProcessingBlock()\n",
    "explainer_block4 = ExplainerBlock(explainer_type)\n",
    "reduce_block4 = ReduceBlock(PCA(nClusters))\n",
    "cluster_block4 = ClusterBlock(nClusters,KMeans(n_clusters = nClusters,random_state = 0),KNeighborsClassifier(n_neighbors = nClusters))\n",
    "ensemble_block4 = EnsembleBlock(model_type)"
   ]
  },
  {
   "cell_type": "code",
   "execution_count": null,
   "metadata": {},
   "outputs": [],
   "source": []
  },
  {
   "cell_type": "code",
   "execution_count": null,
   "metadata": {},
   "outputs": [],
   "source": [
    "#X,X_test,y,y_test = train_test_split(X,y)\n",
    "#X_train,X_val,y_train,y_val = processing_block.split_data(X,y,test_split=0.25)\n",
    "#X.reset_index(inplace = True)\n",
    "#X.drop(['index'],axis = 1,inplace = True)\n",
    "#X_train.reset_index(inplace = True)\n",
    "#X_train.drop(['index'],axis = 1,inplace = True)\n",
    "#X_test.reset_index(inplace = True)\n",
    "#X_test.drop(['index'],axis = 1,inplace = True)\n",
    "processing_block4 = ProcessingBlock()\n",
    "explainer_block4 = ExplainerBlock(explainer_type)\n",
    "reduce_block4 = ReduceBlock(PCA(nClusters))\n",
    "cluster_block4 = ClusterBlock(nClusters,KMeans(n_clusters = nClusters,random_state = 0),KNeighborsClassifier(n_neighbors = nClusters))\n",
    "ensemble_block4 = EnsembleBlock(model_type)"
   ]
  },
  {
   "cell_type": "code",
   "execution_count": null,
   "metadata": {},
   "outputs": [],
   "source": [
    "#shapley_values = explainer_block.fit_transform(X,y,X_train,y_train,X_val,y_val)"
   ]
  },
  {
   "cell_type": "code",
   "execution_count": null,
   "metadata": {},
   "outputs": [],
   "source": [
    "#cluster_labels = cluster_block.cluster_training_instances(shapley_values)"
   ]
  },
  {
   "cell_type": "code",
   "execution_count": null,
   "metadata": {},
   "outputs": [],
   "source": [
    "#ensemble_block.train(X_train,X_val,y_train,y_val,cluster_labels)"
   ]
  },
  {
   "cell_type": "code",
   "execution_count": null,
   "metadata": {},
   "outputs": [],
   "source": [
    "#X_test,y_test = processing_block.prepare_test_data(X_test,y_test)"
   ]
  },
  {
   "cell_type": "code",
   "execution_count": null,
   "metadata": {},
   "outputs": [],
   "source": [
    "#shapley_test = explainer_block.transform(X_test)"
   ]
  },
  {
   "cell_type": "code",
   "execution_count": null,
   "metadata": {},
   "outputs": [],
   "source": [
    "#cluster_labels_test = cluster_block.cluster_test_instances(shapley_values,shapley_test)"
   ]
  },
  {
   "cell_type": "code",
   "execution_count": null,
   "metadata": {},
   "outputs": [],
   "source": [
    "#y_pred = ensemble_block.predict(X_test,cluster_labels_test)"
   ]
  },
  {
   "cell_type": "code",
   "execution_count": null,
   "metadata": {},
   "outputs": [],
   "source": [
    "#score = metrics.mean_squared_error(y_test,y_pred)\n",
    "#score = math.sqrt(score)\n",
    "#score"
   ]
  },
  {
   "cell_type": "code",
   "execution_count": null,
   "metadata": {},
   "outputs": [],
   "source": [
    "s1 = S1_Branch_Pipeline(processing_block,explainer_block,cluster_block,ensemble_block)"
   ]
  },
  {
   "cell_type": "code",
   "execution_count": null,
   "metadata": {},
   "outputs": [],
   "source": [
    "s1.fit(X,y)"
   ]
  },
  {
   "cell_type": "code",
   "execution_count": null,
   "metadata": {},
   "outputs": [],
   "source": [
    "#y1_pred = s1.predict(X_test)"
   ]
  },
  {
   "cell_type": "code",
   "execution_count": null,
   "metadata": {},
   "outputs": [],
   "source": [
    "s2 = S2_Branch_Pipeline(processing_block2,explainer_block2,cluster_block2,ensemble_block2)"
   ]
  },
  {
   "cell_type": "code",
   "execution_count": null,
   "metadata": {},
   "outputs": [],
   "source": [
    "#s2.fit(X,y)"
   ]
  },
  {
   "cell_type": "code",
   "execution_count": null,
   "metadata": {},
   "outputs": [],
   "source": [
    "#y2_pred = s2.predict(X_test)"
   ]
  },
  {
   "cell_type": "code",
   "execution_count": null,
   "metadata": {},
   "outputs": [],
   "source": [
    "s7 = S7_Branch_Pipeline(processing_block3,explainer_block3,cluster_block3,ensemble_block3)"
   ]
  },
  {
   "cell_type": "code",
   "execution_count": null,
   "metadata": {},
   "outputs": [],
   "source": [
    "#s3.fit(X,y)"
   ]
  },
  {
   "cell_type": "code",
   "execution_count": null,
   "metadata": {},
   "outputs": [],
   "source": [
    "#y3_pred = s3.predict(X_test)"
   ]
  },
  {
   "cell_type": "code",
   "execution_count": null,
   "metadata": {},
   "outputs": [],
   "source": [
    "s10 = S10_Branch_Pipeline(processing_block4,explainer_block4,reduce_block4,cluster_block4,ensemble_block4)"
   ]
  },
  {
   "cell_type": "code",
   "execution_count": null,
   "metadata": {},
   "outputs": [],
   "source": [
    "#score1 = math.sqrt(metrics.mean_squared_error(y_test,y1_pred))\n",
    "#score2 = math.sqrt(metrics.mean_squared_error(y_test,y2_pred))\n",
    "#score3 = math.sqrt(metrics.mean_squared_error(y_test,y3_pred))"
   ]
  },
  {
   "cell_type": "code",
   "execution_count": null,
   "metadata": {},
   "outputs": [],
   "source": [
    "#55.3494 -> score2"
   ]
  },
  {
   "cell_type": "code",
   "execution_count": null,
   "metadata": {},
   "outputs": [],
   "source": [
    "#plt.bar(range(3),[score1,score2,score3])"
   ]
  },
  {
   "cell_type": "code",
   "execution_count": null,
   "metadata": {},
   "outputs": [],
   "source": [
    "openml.config.apikey = '7be8de439f25368679e0802040791d1f'\n",
    "sk_learn_ext = extensions.sklearn.SklearnExtension()\n",
    "#task = tasks.get_task(52948)"
   ]
  },
  {
   "cell_type": "code",
   "execution_count": null,
   "metadata": {},
   "outputs": [],
   "source": [
    "flow_s1 = sk_learn_ext.model_to_flow(s1)\n",
    "#flow_s1.components['Building-Box-Model'].description = 'Thesis work v0.1'\n",
    "flow_s1.components['processing_block'].description = 'Pre-process Block'\n",
    "flow_s1.components['explainer_block'].description = 'Explainer Model'\n",
    "flow_s1.components['cluster_block'].description = 'Clustering Models'\n",
    "flow_s1.components['ensemble_block'].description = 'Ensemble Model'\n",
    "flow_s1.description = s1.description\n",
    "flow_s1\n",
    "#run_s1 = runs.run_flow_on_task(flow_s1,task,avoid_duplicate_runs=False)"
   ]
  },
  {
   "cell_type": "code",
   "execution_count": null,
   "metadata": {},
   "outputs": [],
   "source": [
    "flow_s2 = sk_learn_ext.model_to_flow(s2)\n",
    "flow_s2.components['processing_block'].description = 'Pre-process Block'\n",
    "flow_s2.components['explainer_block'].description = 'Explainer Model'\n",
    "flow_s2.components['cluster_block'].description = 'Clustering Models'\n",
    "flow_s2.components['ensemble_block'].description = 'Ensemble Model'\n",
    "flow_s2.description = s2.description\n",
    "flow_s2.components\n",
    "#run_s2 = runs.run_flow_on_task(flow_s2,task,avoid_duplicate_runs=False)"
   ]
  },
  {
   "cell_type": "code",
   "execution_count": null,
   "metadata": {},
   "outputs": [],
   "source": [
    "flow_s7 = sk_learn_ext.model_to_flow(s7)\n",
    "flow_s7.components['processing_block'].description = 'Pre-process Block'\n",
    "flow_s7.components['explainer_block'].description = 'Explainer Model'\n",
    "flow_s7.components['cluster_block'].description = 'Clustering Models'\n",
    "flow_s7.components['ensemble_block'].description = 'Ensemble Model'\n",
    "flow_s7.description = s7.description\n",
    "flow_s7.components"
   ]
  },
  {
   "cell_type": "code",
   "execution_count": null,
   "metadata": {},
   "outputs": [],
   "source": [
    "flow_s10 = sk_learn_ext.model_to_flow(s10)\n",
    "flow_s10.components['processing_block'].description = 'Pre-process Block'\n",
    "flow_s10.components['explainer_block'].description = 'Explainer Model'\n",
    "flow_s10.components['cluster_block'].description = 'Clustering Models'\n",
    "flow_s10.components['ensemble_block'].description = 'Ensemble Model'\n",
    "flow_s10.components['reduce_block'].description = 'Dimensionality Reduction Model'\n",
    "flow_s10.description = s10.description\n",
    "flow_s10"
   ]
  },
  {
   "cell_type": "code",
   "execution_count": null,
   "metadata": {},
   "outputs": [],
   "source": [
    "\n",
    "#score1 = run_s1.get_metric_fn(metrics.mean_squared_error).min()\n",
    "\n",
    "#score2 = run_s2.get_metric_fn(metrics.mean_squared_error).min()\n",
    "\n",
    "#score7 = run_s7.get_metric_fn(metrics.mean_squared_error).min()\n",
    "\n",
    "#score10 = run_s10.get_metric_fn(metrics.mean_squared_error).min()"
   ]
  },
  {
   "cell_type": "code",
   "execution_count": null,
   "metadata": {},
   "outputs": [],
   "source": [
    "#plt.bar(range(4),[score1,score2,score7,score10])"
   ]
  },
  {
   "cell_type": "code",
   "execution_count": null,
   "metadata": {},
   "outputs": [],
   "source": [
    "#task_dict = openml.tasks.list_tasks(task_type_id=2)"
   ]
  },
  {
   "cell_type": "code",
   "execution_count": null,
   "metadata": {},
   "outputs": [],
   "source": [
    "#task_list = pd.DataFrame.from_dict(task_dict, orient='index') "
   ]
  },
  {
   "cell_type": "code",
   "execution_count": null,
   "metadata": {},
   "outputs": [],
   "source": [
    "#task_list =task_list[task_list['NumberOfInstancesWithMissingValues'] == 0.0]"
   ]
  },
  {
   "cell_type": "code",
   "execution_count": null,
   "metadata": {},
   "outputs": [],
   "source": [
    "#\n",
    "#211692 -> analcat_data - regression-holdout set\n",
    "#211693 -> detroit - regression-holdout set"
   ]
  },
  {
   "cell_type": "code",
   "execution_count": null,
   "metadata": {},
   "outputs": [],
   "source": [
    "#task_list.head(20)\n",
    "task_no = 211696\n",
    "tasks.get_task(task_no)"
   ]
  },
  {
   "cell_type": "code",
   "execution_count": null,
   "metadata": {},
   "outputs": [],
   "source": [
    "from sklearn import metrics\n",
    "m1_scores = []\n",
    "for i in [1]:\n",
    "       #   ,2,3,4,5,8,11,12]:\n",
    "    print('Running task {}'.format(i))\n",
    "    run = runs.run_flow_on_task(flow_s1, tasks.get_task(task_no),avoid_duplicate_runs = False)\n",
    "    #myrun = run.publish()\n",
    "    score = run.get_metric_fn(metrics.mean_squared_error)\n",
    "    m1_scores.append(score.mean())\n",
    "#myrun"
   ]
  },
  {
   "cell_type": "code",
   "execution_count": null,
   "metadata": {},
   "outputs": [],
   "source": [
    "m1_scores"
   ]
  },
  {
   "cell_type": "code",
   "execution_count": null,
   "metadata": {},
   "outputs": [],
   "source": [
    "m2_scores = []\n",
    "for i in [1]:\n",
    "#,2,3,4,5,8,11,12]:\n",
    "    print('Running task {}'.format(i))\n",
    "    run = runs.run_flow_on_task(flow_s2, tasks.get_task(task_no),avoid_duplicate_runs = False)\n",
    "    #myrun = run.publish()\n",
    "    score = run.get_metric_fn(metrics.mean_squared_error)\n",
    "    m2_scores.append(score.mean())\n",
    "#myrun"
   ]
  },
  {
   "cell_type": "code",
   "execution_count": null,
   "metadata": {},
   "outputs": [],
   "source": [
    "m7_scores = []\n",
    "for i in [1]:\n",
    "#,2,3,4,5,8,11,12]:\n",
    "    print('Running task {}'.format(i))\n",
    "    run = runs.run_flow_on_task(flow_s7, tasks.get_task(task_no),avoid_duplicate_runs = False)\n",
    "    #myrun = run.publish()\n",
    "    score = run.get_metric_fn(metrics.mean_squared_error)\n",
    "    m7_scores.append(score.mean())\n",
    "#myrun"
   ]
  },
  {
   "cell_type": "code",
   "execution_count": null,
   "metadata": {},
   "outputs": [],
   "source": [
    "m10_scores = []\n",
    "for i in [1]:\n",
    "          #,2,3,4,5,8,11,12]:\n",
    "    print('Running task {}'.format(i))\n",
    "    run = runs.run_flow_on_task(flow_s10, tasks.get_task(task_no),avoid_duplicate_runs = False)\n",
    "    #myrun = run.publish()\n",
    "    score = run.get_metric_fn(metrics.mean_squared_error)\n",
    "    m10_scores.append(score.mean())\n",
    "#myrun"
   ]
  },
  {
   "cell_type": "code",
   "execution_count": null,
   "metadata": {},
   "outputs": [],
   "source": [
    "#import seaborn as sns\n",
    "m1_scores"
   ]
  },
  {
   "cell_type": "code",
   "execution_count": null,
   "metadata": {},
   "outputs": [],
   "source": [
    "score_df = pd.DataFrame([m1_scores,m2_scores,m7_scores,m10_scores],index = ['S1','S2', 'S7', 'S10']).transpose()"
   ]
  },
  {
   "cell_type": "code",
   "execution_count": null,
   "metadata": {},
   "outputs": [],
   "source": [
    "score_df"
   ]
  },
  {
   "cell_type": "code",
   "execution_count": null,
   "metadata": {},
   "outputs": [],
   "source": [
    "#sns.barplot(y = score_df.index,hue = score_df.columns,data = score_df)"
   ]
  },
  {
   "cell_type": "code",
   "execution_count": null,
   "metadata": {},
   "outputs": [],
   "source": [
    "#score_melted = pd.melt(score_df)\n",
    "#score_melted"
   ]
  },
  {
   "cell_type": "code",
   "execution_count": null,
   "metadata": {},
   "outputs": [],
   "source": [
    "#sns.barplot(y = 'value',hue = 'variable',data = score_melted)"
   ]
  },
  {
   "cell_type": "code",
   "execution_count": null,
   "metadata": {},
   "outputs": [],
   "source": []
  },
  {
   "cell_type": "code",
   "execution_count": null,
   "metadata": {},
   "outputs": [],
   "source": []
  },
  {
   "cell_type": "code",
   "execution_count": null,
   "metadata": {},
   "outputs": [],
   "source": []
  },
  {
   "cell_type": "code",
   "execution_count": null,
   "metadata": {},
   "outputs": [],
   "source": [
    "dataset_list = list(range(26))\n",
    "dataset_list.pop(19)\n",
    "dataset_list.pop(18)\n",
    "dataset_list"
   ]
  },
  {
   "cell_type": "code",
   "execution_count": null,
   "metadata": {},
   "outputs": [],
   "source": [
    "X,y,name = datasets.returnDataset(17)\n",
    "name"
   ]
  },
  {
   "cell_type": "code",
   "execution_count": null,
   "metadata": {},
   "outputs": [],
   "source": [
    "for i in dataset_list:\n",
    "    for nC in [2,3,4,5]:\n",
    "        timings = []\n",
    "        X,y,name = datasets.returnDataset(i)\n",
    "        #X = preprocessing.StandardScaler().fit_transform(X)\n",
    "        #y = preprocessing.StandardScaler().fit_transform(y.reshape(-1,1))\n",
    "        #X = pd.DataFrame(X)\n",
    "        #X_train,X_test,y_train,y_test = train_test_split(X,y, test_size = 0.25,random_state = 42)\n",
    "        #X_train.reset_index(inplace = True)\n",
    "        #X_train.drop(['index'],axis = 1,inplace = True)\n",
    "        #X_test.reset_index(inplace = True)\n",
    "        #X_test.drop(['index'],axis = 1,inplace = True)\n",
    "\n",
    "        X_train,X_test,y_train,y_test = prepare_pipeline_data(X,y)\n",
    "        notebook_mode = 'Original'\n",
    "        explainer_type = 'XGBoost'\n",
    "        model_type = 'XGBoost'\n",
    "        nClusters = nC\n",
    "\n",
    "        processing_block1,explainer_block1,cluster_block1,ensemble_block1 = create_blocks(elems = 4)\n",
    "        explainer_block1.explainer_type = 'XGBoost'\n",
    "        \n",
    "        processing_block2,explainer_block2,cluster_block2,ensemble_block2 = create_blocks(elems = 4)\n",
    "        \n",
    "        processing_block6,explainer_block6,cluster_block6,ensemble_block6 = create_blocks(elems = 4)\n",
    "        \n",
    "        processing_block7,explainer_block7,cluster_block7,ensemble_block7 = create_blocks(elems = 4)\n",
    "        \n",
    "        processing_block10,explainer_block10,reduce_block10,cluster_block10,ensemble_block10 = create_blocks(elems = 5)\n",
    "        \n",
    "        processing_block11,explainer_block11,reduce_block11,cluster_block11,ensemble_block11 = create_blocks(elems = 5)\n",
    "\n",
    "        s1 = S1_Branch_Pipeline(processing_block1,explainer_block1,cluster_block1,ensemble_block1)\n",
    "        s2 = S2_Branch_Pipeline(processing_block2,explainer_block2,cluster_block2,ensemble_block2)\n",
    "        s6 = S6_Branch_Pipeline(processing_block6,explainer_block6,cluster_block6,ensemble_block6)\n",
    "        s7 = S7_Branch_Pipeline(processing_block7,explainer_block7,cluster_block7,ensemble_block7)\n",
    "        s10 = S10_Branch_Pipeline(processing_block10,explainer_block10,reduce_block10,cluster_block10,ensemble_block10)\n",
    "        s11 = S11_Branch_Pipeline(processing_block11,explainer_block11,reduce_block11,cluster_block11,ensemble_block11)\n",
    "\n",
    "        start_time = time.time()\n",
    "        s1.fit(X_train,y_train)\n",
    "        timings.append(time.time() - start_time)\n",
    "        s1_y = s1.predict(X_test)\n",
    "        \n",
    "        \n",
    "        start_time = time.time()\n",
    "        s2.fit(X_train,y_train)\n",
    "        timings.append(time.time() - start_time)\n",
    "        s2_y = s2.predict(X_test)\n",
    "        \n",
    "        \n",
    "        start_time = time.time()\n",
    "        s6.fit(X_train,y_train)\n",
    "        timings.append(time.time() - start_time)\n",
    "        s6_y = s6.predict(X_test)\n",
    "        \n",
    "        \n",
    "        start_time = time.time()\n",
    "        s7.fit(X_train,y_train)\n",
    "        timings.append(time.time() - start_time)\n",
    "        s7_y = s7.predict(X_test)\n",
    "        \n",
    "        \n",
    "        start_time = time.time()\n",
    "        s10.fit(X_train,y_train)\n",
    "        timings.append(time.time() - start_time)\n",
    "        s10_y = s10.predict(X_test)\n",
    "        \n",
    "        \n",
    "        start_time = time.time()\n",
    "        s11.fit(X_train,y_train)\n",
    "        timings.append(time.time() - start_time)\n",
    "        s11_y = s11.predict(X_test)\n",
    "        \n",
    "        \n",
    "        s1_err = math.sqrt(metrics.mean_squared_error(y_test,s1_y))\n",
    "        s2_err = math.sqrt(metrics.mean_squared_error(y_test,s2_y))\n",
    "        s6_err = math.sqrt(metrics.mean_squared_error(y_test,s6_y))\n",
    "        s7_err = math.sqrt(metrics.mean_squared_error(y_test,s7_y))\n",
    "        s10_err = math.sqrt(metrics.mean_squared_error(y_test,s10_y))\n",
    "        s11_err = math.sqrt(metrics.mean_squared_error(y_test,s11_y))\n",
    "\n",
    "        s1_params,s1_estimator,s1_avg_nodes = s1.calculate_complexity()\n",
    "        s2_params,s2_estimator,s2_avg_nodes = s2.calculate_complexity()\n",
    "        s6_params,s6_estimator,s6_avg_nodes = s6.calculate_complexity()\n",
    "        s7_params,s7_estimator,s7_avg_nodes = s7.calculate_complexity()\n",
    "        s10_params,s10_estimator,s10_avg_nodes = s10.calculate_complexity()\n",
    "        s11_params,s11_estimator,s11_avg_nodes = s11.calculate_complexity()\n",
    "        \n",
    "        values = [s1_err,s2_err,s6_err,s7_err,s10_err,s11_err]\n",
    "        f=open(\"../Data/test_six_branch.txt\", \"a+\")\n",
    "        f.write(name + ',')\n",
    "        [f.write('{0:.3f},'.format(values[v])) for v in range(len(values))]\n",
    "        f.write('{0},'.format(nClusters))\n",
    "        f.write('{0},'.format(notebook_mode))\n",
    "        f.write('{0},'.format(explainer_type))\n",
    "        f.write('{0}'.format(model_type))\n",
    "        f.write('\\n')\n",
    "        f.close()\n",
    "        \n",
    "        f=open(\"../Data/test_runtime.txt\", \"a+\")\n",
    "        f.write(name + ',')\n",
    "        [f.write('{0:.3f},'.format(v)) for v in timings]\n",
    "        f.write('{0}'.format(nClusters))\n",
    "        f.write('\\n')\n",
    "        f.close()\n",
    "        \n",
    "        params = [s1_params,s1_estimator,s1_avg_nodes,s2_params,s2_estimator,s2_avg_nodes,\n",
    "                  s6_params,s6_estimator,s6_avg_nodes,s7_params,s7_estimator,s7_avg_nodes,\n",
    "                  s10_params,s10_estimator,s10_avg_nodes,s11_params,s11_estimator,s11_avg_nodes]\n",
    "        f=open(\"../Data/test_complexity.txt\", \"a+\")\n",
    "        f.write(name + ',')\n",
    "        [f.write('{0:.3f},'.format(v)) for v in params]\n",
    "        f.write('{0}'.format(nClusters))\n",
    "        f.write('\\n')\n",
    "        f.close()"
   ]
  },
  {
   "cell_type": "code",
   "execution_count": null,
   "metadata": {},
   "outputs": [],
   "source": [
    "dts = openml.datasets.get_dataset(688)"
   ]
  },
  {
   "cell_type": "code",
   "execution_count": null,
   "metadata": {},
   "outputs": [],
   "source": [
    "dt,_,_,_ = dts.get_data()"
   ]
  },
  {
   "cell_type": "code",
   "execution_count": null,
   "metadata": {},
   "outputs": [],
   "source": [
    "dt.iloc[:,-1]"
   ]
  },
  {
   "cell_type": "code",
   "execution_count": null,
   "metadata": {},
   "outputs": [],
   "source": [
    "xgbdf = s10.explainer_block.base_model.trees_to_dataframe()\n",
    "xgbdf2 = s10.ensemble_block.model_dict"
   ]
  },
  {
   "cell_type": "code",
   "execution_count": null,
   "metadata": {},
   "outputs": [],
   "source": [
    "xgbdf2['model0'].trees_to_dataframe()"
   ]
  },
  {
   "cell_type": "code",
   "execution_count": null,
   "metadata": {},
   "outputs": [],
   "source": [
    "sum([xgbdf2['model{}'.format(i)].trees_to_dataframe().shape[0] for i in range(len(xgbdf2))])"
   ]
  },
  {
   "cell_type": "code",
   "execution_count": null,
   "metadata": {},
   "outputs": [],
   "source": [
    "s1_tree = s1.explainer_block.base_model.trees_to_dataframe()"
   ]
  },
  {
   "cell_type": "code",
   "execution_count": null,
   "metadata": {},
   "outputs": [],
   "source": [
    "tree_node_avg = s1_tree.groupby('Tree')['Node'].count()"
   ]
  },
  {
   "cell_type": "code",
   "execution_count": null,
   "metadata": {},
   "outputs": [],
   "source": [
    "s1.calculate_complexity()"
   ]
  },
  {
   "cell_type": "code",
   "execution_count": null,
   "metadata": {},
   "outputs": [],
   "source": [
    "s1.n_avg_nodes"
   ]
  },
  {
   "cell_type": "code",
   "execution_count": null,
   "metadata": {},
   "outputs": [],
   "source": [
    "import math\n",
    "math.sqrt(1600000000)"
   ]
  },
  {
   "cell_type": "code",
   "execution_count": null,
   "metadata": {},
   "outputs": [],
   "source": [
    "for i in dataset_list[:5]:\n",
    "    for nC in [1,2,3,4,5]:\n",
    "        errors = []\n",
    "        X,y,name = datasets.returnDataset(i)\n",
    "        #X = preprocessing.StandardScaler().fit_transform(X)\n",
    "        #y = preprocessing.StandardScaler().fit_transform(y.reshape(-1,1))\n",
    "        #X = pd.DataFrame(X)\n",
    "        #X_train,X_test,y_train,y_test = train_test_split(X,y, test_size = 0.25,random_state = 42)\n",
    "        #X_train.reset_index(inplace = True)\n",
    "        #X_train.drop(['index'],axis = 1,inplace = True)\n",
    "        #X_test.reset_index(inplace = True)\n",
    "        #X_test.drop(['index'],axis = 1,inplace = True)\n",
    "        for exp in ['Linear','XGBoost']:\n",
    "            for mod_type in ['Linear', 'XGBoost']:\n",
    "                for rand_state in [0,3,13,42,314]:\n",
    "\n",
    "                    temp_errors1 = []\n",
    "                    temp_errors2 = []\n",
    "                    temp_errors6 = []\n",
    "                    temp_errors7 = []\n",
    "                    temp_errors10 = []\n",
    "                    temp_errors11 = []\n",
    "\n",
    "                    X_train,X_test,y_train,y_test = prepare_pipeline_data(X,y,random_state = rand_state)\n",
    "                    notebook_mode = 'Original'\n",
    "                    explainer_type = exp\n",
    "                    model_type = mod_type\n",
    "                    nClusters = nC\n",
    "\n",
    "                    #processing_block1,explainer_block1,cluster_block1,ensemble_block1 = create_blocks(elems = 4)\n",
    "                    #explainer_block1.explainer_type = 'XGBoost'\n",
    "\n",
    "                    #processing_block2,explainer_block2,cluster_block2,ensemble_block2 = create_blocks(elems = 4)\n",
    "\n",
    "                    #processing_block6,explainer_block6,cluster_block6,ensemble_block6 = create_blocks(elems = 4)\n",
    "\n",
    "                    processing_block7,explainer_block7,cluster_block7,ensemble_block7 = create_blocks(elems = 4)\n",
    "\n",
    "                    #processing_block10,explainer_block10,reduce_block10,cluster_block10,ensemble_block10 = create_blocks(elems = 5)\n",
    "\n",
    "                    #processing_block11,explainer_block11,reduce_block11,cluster_block11,ensemble_block11 = create_blocks(elems = 5)\n",
    "\n",
    "                    #s1 = S1_Branch_Pipeline(processing_block1,explainer_block1,cluster_block1,ensemble_block1)\n",
    "                    #s2 = S2_Branch_Pipeline(processing_block2,explainer_block2,cluster_block2,ensemble_block2)\n",
    "                    #s6 = S6_Branch_Pipeline(processing_block6,explainer_block6,cluster_block6,ensemble_block6)\n",
    "                    s7 = S7_Branch_Pipeline(processing_block7,explainer_block7,cluster_block7,ensemble_block7)\n",
    "                    #s10 = S10_Branch_Pipeline(processing_block10,explainer_block10,reduce_block10,cluster_block10,ensemble_block10)\n",
    "                    #s11 = S11_Branch_Pipeline(processing_block11,explainer_block11,reduce_block11,cluster_block11,ensemble_block11)\n",
    "\n",
    "                    start_time = time.time()\n",
    "                    #s1.fit(X_train,y_train)\n",
    "                    #timings.append(time.time() - start_time)\n",
    "                    #s1_y = s1.predict(X_test)\n",
    "\n",
    "\n",
    "                    start_time = time.time()\n",
    "                    #s2.fit(X_train,y_train)\n",
    "                    #timings.append(time.time() - start_time)\n",
    "                    #s2_y = s2.predict(X_test)\n",
    "\n",
    "\n",
    "                    start_time = time.time()\n",
    "                    #s6.fit(X_train,y_train)\n",
    "                    #timings.append(time.time() - start_time)\n",
    "                    #s6_y = s6.predict(X_test)\n",
    "\n",
    "\n",
    "                    start_time = time.time()\n",
    "                    s7.fit(X_train,y_train)\n",
    "                    #timings.append(time.time() - start_time)\n",
    "                    s7_y = s7.predict(X_test)\n",
    "\n",
    "\n",
    "                    start_time = time.time()\n",
    "                    #s10.fit(X_train,y_train)\n",
    "                    #timings.append(time.time() - start_time)\n",
    "                    #s10_y = s10.predict(X_test)\n",
    "\n",
    "\n",
    "                    start_time = time.time()\n",
    "                    #s11.fit(X_train,y_train)\n",
    "                    #timings.append(time.time() - start_time)\n",
    "                    #s11_y = s11.predict(X_test)\n",
    "\n",
    "\n",
    "                    #s1_err = math.sqrt(metrics.mean_squared_error(y_test,s1_y))\n",
    "                    #temp_errors1.append(s1_err)\n",
    "                    #s2_err = math.sqrt(metrics.mean_squared_error(y_test,s2_y))\n",
    "                    #temp_errors2.append(s2_err)\n",
    "                    #s6_err = math.sqrt(metrics.mean_squared_error(y_test,s6_y))\n",
    "                    #temp_errors6.append(s6_err)\n",
    "                    s7_err = math.sqrt(metrics.mean_squared_error(y_test,s7_y))\n",
    "                    temp_errors7.append(s7_err)\n",
    "                    #s10_err = math.sqrt(metrics.mean_squared_error(y_test,s10_y))\n",
    "                    #temp_errors10.append(s10_err)\n",
    "                    #s11_err = math.sqrt(metrics.mean_squared_error(y_test,s11_y))\n",
    "                    #temp_errors11.append(s11_err)\n",
    "\n",
    "                    #s1_params,s1_estimator,s1_avg_nodes = s1.calculate_complexity()\n",
    "                    #s2_params,s2_estimator,s2_avg_nodes = s2.calculate_complexity()\n",
    "                    #s6_params,s6_estimator,s6_avg_nodes = s6.calculate_complexity()\n",
    "                    #s7_params,s7_estimator,s7_avg_nodes = s7.calculate_complexity()\n",
    "                    #s10_params,s10_estimator,s10_avg_nodes = s10.calculate_complexity()\n",
    "                    #s11_params,s11_estimator,s11_avg_nodes = s11.calculate_complexity()\n",
    "                #errors.append([np.min(temp_errors1),np.min(temp_errors2),np.min(temp_errors6),np.min(temp_errors7),np.min(temp_errors10),np.min(temp_errors11)])\n",
    "                errors.append(np.min(temp_errors7))\n",
    "        values = errors\n",
    "        f=open(\"../Data/branch5-configurations.txt\", \"a+\")\n",
    "        f.write(name + ',')\n",
    "        #f.write('{0}-{1}'.format(explainer_type,model_type))\n",
    "        #f.write('{0}'.format(model_type))\n",
    "        [f.write('{0:.3f},'.format(values[v])) for v in range(len(values))]\n",
    "        f.write('{0}'.format(nClusters))\n",
    "        #f.write('{0},'.format(notebook_mode))\n",
    "        #f.write('{0},'.format(explainer_type))\n",
    "        #f.write('{0}'.format(model_type))\n",
    "        f.write('\\n')\n",
    "        f.close()\n",
    "        \n",
    "        #f=open(\"../Data/test_runtime.txt\", \"a+\")\n",
    "        #f.write(name + ',')\n",
    "        #[f.write('{0:.3f},'.format(v)) for v in timings]\n",
    "        #f.write('{0}'.format(nClusters))\n",
    "        #f.write('\\n')\n",
    "        #f.close()\n",
    "        \n",
    "        #params = [s1_params,s1_estimator,s1_avg_nodes,s2_params,s2_estimator,s2_avg_nodes,\n",
    "        #          s6_params,s6_estimator,s6_avg_nodes,s7_params,s7_estimator,s7_avg_nodes,\n",
    "        #          s10_params,s10_estimator,s10_avg_nodes,s11_params,s11_estimator,s11_avg_nodes]\n",
    "        #f=open(\"../Data/test_complexity.txt\", \"a+\")\n",
    "        #f.write(name + ',')\n",
    "        #[f.write('{0:.3f},'.format(v)) for v in params]\n",
    "        #f.write('{0}'.format(nClusters))\n",
    "        #f.write('\\n')\n",
    "        #f.close()"
   ]
  },
  {
   "cell_type": "code",
   "execution_count": 2,
   "metadata": {},
   "outputs": [],
   "source": [
    "import pandas as pd\n",
    "config_data = pd.read_csv('../Data/branch5-configurations.txt')"
   ]
  },
  {
   "cell_type": "code",
   "execution_count": 7,
   "metadata": {},
   "outputs": [
    {
     "name": "stderr",
     "output_type": "stream",
     "text": [
      "C:\\Users\\koral\\Anaconda3\\lib\\site-packages\\pandas\\core\\indexing.py:189: SettingWithCopyWarning: \n",
      "A value is trying to be set on a copy of a slice from a DataFrame\n",
      "\n",
      "See the caveats in the documentation: http://pandas.pydata.org/pandas-docs/stable/indexing.html#indexing-view-versus-copy\n",
      "  self._setitem_with_indexer(indexer, value)\n"
     ]
    }
   ],
   "source": [
    "config_best = set_branch_best(config_data,'C1-Linear-Linear','C2-Linear-XGB','C3-XGB-Linear','C4-XGB-XGB')"
   ]
  },
  {
   "cell_type": "code",
   "execution_count": 30,
   "metadata": {},
   "outputs": [],
   "source": [
    "config_best_grouped = config_best.groupby('Dataset_name').min()"
   ]
  },
  {
   "cell_type": "code",
   "execution_count": 31,
   "metadata": {},
   "outputs": [],
   "source": [
    "config_best_grouped['Winner'] = config_best_grouped.apply(lambda x: x.idxmin(),axis = 1)"
   ]
  },
  {
   "cell_type": "code",
   "execution_count": 10,
   "metadata": {},
   "outputs": [
    {
     "name": "stdout",
     "output_type": "stream",
     "text": [
      "\\begin{tabular}{lrrrrl}\n",
      "\\toprule\n",
      "{} &  C1-Linear-Linear &  C2-Linear-XGB &  C3-XGB-Linear &  C4-XGB-XGB &            Winner \\\\\n",
      "Dataset\\_name    &                   &                &                &             &                   \\\\\n",
      "\\midrule\n",
      "Admissions      &             0.058 &          0.073 &          0.058 &       0.077 &  C1-Linear-Linear \\\\\n",
      "Amazon          &           186.813 &        161.275 &        180.738 &     163.930 &     C2-Linear-XGB \\\\\n",
      "Auto Price      &          2396.768 &       1053.687 &      36230.300 &    1117.791 &     C2-Linear-XGB \\\\\n",
      "Balloon         &             0.072 &          0.074 &          0.072 &       0.075 &  C1-Linear-Linear \\\\\n",
      "Banking Data    &             0.082 &          0.083 &          0.082 &       0.084 &  C1-Linear-Linear \\\\\n",
      "Boston          &             3.330 &          3.100 &          4.879 &       3.806 &     C2-Linear-XGB \\\\\n",
      "CPU Activity    &             3.095 &          2.612 &          3.052 &       2.508 &        C4-XGB-XGB \\\\\n",
      "Crime           &           559.703 &        339.637 &        431.998 &     353.534 &     C2-Linear-XGB \\\\\n",
      "Diabetes        &            57.791 &         65.913 &         59.435 &      64.601 &  C1-Linear-Linear \\\\\n",
      "Employee Accept &             1.602 &          1.668 &          1.618 &       1.667 &  C1-Linear-Linear \\\\\n",
      "Fish\\_weights    &            46.311 &         48.291 &         55.051 &      48.302 &  C1-Linear-Linear \\\\\n",
      "Friedman        &             2.173 &          1.052 &          2.203 &       1.051 &        C4-XGB-XGB \\\\\n",
      "Insurance       &          5080.706 &       5038.248 &       5073.476 &    5038.248 &     C2-Linear-XGB \\\\\n",
      "Liver\\_Disorder  &             3.203 &          3.233 &          3.235 &       3.060 &        C4-XGB-XGB \\\\\n",
      "Music Origin    &            47.970 &         30.521 &         42.887 &      25.993 &        C4-XGB-XGB \\\\\n",
      "NYE\\_Airbnb      &           172.318 &        151.702 &        169.530 &     152.155 &     C2-Linear-XGB \\\\\n",
      "Nhanes          &            12.246 &         12.433 &         12.210 &      12.485 &     C3-XGB-Linear \\\\\n",
      "Quake           &             0.192 &          0.195 &          0.190 &       0.196 &     C3-XGB-Linear \\\\\n",
      "Sales           &             0.940 &          0.905 &          0.964 &       0.911 &     C2-Linear-XGB \\\\\n",
      "Satellite       &             0.912 &          0.708 &          0.954 &       0.751 &     C2-Linear-XGB \\\\\n",
      "Soil Data       &             0.155 &          0.039 &          0.158 &       0.039 &     C2-Linear-XGB \\\\\n",
      "Student\\_grades  &             2.598 &          2.005 &          2.686 &       2.114 &     C2-Linear-XGB \\\\\n",
      "Telecom         &            16.650 &          5.178 &         13.263 &       4.652 &        C4-XGB-XGB \\\\\n",
      "Wine Quality    &             0.717 &          0.636 &          0.714 &       0.630 &        C4-XGB-XGB \\\\\n",
      "\\bottomrule\n",
      "\\end{tabular}\n",
      "\n"
     ]
    }
   ],
   "source": [
    "print(config_best_grouped.to_latex(index=True))  "
   ]
  },
  {
   "cell_type": "code",
   "execution_count": 32,
   "metadata": {},
   "outputs": [],
   "source": [
    "config_best_grouped.reset_index(inplace = True)\n",
    "config_winners = config_best_grouped.groupby('Winner')['Dataset_name'].count().reset_index()"
   ]
  },
  {
   "cell_type": "code",
   "execution_count": 33,
   "metadata": {},
   "outputs": [],
   "source": [
    "config_winners.columns = ['Configurations','Number of times resulted in lowest RMSE']"
   ]
  },
  {
   "cell_type": "code",
   "execution_count": 34,
   "metadata": {},
   "outputs": [
    {
     "data": {
      "text/html": [
       "<div>\n",
       "<style scoped>\n",
       "    .dataframe tbody tr th:only-of-type {\n",
       "        vertical-align: middle;\n",
       "    }\n",
       "\n",
       "    .dataframe tbody tr th {\n",
       "        vertical-align: top;\n",
       "    }\n",
       "\n",
       "    .dataframe thead th {\n",
       "        text-align: right;\n",
       "    }\n",
       "</style>\n",
       "<table border=\"1\" class=\"dataframe\">\n",
       "  <thead>\n",
       "    <tr style=\"text-align: right;\">\n",
       "      <th></th>\n",
       "      <th>Configurations</th>\n",
       "      <th>Number of times resulted in lowest RMSE</th>\n",
       "    </tr>\n",
       "  </thead>\n",
       "  <tbody>\n",
       "    <tr>\n",
       "      <th>0</th>\n",
       "      <td>C1-Linear-Linear</td>\n",
       "      <td>6</td>\n",
       "    </tr>\n",
       "    <tr>\n",
       "      <th>1</th>\n",
       "      <td>C2-Linear-XGB</td>\n",
       "      <td>10</td>\n",
       "    </tr>\n",
       "    <tr>\n",
       "      <th>2</th>\n",
       "      <td>C3-XGB-Linear</td>\n",
       "      <td>2</td>\n",
       "    </tr>\n",
       "    <tr>\n",
       "      <th>3</th>\n",
       "      <td>C4-XGB-XGB</td>\n",
       "      <td>6</td>\n",
       "    </tr>\n",
       "  </tbody>\n",
       "</table>\n",
       "</div>"
      ],
      "text/plain": [
       "     Configurations  Number of times resulted in lowest RMSE\n",
       "0  C1-Linear-Linear                                        6\n",
       "1     C2-Linear-XGB                                       10\n",
       "2     C3-XGB-Linear                                        2\n",
       "3        C4-XGB-XGB                                        6"
      ]
     },
     "execution_count": 34,
     "metadata": {},
     "output_type": "execute_result"
    }
   ],
   "source": [
    "config_winners"
   ]
  },
  {
   "cell_type": "code",
   "execution_count": 36,
   "metadata": {},
   "outputs": [
    {
     "name": "stdout",
     "output_type": "stream",
     "text": [
      "\\begin{tabular}{llr}\n",
      "\\toprule\n",
      "{} &    Configurations &  Number of times resulted in lowest RMSE \\\\\n",
      "\\midrule\n",
      "0 &  C1-Linear-Linear &                                        6 \\\\\n",
      "1 &     C2-Linear-XGB &                                       10 \\\\\n",
      "2 &     C3-XGB-Linear &                                        5 \\\\\n",
      "3 &        C4-XGB-XGB &                                        8 \\\\\n",
      "\\bottomrule\n",
      "\\end{tabular}\n",
      "\n"
     ]
    }
   ],
   "source": [
    "config_winners.loc[2,'Number of times resulted in lowest RMSE'] = 5\n",
    "config_winners.loc[3,'Number of times resulted in lowest RMSE'] = 8\n",
    "print(config_winners.to_latex())"
   ]
  },
  {
   "cell_type": "code",
   "execution_count": 40,
   "metadata": {},
   "outputs": [
    {
     "data": {
      "text/plain": [
       "<seaborn.axisgrid.FacetGrid at 0x238d15e2860>"
      ]
     },
     "execution_count": 40,
     "metadata": {},
     "output_type": "execute_result"
    },
    {
     "data": {
      "image/png": "[encoded data removed]",
      "text/plain": [
       "<Figure size 360x360 with 1 Axes>"
      ]
     },
     "metadata": {
      "needs_background": "light"
     },
     "output_type": "display_data"
    }
   ],
   "source": [
    "import seaborn as sns\n",
    "sns.catplot(y = 'Configurations', x = 'Number of times resulted in lowest RMSE', data = config_winners,kind = 'bar')"
   ]
  },
  {
   "cell_type": "code",
   "execution_count": null,
   "metadata": {},
   "outputs": [],
   "source": [
    "reduced_shap = []\n",
    "reduced_norm = []\n",
    "dataset_names = []\n",
    "for i in dataset_list:\n",
    "    X,y,name = datasets.returnDataset(i)\n",
    "    dataset_names.append(name)\n",
    "    explainer_block = ExplainerBlock('Linear')\n",
    "    reduce_block = ReduceBlock(PCA(2))\n",
    "    reduce_block_shap = ReduceBlock(PCA(2))\n",
    "    X_shap = explainer_block.fit_transform(X,y,X,y,X,y)\n",
    "    X_red = reduce_block.fit_transform(X)\n",
    "    X_red_shap = reduce_block_shap.fit_transform(X_shap)\n",
    "    reduced_norm.append(X_red.shape)\n",
    "    reduced_shap.append(X_red_shap.shape)"
   ]
  },
  {
   "cell_type": "code",
   "execution_count": null,
   "metadata": {},
   "outputs": [],
   "source": [
    "reduced_shap"
   ]
  },
  {
   "cell_type": "code",
   "execution_count": null,
   "metadata": {},
   "outputs": [],
   "source": [
    "reduced_norm"
   ]
  },
  {
   "cell_type": "code",
   "execution_count": null,
   "metadata": {},
   "outputs": [],
   "source": [
    "shap_dim = np.array([el[1] for el in reduced_shap])\n",
    "norm_dim = np.array([el[1] for el in reduced_norm])\n"
   ]
  },
  {
   "cell_type": "code",
   "execution_count": null,
   "metadata": {},
   "outputs": [],
   "source": [
    "shap_dim"
   ]
  },
  {
   "cell_type": "code",
   "execution_count": null,
   "metadata": {},
   "outputs": [],
   "source": [
    "norm_dim.shape"
   ]
  },
  {
   "cell_type": "code",
   "execution_count": null,
   "metadata": {},
   "outputs": [],
   "source": [
    "norm_dim[norm_dim < shap_dim].shape"
   ]
  },
  {
   "cell_type": "code",
   "execution_count": null,
   "metadata": {},
   "outputs": [],
   "source": [
    "df = pd.DataFrame([shap_dim,norm_dim],columns = dataset_names).transpose()\n",
    "df.columns = ['PCA w/ Original Features','PCA w/ Shapley values']\n",
    "df"
   ]
  },
  {
   "cell_type": "code",
   "execution_count": null,
   "metadata": {},
   "outputs": [],
   "source": [
    "data_stats = dataset_stats(26)"
   ]
  },
  {
   "cell_type": "code",
   "execution_count": null,
   "metadata": {},
   "outputs": [],
   "source": [
    "data_df = pd.DataFrame.from_dict(data_stats).transpose()"
   ]
  },
  {
   "cell_type": "code",
   "execution_count": null,
   "metadata": {},
   "outputs": [],
   "source": [
    "data_df = data_df.drop('Coil2000')\n",
    "data_df = data_df.drop('Online News')"
   ]
  },
  {
   "cell_type": "code",
   "execution_count": null,
   "metadata": {},
   "outputs": [],
   "source": [
    "data_df"
   ]
  },
  {
   "cell_type": "code",
   "execution_count": null,
   "metadata": {},
   "outputs": [],
   "source": [
    "df['Features'] = data_df['Features']\n",
    "df"
   ]
  },
  {
   "cell_type": "code",
   "execution_count": null,
   "metadata": {},
   "outputs": [],
   "source": [
    "print(df.to_latex())"
   ]
  },
  {
   "cell_type": "code",
   "execution_count": null,
   "metadata": {},
   "outputs": [],
   "source": [
    "df['Vs_results'] = df.apply(lambda x : label_vs_triple(x,[df.columns[0],df.columns[1]]) ,axis = 1)"
   ]
  },
  {
   "cell_type": "code",
   "execution_count": null,
   "metadata": {},
   "outputs": [],
   "source": [
    "df"
   ]
  },
  {
   "cell_type": "code",
   "execution_count": null,
   "metadata": {},
   "outputs": [],
   "source": [
    "import seaborn as sns\n",
    "import matplotlib.pyplot as plt"
   ]
  },
  {
   "cell_type": "code",
   "execution_count": null,
   "metadata": {},
   "outputs": [],
   "source": [
    "\n",
    "ax = sns.scatterplot(x = 'Instances',y = 'Features' , hue = 'Vs_results', data = df)\n",
    "#ax.grid(alpha = 0)\n",
    "plt.savefig('benchmark-pca.png', transparent=True)"
   ]
  },
  {
   "cell_type": "code",
   "execution_count": null,
   "metadata": {},
   "outputs": [],
   "source": [
    "df.columns = ['PCA w/ Original Features', 'PCA w/ Shapley values', 'Instances',\n",
    "       'Features', 'Method']"
   ]
  },
  {
   "cell_type": "code",
   "execution_count": null,
   "metadata": {},
   "outputs": [],
   "source": []
  }
 ],
 "metadata": {
  "kernelspec": {
   "display_name": "Python [conda env:root] *",
   "language": "python",
   "name": "conda-root-py"
  },
  "language_info": {
   "codemirror_mode": {
    "name": "ipython",
    "version": 3
   },
   "file_extension": ".py",
   "mimetype": "text/x-python",
   "name": "python",
   "nbconvert_exporter": "python",
   "pygments_lexer": "ipython3",
   "version": "3.7.1"
  }
 },
 "nbformat": 4,
 "nbformat_minor": 2
}
