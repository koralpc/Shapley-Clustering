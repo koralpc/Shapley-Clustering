{
 "cells": [
  {
   "cell_type": "code",
   "execution_count": null,
   "metadata": {},
   "outputs": [],
   "source": [
    "import sys\n",
    "import os\n",
    "sys.path.append(\"..\")\n",
    "import shap\n",
    "import xgboost\n",
    "import seaborn as sns\n",
    "import pandas as pd\n",
    "import matplotlib.pyplot as plt\n",
    "import matplotlib.ticker as ticker\n",
    "import numpy as np\n",
    "import colorsys\n",
    "from sklearn.decomposition import PCA\n",
    "from sklearn.metrics.pairwise import manhattan_distances\n",
    "from sklearn.model_selection import train_test_split\n",
    "from sklearn.manifold import TSNE\n",
    "from sklearn import preprocessing\n",
    "from Framework.models import ShapleyModel\n",
    "from Framework import cluster\n",
    "from sklearn.cluster import KMeans\n",
    "from Framework import datasets\n",
    "from Framework import processing"
   ]
  },
  {
   "cell_type": "code",
   "execution_count": null,
   "metadata": {},
   "outputs": [],
   "source": [
    "print(os.getcwd())\n",
    "\n",
    "shap.initjs()\n",
    "\n",
    "notebook_mode = 'Original-PCA'\n",
    "explainer_type = 'XGBoost'\n",
    "model_type = 'XGBoost'\n",
    "nClusters = 3\n",
    "dataset_count = 2\n",
    "\n",
    "X,y,name = datasets.returnDataset(dataset_count)\n",
    "\n",
    "#X_train_pca,explained_var = processing.dimensional_reduce(PCA(n_components = 3),X_train)\n",
    "#X_test_pca,_ = processing.dimensional_reduce(PCA(n_components = 3),X_test)\n",
    "\n",
    "blackbox_model = ShapleyModel(explainer_type,model_type,nClusters,notebook_mode)\n",
    "\n",
    "X_train_pca,X_train_tr_pca,X_train_val_pca,X_test_pca,y_train_pca,y_train_tr_pca,y_train_val_pca,y_test_pca = processing.prepare_pipeline_reduced_data(X,y,PCA(2))\n",
    "X_train,X_train_tr,X_train_val,X_test,y_train,y_train_tr,y_train_val,y_test = processing.prepare_pipeline_data(X,y)\n",
    "\n",
    "shap_values = blackbox_model.explainShapley(X_train,y_train,X_train_tr,y_train_tr,X_train_val,y_train_val)\n",
    "shap_dataframe = pd.DataFrame(data = shap_values,columns = X_train.columns)\n",
    "\n",
    "shap_dataframe_pca,explained_var_shap = processing.dimensional_reduce(PCA(n_components = 2),shap_dataframe)\n",
    "shap_dataframe_tsne,explained_var_tsne = processing.dimensional_reduce(TSNE(n_components=2),shap_dataframe)\n",
    "\n",
    "X_instanced = pd.concat((X_train_pca,pd.DataFrame(columns = ['instance'])),axis = 1)\n",
    "X_instanced['instance'].iloc[X_train_tr.index] = 'train'\n",
    "X_instanced['instance'].iloc[X_train_val.index] = 'val'\n",
    "y_instanced = pd.concat((pd.DataFrame(y_train_pca,columns=['label']),pd.DataFrame(columns = ['instance'])),axis = 1)\n",
    "y_instanced['instance'].iloc[X_train_tr.index] = 'train'\n",
    "y_instanced['instance'].iloc[X_train_val.index] = 'val'\n",
    "\n",
    "#Gather shapley values and output values in one dataframe\n",
    "\n",
    "shap_instanced = pd.concat((pd.DataFrame(shap_dataframe_pca),pd.DataFrame(columns = ['instance'])),axis = 1)\n",
    "shap_instanced['instance'].loc[X_train_tr.index] = 'train'\n",
    "shap_instanced['instance'].loc[X_train_val.index] = 'val'"
   ]
  },
  {
   "cell_type": "code",
   "execution_count": null,
   "metadata": {},
   "outputs": [],
   "source": [
    "X_instanced.head()"
   ]
  },
  {
   "cell_type": "code",
   "execution_count": null,
   "metadata": {},
   "outputs": [],
   "source": [
    "shap_instanced.head()"
   ]
  },
  {
   "cell_type": "code",
   "execution_count": null,
   "metadata": {},
   "outputs": [],
   "source": [
    "shap_train = shap_instanced\n",
    "shap_clustered = cluster.clusterData(KMeans(n_clusters = 2).fit,shap_dataframe_pca)\n",
    "plt.scatter(x = shap_train[shap_train.columns[0]],y= shap_train[shap_train.columns[1]], c = shap_clustered.labels_)\n",
    "#shap_train.columns"
   ]
  },
  {
   "cell_type": "code",
   "execution_count": null,
   "metadata": {},
   "outputs": [],
   "source": [
    "print('Explained var : {} '.format(explained_var_shap))"
   ]
  },
  {
   "cell_type": "code",
   "execution_count": null,
   "metadata": {},
   "outputs": [],
   "source": [
    "#Split the clusters into a dictionary\n",
    "data_dict,data_dict_original,kmeans_shapley,kmeans_original = blackbox_model.clusterData(X_train_pca,shap_dataframe_pca)\n",
    "\n",
    "y_train_df = pd.DataFrame(y_train)\n",
    "original_split,y_org,original_split_shapley,y_shap = blackbox_model.prepareTrainData(data_dict,data_dict_original,X_instanced,y_instanced,shap_instanced,False)\n"
   ]
  },
  {
   "cell_type": "code",
   "execution_count": null,
   "metadata": {},
   "outputs": [],
   "source": [
    "np.unique(original_split['cluster'])"
   ]
  },
  {
   "cell_type": "code",
   "execution_count": null,
   "metadata": {},
   "outputs": [],
   "source": [
    "variance_arr = []\n",
    "for i in range(3):\n",
    "    shap_PCA,var = processing.dimensional_reduce(PCA(3),original_split_shapley['original_data_cluster{}'.format(i)].iloc[:,0:-1])\n",
    "    shap_PCA = pd.DataFrame(shap_PCA)\n",
    "    variance_arr.append(var)\n",
    "    shap_clustered = cluster.clusterData(KMeans(n_clusters = 2).fit,shap_PCA)\n",
    "    plt.figure()\n",
    "    plt.scatter(x = shap_PCA[shap_PCA.columns[0]],y= shap_PCA[shap_PCA.columns[1]], c = shap_clustered.labels_)\n",
    "    \n",
    "print(variance_arr)"
   ]
  },
  {
   "cell_type": "code",
   "execution_count": null,
   "metadata": {},
   "outputs": [],
   "source": [
    "original_split_shapley['original_data_cluster{}'.format(i)].iloc[:,0:-1]"
   ]
  },
  {
   "cell_type": "code",
   "execution_count": null,
   "metadata": {},
   "outputs": [],
   "source": [
    "model_dict,eval_results = blackbox_model.trainPredictor(original_split,y_org)\n",
    "model_dict_shapley,eval_results_shapley = blackbox_model.trainPredictor(original_split_shapley,y_shap)"
   ]
  },
  {
   "cell_type": "code",
   "execution_count": null,
   "metadata": {},
   "outputs": [],
   "source": [
    "shapley_test = blackbox_model.predictShapleyValues(X_test)\n",
    "shap_test_pca,_ = processing.dimensional_reduce(PCA(n_components = 2),shapley_test)\n",
    "shapley_test_df = pd.DataFrame(shap_test_pca,columns = X_train_pca.columns)\n",
    "data_dict_shapley_test= blackbox_model.clusterDataTest(shap_dataframe_pca,kmeans_shapley.labels_,shapley_test_df)\n",
    "data_dict_original_test= blackbox_model.clusterDataTest(X_train_pca,kmeans_original.labels_,X_test_pca)"
   ]
  },
  {
   "cell_type": "code",
   "execution_count": null,
   "metadata": {},
   "outputs": [],
   "source": [
    "y_test_df = pd.DataFrame(y_test_pca)\n",
    "original_split_test,y_test_org,original_split_shapley_test,y_test_shap = blackbox_model.prepareTrainData(data_dict_shapley_test,data_dict_original_test,X_test_pca,y_test_df,shapley_test_df,True)"
   ]
  },
  {
   "cell_type": "code",
   "execution_count": null,
   "metadata": {},
   "outputs": [],
   "source": [
    "y_test_org.head()"
   ]
  },
  {
   "cell_type": "code",
   "execution_count": null,
   "metadata": {},
   "outputs": [],
   "source": [
    "preds_org['model0'].shape"
   ]
  },
  {
   "cell_type": "code",
   "execution_count": null,
   "metadata": {},
   "outputs": [],
   "source": [
    "preds_org = blackbox_model.predict(original_split_test,model_dict)\n",
    "tot_rmse_org = blackbox_model.evaluate(preds_org,y_test_org)"
   ]
  },
  {
   "cell_type": "code",
   "execution_count": null,
   "metadata": {},
   "outputs": [],
   "source": [
    "preds_shap = blackbox_model.predict(original_split_shapley_test,model_dict_shapley)\n",
    "tot_rmse_shap = blackbox_model.evaluate(preds_shap,y_test_shap)"
   ]
  },
  {
   "cell_type": "code",
   "execution_count": null,
   "metadata": {},
   "outputs": [],
   "source": [
    "y_train_tr = pd.DataFrame(y_train_tr_pca,index = X_train_tr_pca.index)\n",
    "y_train_val = pd.DataFrame(y_train_val_pca,index = X_train_val_pca.index)\n",
    "X_train_tr_pca.sort_index(inplace = True)\n",
    "y_train_tr.sort_index(inplace = True)\n",
    "X_train_val_pca.sort_index(inplace = True)\n",
    "y_train_val.sort_index(inplace = True)\n",
    "\n",
    "exp_model = blackbox_model.trainExtraModel(X_train_tr_pca,y_train_tr.iloc[:,0],X_train_val_pca,y_train_val.iloc[:,0])\n",
    "preds_big = blackbox_model.predict(X_test_pca,exp_model)\n",
    "tot_rmse_big = blackbox_model.evaluate(preds_big,y_test_pca)"
   ]
  },
  {
   "cell_type": "code",
   "execution_count": null,
   "metadata": {},
   "outputs": [],
   "source": [
    "names = ['Whole model','Original_ensemble','Shapley_ensemble']\n",
    "values = [tot_rmse_big,tot_rmse_org[0],tot_rmse_shap[0]]\n",
    "f=open(\"../Data/test_pca.txt\", \"a+\")\n",
    "f.write(dataset_name + ',')\n",
    "[f.write('{0:.3f},'.format(values[v])) for v in range(len(values))]\n",
    "f.write('{0},'.format(nClusters))\n",
    "f.write('{0},'.format(notebook_mode))\n",
    "f.write('{0},'.format(explainer_type))\n",
    "f.write('{0}'.format(model_type))\n",
    "f.write('\\n')\n",
    "f.close()"
   ]
  },
  {
   "cell_type": "code",
   "execution_count": null,
   "metadata": {},
   "outputs": [],
   "source": []
  }
 ],
 "metadata": {
  "kernelspec": {
   "display_name": "Python [conda env:root] *",
   "language": "python",
   "name": "conda-root-py"
  },
  "language_info": {
   "codemirror_mode": {
    "name": "ipython",
    "version": 3
   },
   "file_extension": ".py",
   "mimetype": "text/x-python",
   "name": "python",
   "nbconvert_exporter": "python",
   "pygments_lexer": "ipython3",
   "version": "3.7.1"
  }
 },
 "nbformat": 4,
 "nbformat_minor": 2
}
