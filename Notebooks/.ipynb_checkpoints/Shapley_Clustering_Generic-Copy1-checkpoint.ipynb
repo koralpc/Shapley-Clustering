{
 "cells": [
  {
   "cell_type": "code",
   "execution_count": 1,
   "metadata": {},
   "outputs": [],
   "source": [
    "import sys\n",
    "import os\n",
    "sys.path.append(\"..\")\n",
    "import shap\n",
    "import xgboost\n",
    "import seaborn as sns\n",
    "import pandas as pd\n",
    "import matplotlib.pyplot as plt\n",
    "import matplotlib.ticker as ticker\n",
    "import numpy as np\n",
    "import colorsys\n",
    "from sklearn.decomposition import PCA\n",
    "from sklearn.metrics.pairwise import manhattan_distances\n",
    "from sklearn.model_selection import train_test_split\n",
    "from sklearn import preprocessing\n",
    "from Framework.models import ShapleyModel\n",
    "from Framework import cluster\n",
    "from sklearn.cluster import KMeans\n",
    "from Framework import datasets"
   ]
  },
  {
   "cell_type": "code",
   "execution_count": 2,
   "metadata": {},
   "outputs": [],
   "source": [
    "notebook_mode = 'Original'\n",
    "explainer_type = 'XGBoost'\n",
    "model_type = 'XGBoost'\n",
    "dataset_name = 'Boston'\n",
    "nClusters = 3\n",
    "dataset_count = 3"
   ]
  },
  {
   "cell_type": "code",
   "execution_count": 3,
   "metadata": {},
   "outputs": [],
   "source": [
    "dataset_array = datasets.returnAlldatasets()\n",
    "X,y,name = dataset_array[dataset_count]\n",
    "dataset_name = name\n",
    "X.reset_index(inplace = True)"
   ]
  },
  {
   "cell_type": "code",
   "execution_count": 4,
   "metadata": {},
   "outputs": [],
   "source": [
    "X.drop(['index'],axis = 1,inplace = True)\n",
    "if dataset_name == 'Nhanes':\n",
    "    X.drop(['Unnamed: 0'],axis = 1,inplace = True)\n",
    "\n",
    "## Dropping NA values\n",
    "drop_indexes = np.unique(np.where(X.isna())[0])\n",
    "X.dropna(inplace = True)\n",
    "mask = np.ones(len(y),dtype = bool)\n",
    "mask[drop_indexes] = False\n",
    "y = y[mask]"
   ]
  },
  {
   "cell_type": "code",
   "execution_count": 5,
   "metadata": {},
   "outputs": [],
   "source": [
    "blackbox_model = ShapleyModel(explainer_type,model_type,nClusters,notebook_mode)"
   ]
  },
  {
   "cell_type": "code",
   "execution_count": 47,
   "metadata": {},
   "outputs": [
    {
     "name": "stderr",
     "output_type": "stream",
     "text": [
      "C:\\Users\\koral\\Anaconda3\\lib\\site-packages\\pandas\\core\\frame.py:3697: SettingWithCopyWarning: \n",
      "A value is trying to be set on a copy of a slice from a DataFrame\n",
      "\n",
      "See the caveats in the documentation: http://pandas.pydata.org/pandas-docs/stable/indexing.html#indexing-view-versus-copy\n",
      "  errors=errors)\n"
     ]
    }
   ],
   "source": [
    "# train XGBoost model\n",
    "X_train, X_test, y_train, y_test = train_test_split(X, y, test_size=0.2, random_state=0)\n",
    "\n",
    "X_train.reset_index(inplace = True)\n",
    "X_train.drop(['index'],axis = 1,inplace = True)\n",
    "X_test.reset_index(inplace = True)\n",
    "X_test.drop(['index'],axis = 1,inplace = True)\n",
    "\n",
    "scaler = preprocessing.StandardScaler().fit(X_train)\n",
    "X_train = pd.DataFrame(scaler.transform(X_train),columns = X.columns)\n",
    "X_test = pd.DataFrame(scaler.transform(X_test),columns = X.columns)\n",
    "\n",
    "#scaler_y = preprocessing.StandardScaler().fit(y_train.reshape(-1,1))\n",
    "\n",
    "#y_train = scaler_y.transform(y_train.reshape(-1,1)).reshape(-1,)\n",
    "#y_test = scaler_y.transform(y_test.reshape(-1,1)).reshape(-1,)\n",
    "\n",
    "X_train_tr,X_train_val,y_train_tr,y_train_val = train_test_split(X_train,y_train,test_size = 0.25,random_state = 0)"
   ]
  },
  {
   "cell_type": "code",
   "execution_count": 48,
   "metadata": {},
   "outputs": [
    {
     "data": {
      "text/plain": [
       "array([-0.85066765, -0.18654485, -1.25935861, -1.2849018 ,  0.5797507 ,\n",
       "       -0.21208803, -1.01669835,  0.72023822,  1.0906144 , -0.08437211,\n",
       "       -0.53137784,  1.79305198, -0.69740854,  0.5797507 ,  0.0816586 ,\n",
       "        0.14551656, -1.13164269,  0.51589274,  1.03952803, -1.06778472,\n",
       "        0.10720178,  0.33709044, -1.06778472, -0.54414943, -0.73572332,\n",
       "       -0.4292051 ,  1.57593491,  1.57593491, -0.31426077,  1.65256447,\n",
       "       -1.02946995, -1.39984613, -1.02946995, -0.30148918,  1.53762013,\n",
       "       -0.21208803, -1.2849018 ,  0.87349733,  0.19660293, -0.9400688 ,\n",
       "       -0.2631744 ,  0.77132459,  0.38817681,  0.28600407,  1.37158943,\n",
       "       -0.95284039, -0.7740381 ,  2.02294065, -0.86343925, -0.22485962,\n",
       "       -0.63355058, -0.30148918,  1.97185428,  1.19278714,  0.63083707,\n",
       "        0.40094841, -0.51860625, -0.71018014, -0.33980396,  0.38817681,\n",
       "        0.32431885, -1.32321657, -0.69740854,  1.37158943,  1.74196561,\n",
       "        1.15447236, -1.05501313, -1.54033364,  0.03057223, -0.02051414,\n",
       "       -1.2721302 ,  1.39713262, -0.4292051 , -0.63355058, -0.16100166,\n",
       "       -1.2849018 , -1.19550065, -0.0971437 ,  0.33709044, -0.69740854,\n",
       "       -0.9400688 , -0.28871759,  1.35881784, -0.35257555,  0.59252229,\n",
       "        0.42649159, -1.09332791,  1.0906144 ,  0.33709044,  1.57593491,\n",
       "        1.48653376,  1.15447236,  0.61806548,  0.79686777,  1.20555873,\n",
       "        1.07784281, -0.85066765, -0.48029147, -0.74849491, -0.67186536,\n",
       "       -1.01669835,  1.51207695, -0.51860625, -0.87621084, -0.82512447,\n",
       "       -1.39984613,  0.26046089, -1.1060995 ,  1.37158943,  1.62702128,\n",
       "       -0.13545848, -0.0971437 ,  0.87349733, -0.78680969, -0.64632217,\n",
       "       -1.25935861, -1.08055632, -1.01669835, -0.39089033,  1.9335395 ,\n",
       "        1.02675644, -0.14823007,  0.49034955,  0.88626892, -1.02946995,\n",
       "       -0.45474829, -0.51860625,  1.63979287,  1.03952803, -0.9400688 ,\n",
       "       -0.02051414,  1.67810765, -1.11887109, -0.14823007, -1.1060995 ,\n",
       "        0.93735529,  0.69469503, -1.13164269,  1.84413835,  0.27323248,\n",
       "       -0.85066765, -0.13545848, -1.29767339, -1.6169632 ,  0.01780063,\n",
       "       -1.23381543, -0.16100166,  2.35500205, -1.00392676, -0.72295173,\n",
       "       -0.54414943, -1.37430294,  0.36263363,  1.4226758 , -0.04605733,\n",
       "       -0.92729721, -1.1060995 , -0.63355058,  0.87349733,  1.6014781 ,\n",
       "        1.20555873,  0.61806548,  1.40990421,  0.50312115, -0.69740854,\n",
       "        0.41372   , -0.85066765,  1.23110192, -0.02051414,  1.48653376,\n",
       "       -1.18272906, -1.04224154, -0.81235288, -0.65909377,  0.49034955,\n",
       "       -0.49306306, -1.09332791,  1.16724395,  0.42649159,  1.40990421,\n",
       "       -1.32321657,  0.10720178,  0.83518255,  0.7457814 , -0.25040281,\n",
       "        1.34604625, -0.6080074 , -0.32703236,  1.79305198,  0.18383133,\n",
       "       -0.87621084, -0.90175402, -0.0971437 ,  1.65256447, -1.01669835,\n",
       "       -1.43816091, -0.54414943, -1.16995746,  1.35881784,  0.33709044,\n",
       "        0.20937452, -0.82512447, -0.95284039,  0.82241096,  0.69469503,\n",
       "       -0.12268688,  0.11997337,  1.44821899, -1.16995746,  0.61806548,\n",
       "        1.44821899,  1.53762013, -0.07160051, -0.73572332, -1.23381543,\n",
       "       -1.05501313, -0.17377325,  1.35881784, -0.10991529,  0.26046089,\n",
       "       -0.79958128, -1.05501313,  0.60529389, -1.23381543, -1.36153135,\n",
       "        1.44821899, -0.7740381 ,  0.2349177 , -1.23381543,  0.64360866,\n",
       "        0.04334382, -0.95284039, -0.95284039, -1.02946995, -0.36534714,\n",
       "       -0.86343925,  1.28218828, -1.2721302 , -1.42538931,  1.56316332,\n",
       "       -0.10991529,  1.19278714, -0.76126651, -0.00774255, -1.43816091,\n",
       "        1.06507121, -0.76126651,  1.29495988, -0.73572332, -0.90175402,\n",
       "        2.48271797, -0.78680969,  0.37540522,  0.13274497,  1.6014781 ,\n",
       "        0.00502904,  0.33709044, -0.35257555, -0.97838358,  1.4226758 ,\n",
       "        0.64360866,  0.61806548, -0.55692103, -0.71018014, -1.16995746,\n",
       "       -1.01669835, -0.56969262, -1.24658702,  0.0816586 ,  0.00502904,\n",
       "        0.87349733,  1.99739746,  1.24387351,  0.89904051, -1.1060995 ,\n",
       "        0.27323248, -0.81235288, -1.01669835,  0.15828815, -1.2721302 ,\n",
       "       -0.46751988,  0.61806548, -0.78680969,  1.23110192, -1.46370409,\n",
       "        1.00121325, -1.13164269,  1.55039173, -1.15718587, -1.25935861,\n",
       "        0.47757796,  1.14170077, -0.4292051 ,  1.28218828, -0.6080074 ,\n",
       "        0.86072573, -0.46751988,  2.30391568, -0.2631744 ,  0.42649159,\n",
       "       -1.13164269, -0.2631744 , -0.81235288,  0.45203478,  0.56697911,\n",
       "       -1.18272906,  2.41886001, -0.54414943, -0.64632217, -0.49306306,\n",
       "       -0.91452562,  1.15447236,  0.20937452, -0.30148918,  1.03952803,\n",
       "        0.73300981,  0.93735529, -0.87621084,  0.79686777, -0.71018014,\n",
       "       -0.28871759, -1.33598817,  0.98844166,  1.80582358, -0.99115517,\n",
       "        0.64360866,  0.15828815,  0.64360866, -1.18272906, -0.7740381 ,\n",
       "       -0.40366192, -0.00774255,  2.02294065, -0.78680969, -0.45474829,\n",
       "       -0.05882892, -1.38707454, -1.39984613, -1.32321657, -0.22485962,\n",
       "       -0.86343925, -1.02946995, -1.11887109, -1.04224154,  2.02294065,\n",
       "        2.03571224, -0.37811873,  1.16724395,  1.23110192, -0.7740381 ,\n",
       "        1.65256447, -0.12268688,  1.83136676])"
      ]
     },
     "execution_count": 48,
     "metadata": {},
     "output_type": "execute_result"
    }
   ],
   "source": [
    "y_train"
   ]
  },
  {
   "cell_type": "code",
   "execution_count": 7,
   "metadata": {},
   "outputs": [
    {
     "name": "stdout",
     "output_type": "stream",
     "text": [
      "[0]\ttrain-rmse:168.758\ttest-rmse:178.199\n",
      "Multiple eval metrics have been passed: 'test-rmse' will be used for early stopping.\n",
      "\n",
      "Will train until test-rmse hasn't improved in 100 rounds.\n",
      "[499]\ttrain-rmse:50.3879\ttest-rmse:50.2218\n"
     ]
    }
   ],
   "source": [
    "shap_values = blackbox_model.explainShapley(X_train,y_train,X_train_val,y_train_val)"
   ]
  },
  {
   "cell_type": "code",
   "execution_count": 8,
   "metadata": {},
   "outputs": [
    {
     "name": "stderr",
     "output_type": "stream",
     "text": [
      "C:\\Users\\koral\\Anaconda3\\lib\\site-packages\\pandas\\core\\indexing.py:189: SettingWithCopyWarning: \n",
      "A value is trying to be set on a copy of a slice from a DataFrame\n",
      "\n",
      "See the caveats in the documentation: http://pandas.pydata.org/pandas-docs/stable/indexing.html#indexing-view-versus-copy\n",
      "  self._setitem_with_indexer(indexer, value)\n"
     ]
    }
   ],
   "source": [
    "X_instanced = pd.concat((X_train,pd.DataFrame(columns = ['instance'])),axis = 1)\n",
    "X_instanced['instance'].iloc[X_train_tr.index] = 'train'\n",
    "X_instanced['instance'].iloc[X_train_val.index] = 'test'\n",
    "y_instanced = pd.concat((pd.DataFrame(y_train),pd.DataFrame(columns = ['instance'])),axis = 1)\n",
    "y_instanced['instance'].iloc[X_train_tr.index] = 'train'\n",
    "y_instanced['instance'].iloc[X_train_val.index] = 'test'"
   ]
  },
  {
   "cell_type": "code",
   "execution_count": 9,
   "metadata": {},
   "outputs": [],
   "source": [
    "shap_dataframe = pd.DataFrame(data = shap_values,columns = X.columns)\n"
   ]
  },
  {
   "cell_type": "code",
   "execution_count": 10,
   "metadata": {},
   "outputs": [],
   "source": [
    "shap_instanced = pd.concat((shap_dataframe,pd.DataFrame(columns = ['instance'])),axis = 1)\n",
    "shap_instanced['instance'].loc[X_train_tr.index] = 'train'\n",
    "shap_instanced['instance'].loc[X_train_val.index] = 'test'"
   ]
  },
  {
   "cell_type": "code",
   "execution_count": 11,
   "metadata": {},
   "outputs": [],
   "source": [
    "data_dict,data_dict_original,kmeans_shapley,kmeans_original = blackbox_model.clusterData(X_train,shap_dataframe)"
   ]
  },
  {
   "cell_type": "code",
   "execution_count": 13,
   "metadata": {},
   "outputs": [],
   "source": [
    "original_split,original_split_shapley = blackbox_model.prepareTrainData(data_dict,data_dict_original,X_instanced,y_instanced,shap_instanced,False)"
   ]
  },
  {
   "cell_type": "code",
   "execution_count": 14,
   "metadata": {},
   "outputs": [
    {
     "name": "stdout",
     "output_type": "stream",
     "text": [
      "[0]\ttrain-rmse:113.529\ttest-rmse:126.575\n",
      "Multiple eval metrics have been passed: 'test-rmse' will be used for early stopping.\n",
      "\n",
      "Will train until test-rmse hasn't improved in 100 rounds.\n",
      "Stopping. Best iteration:\n",
      "[430]\ttrain-rmse:37.8006\ttest-rmse:50.2846\n",
      "\n",
      "[0]\ttrain-rmse:214.433\ttest-rmse:211.581\n",
      "Multiple eval metrics have been passed: 'test-rmse' will be used for early stopping.\n",
      "\n",
      "Will train until test-rmse hasn't improved in 100 rounds.\n",
      "Stopping. Best iteration:\n",
      "[498]\ttrain-rmse:43.6008\ttest-rmse:62.8767\n",
      "\n",
      "[0]\ttrain-rmse:168.622\ttest-rmse:180.763\n",
      "Multiple eval metrics have been passed: 'test-rmse' will be used for early stopping.\n",
      "\n",
      "Will train until test-rmse hasn't improved in 100 rounds.\n",
      "Stopping. Best iteration:\n",
      "[408]\ttrain-rmse:49.4587\ttest-rmse:65.9236\n",
      "\n"
     ]
    }
   ],
   "source": [
    "model_dict,eval_results = blackbox_model.trainPredictor(original_split)"
   ]
  },
  {
   "cell_type": "code",
   "execution_count": 34,
   "metadata": {},
   "outputs": [
    {
     "name": "stdout",
     "output_type": "stream",
     "text": [
      "[0]\ttrain-rmse:107.455\ttest-rmse:118.794\n",
      "Multiple eval metrics have been passed: 'test-rmse' will be used for early stopping.\n",
      "\n",
      "Will train until test-rmse hasn't improved in 100 rounds.\n",
      "Stopping. Best iteration:\n",
      "[409]\ttrain-rmse:39.2706\ttest-rmse:52.8346\n",
      "\n",
      "[0]\ttrain-rmse:224.85\ttest-rmse:235.116\n",
      "Multiple eval metrics have been passed: 'test-rmse' will be used for early stopping.\n",
      "\n",
      "Will train until test-rmse hasn't improved in 100 rounds.\n",
      "Stopping. Best iteration:\n",
      "[391]\ttrain-rmse:42.8601\ttest-rmse:65.3337\n",
      "\n",
      "[0]\ttrain-rmse:175.394\ttest-rmse:167.902\n",
      "Multiple eval metrics have been passed: 'test-rmse' will be used for early stopping.\n",
      "\n",
      "Will train until test-rmse hasn't improved in 100 rounds.\n",
      "Stopping. Best iteration:\n",
      "[241]\ttrain-rmse:59.2574\ttest-rmse:62.0953\n",
      "\n"
     ]
    }
   ],
   "source": [
    "model_dict_shapley,eval_results_shapley = blackbox_model.trainPredictor(original_split_shapley)"
   ]
  },
  {
   "cell_type": "code",
   "execution_count": 33,
   "metadata": {},
   "outputs": [
    {
     "data": {
      "image/png": "[encoded data removed]",
      "text/plain": [
       "<Figure size 432x288 with 1 Axes>"
      ]
     },
     "metadata": {
      "needs_background": "light"
     },
     "output_type": "display_data"
    }
   ],
   "source": [
    "for i in range(3):\n",
    "    plt.scatter(np.arange(len(original_split['original_data_cluster{0}'.format(i)])),original_split['original_label_cluster{0}'.format(i)][0])"
   ]
  },
  {
   "cell_type": "code",
   "execution_count": 35,
   "metadata": {},
   "outputs": [],
   "source": [
    "shapley_test = blackbox_model.predictShapleyValues(X_test)\n",
    "shapley_test_df = pd.DataFrame(shapley_test,columns = X.columns)\n",
    "data_dict_shapley_test= blackbox_model.clusterDataTest(shap_values,kmeans_shapley.labels_,shapley_test_df)\n",
    "data_dict_original_test= blackbox_model.clusterDataTest(X_train,kmeans_original.labels_,X_test)"
   ]
  },
  {
   "cell_type": "code",
   "execution_count": 37,
   "metadata": {},
   "outputs": [],
   "source": [
    "y_test_df = pd.DataFrame(y_test)\n",
    "original_split_test,original_split_shapley_test = blackbox_model.prepareTrainData(data_dict_shapley_test,data_dict_original_test,X_test,y_test_df,shapley_test_df)"
   ]
  },
  {
   "cell_type": "code",
   "execution_count": 39,
   "metadata": {},
   "outputs": [
    {
     "data": {
      "image/png": "[encoded data removed]",
      "text/plain": [
       "<Figure size 432x288 with 1 Axes>"
      ]
     },
     "metadata": {
      "needs_background": "light"
     },
     "output_type": "display_data"
    }
   ],
   "source": [
    "for i in range(3):\n",
    "    plt.scatter(np.arange(len(original_split_test['cluster{0}'.format(i)])),original_split_test['label_cluster{0}'.format(i)][0])"
   ]
  },
  {
   "cell_type": "code",
   "execution_count": 40,
   "metadata": {},
   "outputs": [
    {
     "data": {
      "text/plain": [
       "{'cluster0':          age       sex       bmi        bp        s1        s2        s3  \\\n",
       " 3  -0.281151 -0.974821 -0.465504 -0.838278 -0.343852  0.117217 -0.368964   \n",
       " 6   0.318978 -0.974821 -0.575743 -0.179666 -0.080999 -0.188718  0.957272   \n",
       " 8  -1.106329 -0.974821  1.121943 -0.545562 -1.161616 -0.700826 -0.290950   \n",
       " 10  0.093930 -0.974821 -1.171035 -0.472382 -1.424469 -1.432409 -1.149102   \n",
       " 13 -0.431183 -0.974821 -0.928509 -2.082325 -1.599704 -1.252839 -0.368964   \n",
       " 15 -1.781474  1.025829 -0.443456  0.039872 -0.781940 -0.541208  0.333161   \n",
       " 16 -1.406393 -0.974821 -1.193083  0.698485 -1.073998 -1.033364 -0.212936   \n",
       " 17 -0.056103 -0.974821 -1.038748 -0.545562 -0.168616 -0.388240  1.581383   \n",
       " 18 -2.006522 -0.974821 -1.700184  0.186230 -2.183821 -1.904613 -0.290950   \n",
       " 21 -0.206135 -0.974821  0.240028 -1.204174 -0.519087 -0.893698  0.645217   \n",
       " 23  0.093930 -0.974821  1.210134 -0.911458 -1.541292 -1.518869  0.411175   \n",
       " 27  0.318978 -0.974821 -0.906461 -1.204174 -0.723528 -1.126474  1.581383   \n",
       " 31 -0.356167 -0.974821 -1.060796 -0.691920 -0.927969 -0.754032  0.411175   \n",
       " 32 -1.556425 -0.974821 -0.200929 -0.106486 -1.395263 -1.192982 -0.056908   \n",
       " 33 -2.231571 -0.974821 -0.222977 -0.838278  1.058030  1.387512 -0.290950   \n",
       " 38  0.318978 -0.974821  0.041597  0.186230  0.123442  0.250232  0.645217   \n",
       " 40 -0.281151 -0.974821 -1.325370 -1.472498  0.035825  0.376597 -0.056908   \n",
       " 43  1.069139 -0.974821 -0.068642 -0.643134 -0.986381 -1.219585 -0.290950   \n",
       " 45  1.369204 -0.974821 -1.237179 -0.838278 -0.548293 -0.501303  0.723231   \n",
       " 47 -1.031312 -0.974821  0.526650  0.186230  0.444707  0.396549  1.113300   \n",
       " 51 -0.956296  1.025829 -0.950557 -0.326024 -0.840351 -0.507954  0.021106   \n",
       " 57 -1.481409 -0.974821 -0.068642 -0.838278 -1.395263 -1.651884  1.113300   \n",
       " 65 -1.931506 -0.974821  0.592794 -0.326024  0.795177  0.549517  1.191314   \n",
       " 66 -0.206135 -0.974821 -1.259227 -1.570070 -0.489881 -0.261876  0.099120   \n",
       " 69 -0.956296 -0.974821 -1.479705 -1.716429  1.788177  0.609373  3.687757   \n",
       " 70  0.243962 -0.974821 -0.509599 -0.838278 -0.635910 -0.940253  1.659397   \n",
       " 73  1.369204 -0.974821  0.769177 -1.057816 -0.489881 -0.714127  1.035286   \n",
       " 82  0.469010  1.025829 -0.399360 -0.765099 -0.285440 -0.301780  1.269328   \n",
       " 84 -1.481409  1.025829 -1.810423 -1.570070 -0.898763 -0.527906 -0.681019   \n",
       " 85  0.018913 -0.974821 -1.435610 -0.472382 -0.022587 -0.002496  0.567203   \n",
       " 86 -1.556425 -0.974821  0.901464 -0.691920  0.269472  0.024107  1.347341   \n",
       " 88 -1.106329 -0.974821 -0.178881 -0.106486  0.853589  0.968514  0.567203   \n",
       " \n",
       "           s4        s5        s6  \n",
       " 3  -0.062784 -0.785774 -0.773596  \n",
       " 6  -0.830724 -0.628415 -0.857543  \n",
       " 8  -0.830724 -1.513169 -1.193330  \n",
       " 10 -0.062784  0.875113 -1.697012  \n",
       " 13 -0.830724 -1.049978 -0.941490  \n",
       " 15 -0.830724 -1.473146 -0.353861  \n",
       " 16 -0.830724  0.040373  0.485608  \n",
       " 17 -0.830724 -1.395594 -1.864906  \n",
       " 18 -1.598664 -1.285008 -0.689649  \n",
       " 21 -0.830724  0.347201 -0.102020  \n",
       " 23 -1.598664 -1.049978 -0.521755  \n",
       " 27 -1.598664 -0.869743  0.821396  \n",
       " 31 -0.830724 -1.395594 -0.605702  \n",
       " 32 -0.830724 -0.869743 -0.018074  \n",
       " 33  0.705156  0.142838 -0.605702  \n",
       " 38 -0.830724 -0.927903  0.653502  \n",
       " 40 -0.154937 -0.628415 -1.025437  \n",
       " 43 -0.546586  0.735474  0.485608  \n",
       " 45 -0.830724 -1.147095 -1.193330  \n",
       " 47 -0.830724 -0.841330  0.149820  \n",
       " 51 -0.830724 -1.285008 -0.773596  \n",
       " 57 -1.598664 -1.049978 -0.689649  \n",
       " 65 -0.830724 -0.105661 -0.018074  \n",
       " 66 -0.830724 -0.731829 -0.941490  \n",
       " 69 -0.830724 -0.086768  0.065873  \n",
       " 70 -1.598664 -1.473146  0.233767  \n",
       " 73 -0.830724 -0.530446 -0.773596  \n",
       " 82 -0.830724 -1.969337 -0.353861  \n",
       " 84 -0.062784 -0.264138 -1.109383  \n",
       " 85 -0.830724 -0.460212  0.149820  \n",
       " 86 -0.830724 -0.554459 -0.941490  \n",
       " 88 -0.062784 -0.370509 -0.269914  , 'label_cluster0':         0\n",
       " 3    64.0\n",
       " 6   179.0\n",
       " 8   142.0\n",
       " 10  252.0\n",
       " 13   74.0\n",
       " 15   49.0\n",
       " 16   86.0\n",
       " 17   75.0\n",
       " 18  101.0\n",
       " 21  276.0\n",
       " 23  136.0\n",
       " 27   93.0\n",
       " 31  181.0\n",
       " 32  168.0\n",
       " 33  200.0\n",
       " 38   49.0\n",
       " 40   96.0\n",
       " 43  198.0\n",
       " 45   89.0\n",
       " 47  182.0\n",
       " 51  138.0\n",
       " 57   61.0\n",
       " 65  302.0\n",
       " 66   53.0\n",
       " 69   57.0\n",
       " 70   98.0\n",
       " 73   90.0\n",
       " 82   47.0\n",
       " 84  104.0\n",
       " 85   49.0\n",
       " 86  103.0\n",
       " 88   59.0, 'cluster1':          age       sex       bmi        bp        s1        s2        s3  \\\n",
       " 1  -0.281151 -0.974821  1.254230  1.137560  1.028824  0.642627 -0.368964   \n",
       " 7   1.219172  1.025829  0.482555  1.064381  0.357089  0.270185 -0.290950   \n",
       " 11  0.619043  1.025829  0.967608 -0.326024  0.444707  1.094879 -1.227116   \n",
       " 14  1.294188  1.025829  1.827475  1.503456  0.444707  0.815547 -1.071088   \n",
       " 19  0.619043 -0.974821  0.835321  1.649814  0.386295  0.822198 -0.603005   \n",
       " 24 -1.556425  1.025829  1.143991 -0.838278  1.145648  1.148085 -0.915061   \n",
       " 25  0.318978 -0.974821  0.372315 -0.472382  1.291677  0.961864  0.645217   \n",
       " 29  0.018913  1.025829  0.548698 -0.179666  0.532325  0.835499 -0.446977   \n",
       " 34  0.919107 -0.974821 -0.112738 -0.326024  2.664353  2.677759  0.411175   \n",
       " 41 -1.181345  1.025829 -0.200929  0.552126  0.503119  0.868753 -0.837047   \n",
       " 42  0.544026 -0.974821 -0.134786 -1.057816  1.612942  1.221243  0.723231   \n",
       " 55 -1.106329  1.025829 -0.355264  1.722993  1.905000  2.305317 -0.837047   \n",
       " 56 -0.506200 -0.974821  0.636890 -0.106486  1.758971  1.972779 -0.368964   \n",
       " 58  1.444220 -0.974821 -0.090690 -0.106486  1.875795  2.205555  0.255147   \n",
       " 62  0.544026 -0.974821  1.033751 -1.155388 -0.051793  0.882054 -1.227116   \n",
       " 67 -0.581216 -0.974821  0.989656 -0.984637  0.736766  1.234545 -1.695199   \n",
       " 68 -1.706458  1.025829  0.879416 -0.399203  0.853589  1.241195 -1.461158   \n",
       " 71  1.294188  1.025829 -0.509599  0.259410  1.379295  1.048323  0.645217   \n",
       " 76 -0.131119  1.025829 -0.311168 -1.423712  1.058030  1.700098 -0.603005   \n",
       " 77 -0.581216  1.025829  1.254230  1.064381  1.817383  1.853065 -0.056908   \n",
       " 78  0.994123  1.025829  1.673139  0.478947  0.941207  1.380861 -1.149102   \n",
       " 79  0.243962 -0.974821  0.548698  1.357097  2.664353  1.966128  1.347341   \n",
       " 80  0.093930 -0.974821 -0.046594  1.064381  1.583736  1.520527  0.957272   \n",
       " 83  0.393994  1.025829  0.306172  1.357097  0.327883  0.449755 -0.993075   \n",
       " \n",
       "           s4        s5        s6  \n",
       " 1   0.705156  1.432771  0.149820  \n",
       " 7  -0.062784  0.806603  0.401661  \n",
       " 11  1.473096  0.126148  0.149820  \n",
       " 14  1.473096  0.597561  1.492971  \n",
       " 19  0.705156 -0.031212  2.416387  \n",
       " 24  1.473096  1.249576 -0.689649  \n",
       " 25 -0.062784  0.759487 -0.018074  \n",
       " 29  0.705156  0.192030  0.065873  \n",
       " 34  0.705156  0.661518 -0.102020  \n",
       " 41  0.705156  0.420190  1.157183  \n",
       " 42 -0.062784  0.886290  0.317714  \n",
       " 55  2.241036  0.735474 -0.857543  \n",
       " 56  1.473096  0.674050  0.065873  \n",
       " 58  0.705156 -0.183213  0.569555  \n",
       " 62  1.089126 -1.081790 -0.102020  \n",
       " 67  2.701801  0.919424  2.668228  \n",
       " 68  2.241036  0.962705 -0.773596  \n",
       " 71 -0.062784  0.783194  0.401661  \n",
       " 76  0.705156 -0.370509  0.905343  \n",
       " 77  0.705156  0.771378  0.989289  \n",
       " 78  1.473096  0.661518  0.989289  \n",
       " 79 -0.062784  1.174753 -0.437808  \n",
       " 80 -0.062784 -0.031212 -0.185967  \n",
       " 83  0.705156  0.951979  1.828759  , 'label_cluster1':         0\n",
       " 1   215.0\n",
       " 7   232.0\n",
       " 11  174.0\n",
       " 14  264.0\n",
       " 19  155.0\n",
       " 24   68.0\n",
       " 25  128.0\n",
       " 29  196.0\n",
       " 34  219.0\n",
       " 41  179.0\n",
       " 42   95.0\n",
       " 55  171.0\n",
       " 56  122.0\n",
       " 58  230.0\n",
       " 62  144.0\n",
       " 67  317.0\n",
       " 68  137.0\n",
       " 71  170.0\n",
       " 76  104.0\n",
       " 77  186.0\n",
       " 78  180.0\n",
       " 79  283.0\n",
       " 80  141.0\n",
       " 83  297.0, 'cluster2':          age       sex       bmi        bp        s1        s2        s3  \\\n",
       " 0   0.393994  1.025829  2.158193  1.503456 -0.752734 -0.547859 -0.524991   \n",
       " 2   0.769075  1.025829  0.195932  0.918022 -0.898763 -0.428145 -0.837047   \n",
       " 4  -0.506200 -0.974821  0.945560  1.942531 -0.373057 -0.734080  1.503369   \n",
       " 5  -0.431183 -0.974821  2.003857 -0.106486 -0.110205 -0.488002 -0.446977   \n",
       " 9  -0.656232 -0.974821  0.967608  0.332589 -0.343852 -0.980158  0.021106   \n",
       " 12  0.469010  1.025829 -0.752126 -0.984637 -1.920968 -1.585377 -0.681019   \n",
       " 20 -0.656232  1.025829  0.592794  1.503456 -2.680321 -2.250453 -1.149102   \n",
       " 22  1.069139  1.025829 -0.487551  1.210739 -0.139410 -0.088956 -0.446977   \n",
       " 26  0.994123 -0.974821 -0.840317  2.235248  0.765971 -0.527906  3.765771   \n",
       " 28  0.393994 -0.974821  0.107741  0.991201 -0.373057 -1.139776  1.347341   \n",
       " 30  0.919107  1.025829 -0.046594  2.308427  0.765971  0.496310  0.567203   \n",
       " 35  0.318978 -0.974821  0.438459  0.478947 -0.285440 -0.261876 -0.134922   \n",
       " 36 -0.506200 -0.974821 -0.311168 -0.252845  0.444707  0.895356 -0.915061   \n",
       " 37  0.694059  1.025829 -0.178881  1.283918 -0.752734 -0.142162 -1.617185   \n",
       " 39  0.243962 -0.974821  0.703033  0.722878  0.649148  0.596072 -0.056908   \n",
       " 44  0.168946  1.025829  0.636890  0.918022 -0.051793  0.802245 -1.383144   \n",
       " 46  0.919107 -0.974821 -0.377312  0.478947  0.590736 -0.268527  2.127480   \n",
       " 48 -0.056103  1.025829 -0.663934 -0.374810  0.678354  0.928610 -0.290950   \n",
       " 49 -0.056103 -0.974821  0.703033  2.674323  0.532325  0.576120 -0.212936   \n",
       " 50  0.844091  1.025829 -0.443456  0.625305 -1.395263 -0.940253 -1.305130   \n",
       " 52 -0.431183 -0.974821  0.394363  1.942531  0.094237  0.203677  0.801244   \n",
       " 53  0.919107  1.025829 -0.156833 -0.691920 -0.139410  0.044059 -0.837047   \n",
       " 54 -0.131119 -0.974821  0.901464  1.869352  0.298678  0.170423 -0.290950   \n",
       " 59  0.844091  1.025829  0.262076  0.844843  1.174854  0.961864  0.099120   \n",
       " 60 -0.881280 -0.974821  0.857368 -0.545562 -0.665116 -0.627668 -0.759033   \n",
       " 61 -0.131119 -0.974821  0.504603  0.186230 -0.723528 -0.807238  0.489189   \n",
       " 63  0.318978  1.025829 -0.421408 -0.179666  0.736766  1.035022  0.021106   \n",
       " 64  0.994123 -0.974821  1.254230 -0.472382 -0.489881 -1.525520 -0.915061   \n",
       " 72  0.769075  1.025829 -0.597791 -1.570070 -0.256234 -0.248574  0.099120   \n",
       " 74 -0.731248  1.025829  0.129789 -0.106486 -1.541292 -1.312696 -0.134922   \n",
       " 75 -0.956296  1.025829 -0.487551  1.283918  0.123442  0.336692 -1.149102   \n",
       " 81  1.144155  1.025829  0.217980  1.064381 -0.080999 -0.241924 -0.915061   \n",
       " 87 -0.881280  1.025829  0.306172 -0.106486 -0.256234  0.150471 -1.539172   \n",
       " \n",
       "           s4        s5        s6  \n",
       " 0  -0.062784  0.075159  0.821396  \n",
       " 2  -0.062784 -0.370509  0.149820  \n",
       " 4  -0.830724 -0.705432 -0.185967  \n",
       " 5  -0.062784  1.258721  0.821396  \n",
       " 9  -0.062784  1.294858 -0.521755  \n",
       " 12 -0.830724 -0.628415 -0.269914  \n",
       " 20 -1.007350 -0.628415  0.317714  \n",
       " 22 -0.062784  0.544763 -0.773596  \n",
       " 26 -1.598664 -0.264138  0.317714  \n",
       " 28 -0.830724  0.584501  1.241130  \n",
       " 30 -0.062784  0.571349  0.401661  \n",
       " 35 -0.062784  0.271232  0.821396  \n",
       " 36  0.705156  0.286676 -0.185967  \n",
       " 37  1.473096  0.224117 -0.437808  \n",
       " 39  0.175277  0.636198  0.569555  \n",
       " 44  1.473096 -0.483330  0.317714  \n",
       " 46 -0.830724  0.362030 -0.269914  \n",
       " 48  0.405659  0.208142  0.569555  \n",
       " 49 -0.062784  0.544763  1.241130  \n",
       " 50 -0.062784  0.057847 -1.109383  \n",
       " 52 -0.830724 -1.180627  0.149820  \n",
       " 53  0.705156  0.610529  0.569555  \n",
       " 54 -0.062784  0.863868 -0.353861  \n",
       " 59 -0.062784  0.930339 -0.018074  \n",
       " 60  0.052407  0.686498 -0.353861  \n",
       " 61 -0.830724 -0.327228 -0.269914  \n",
       " 63 -0.062784 -0.264138  0.485608  \n",
       " 64 -0.062784  2.125389  0.737449  \n",
       " 72 -0.062784  0.075159 -0.605702  \n",
       " 74 -0.830724 -0.927903  0.653502  \n",
       " 75  1.473096  0.863868  0.317714  \n",
       " 81  0.705156  1.240386  0.653502  \n",
       " 87  1.473096  0.723350 -0.269914  , 'label_cluster2':         0\n",
       " 0   321.0\n",
       " 2   127.0\n",
       " 4   175.0\n",
       " 5   275.0\n",
       " 9    99.0\n",
       " 12  129.0\n",
       " 20  170.0\n",
       " 22  110.0\n",
       " 26  103.0\n",
       " 28  191.0\n",
       " 30  217.0\n",
       " 35  281.0\n",
       " 36  151.0\n",
       " 37  257.0\n",
       " 39  198.0\n",
       " 44  244.0\n",
       " 46  214.0\n",
       " 48   84.0\n",
       " 49  270.0\n",
       " 50  156.0\n",
       " 52  113.0\n",
       " 53  131.0\n",
       " 54  195.0\n",
       " 59  235.0\n",
       " 60   52.0\n",
       " 61  121.0\n",
       " 63  107.0\n",
       " 64  132.0\n",
       " 72   88.0\n",
       " 74   67.0\n",
       " 75  163.0\n",
       " 81  150.0\n",
       " 87  142.0}"
      ]
     },
     "execution_count": 40,
     "metadata": {},
     "output_type": "execute_result"
    }
   ],
   "source": [
    "original_split_test"
   ]
  },
  {
   "cell_type": "code",
   "execution_count": null,
   "metadata": {},
   "outputs": [],
   "source": []
  }
 ],
 "metadata": {
  "kernelspec": {
   "display_name": "Python [conda env:root] *",
   "language": "python",
   "name": "conda-root-py"
  },
  "language_info": {
   "codemirror_mode": {
    "name": "ipython",
    "version": 3
   },
   "file_extension": ".py",
   "mimetype": "text/x-python",
   "name": "python",
   "nbconvert_exporter": "python",
   "pygments_lexer": "ipython3",
   "version": "3.7.1"
  }
 },
 "nbformat": 4,
 "nbformat_minor": 2
}
