{
 "cells": [
  {
   "cell_type": "markdown",
   "metadata": {},
   "source": [
    "### This notebook is the benchmark notebook, where test results of each test notebook is combined together"
   ]
  },
  {
   "cell_type": "code",
   "execution_count": 1,
   "metadata": {},
   "outputs": [],
   "source": [
    "%load_ext autoreload"
   ]
  },
  {
   "cell_type": "code",
   "execution_count": 2,
   "metadata": {},
   "outputs": [],
   "source": [
    "%autoreload 2"
   ]
  },
  {
   "cell_type": "code",
   "execution_count": 3,
   "metadata": {},
   "outputs": [],
   "source": [
    "import os\n",
    "import sys\n",
    "sys.path.append('..')\n",
    "from Framework.visualisation import *\n",
    "from Framework.utils import *\n",
    "import pandas as pd\n",
    "import numpy as np\n",
    "import seaborn as sns\n",
    "import matplotlib.pyplot as plt\n",
    "import matplotlib.colors as mcolors"
   ]
  },
  {
   "cell_type": "code",
   "execution_count": null,
   "metadata": {},
   "outputs": [],
   "source": [
    "def plot_results(benchmark,normalize = True):\n",
    "    if normalize:\n",
    "        benchmark_norm = benchmark.iloc[:,2:-3].div(benchmark.sum(axis=1), axis=0)\n",
    "        key = 'Normalized'\n",
    "    else:\n",
    "        benchmark_norm = benchmark.iloc[:,2:-3]\n",
    "        key = 'Un-Normalized'\n",
    "    plt.figure()\n",
    "    y = np.arange(len(benchmark_norm.columns))\n",
    "    col_labels = np.array(benchmark_norm.columns)\n",
    "    for i in range(len(benchmark)):\n",
    "        y_pos = y + i * (1/(2*len(col_labels)))\n",
    "        plt.barh(y_pos,benchmark_norm.iloc[i,:],height = 1/(2*len(col_labels)),label = benchmark['Data_Type'][i] +  benchmark['Explainer_Type'][i][:3] +benchmark['Model_Type'][i][:3])\n",
    "    plt.yticks([r + (1/(len(col_labels))) for r in range(len(y))], col_labels)\n",
    "    plt.legend()\n",
    "    plt.title(key + ' test errors in different datasets vs. method used (Trained over {0} via explainer {1} & model {2})'.format(benchmark.iloc[0,-3],benchmark.iloc[0,-2],benchmark.iloc[0,-1]))"
   ]
  },
  {
   "cell_type": "code",
   "execution_count": null,
   "metadata": {},
   "outputs": [],
   "source": [
    "def label_vs(row,branch1,branch2):\n",
    "    if row[branch1] < row[branch2] :\n",
    "        return branch1\n",
    "    elif row[branch1] > row[branch2] :\n",
    "        return branch2\n",
    "    else :\n",
    "        return 'Draw'"
   ]
  },
  {
   "cell_type": "code",
   "execution_count": null,
   "metadata": {},
   "outputs": [],
   "source": [
    "def numerate_vs(row,branch1,branch2):\n",
    "    if row['Vs_results'] == branch1 :\n",
    "        return 1\n",
    "    elif row['Vs_results'] == branch2 :\n",
    "        return 2\n",
    "    else :\n",
    "        return 0"
   ]
  },
  {
   "cell_type": "code",
   "execution_count": null,
   "metadata": {},
   "outputs": [],
   "source": [
    "def visualize_vs(benchmark_df,branch1,branch2,label_opt = None):\n",
    "    bench_b1_vs_b2 = benchmark_df.copy()\n",
    "    bsl1 = bench_b1_vs_b2.groupby('Dataset_name').agg({branch1 : min})\n",
    "    bsl2 = bench_b1_vs_b2.groupby('Dataset_name').agg({branch2 : min})\n",
    "    for j in range(len(bench_b1_vs_b2['Dataset_name'])):\n",
    "        bench_b1_vs_b2[branch1].iloc[j] = bsl1.loc[bench_b1_vs_b2['Dataset_name'].iloc[j]][0]\n",
    "        bench_b1_vs_b2[branch2].iloc[j] = bsl2.loc[bench_b1_vs_b2['Dataset_name'].iloc[j]][0]\n",
    "    bench_b1_vs_b2['Vs_results'] = bench_b1_vs_b2.apply(lambda x : label_vs(x,branch1,branch2) ,axis = 1)\n",
    "    bench_df_grouped = bench_b1_vs_b2.groupby('Vs_results').agg({'Dataset_name':'nunique'})\n",
    "    bench_df_grouped.reset_index(inplace = True)\n",
    "    bench_df_grouped.columns = ['Comparison Winner','Number of Wins']\n",
    "    bench_df_grouped_cat = bench_b1_vs_b2.groupby(['Dataset_name','Vs_results']).agg({'Dataset_name':'nunique'})\n",
    "    bench_df_grouped_cat.columns = ['Dataset Index']\n",
    "    bench_df_grouped_cat['Dataset Index'] = np.arange(bench_df_grouped_cat.shape[0])\n",
    "    bench_df_grouped_cat.reset_index(inplace = True)\n",
    "\n",
    "    ax1 = sns.barplot(y = 'Number of Wins',x = 'Comparison Winner',data = bench_df_grouped)\n",
    "    ax2 = sns.catplot(x = 'Vs_results',y ='Dataset Index',hue = 'Dataset_name',data = bench_df_grouped_cat)\n",
    "    if label_opt is None:\n",
    "        ax2.set(xlabel='Better Performance',ylabel = 'Datasets',yticks = np.arange(bench_df_grouped_cat.shape[0]))\n",
    "        ax2.set_yticklabels(list(bench_df_grouped_cat['Dataset_name']))\n",
    "        plt.show()\n",
    "    else:\n",
    "        label_opt_list = [label_opt[i] for i in bench_df_grouped['Comparison Winner']]\n",
    "        print(label_opt_list)\n",
    "        ax1.set_xticklabels(label_opt_list)\n",
    "        ax2.set_xticklabels(label_opt_list)\n",
    "        ax2.set(xlabel='Better Performance',ylabel = 'Datasets',yticks = np.arange(bench_df_grouped_cat.shape[0]))\n",
    "        ax2.set_yticklabels(list(bench_df_grouped_cat['Dataset_name']))\n",
    "        plt.show()        "
   ]
  },
  {
   "cell_type": "code",
   "execution_count": null,
   "metadata": {},
   "outputs": [],
   "source": [
    "from os import listdir\n",
    "#%run \"Shapley_Clustering_Boston_Dataset.ipynb\"\n",
    "#%run \"Shapley_Clustering_Crime_Dataset.ipynb\"\n",
    "\n",
    "for c in [0,3,4,6,7]:\n",
    "    for nC in [2,4]:\n",
    "        for i in ['Original']:\n",
    "            for j in ['Linear']:\n",
    "                for k in ['XGBoost']:\n",
    "                    !python Shapley_Clustering_Blackbox.py $i $j $k $nC $c"
   ]
  },
  {
   "cell_type": "code",
   "execution_count": null,
   "metadata": {},
   "outputs": [],
   "source": [
    "import shap\n",
    "for i in range(1,2):\n",
    "    !python Shapley_Clustering_PCA_Blackbox.py Original-PCA Linear XGBoost 3 $i"
   ]
  },
  {
   "cell_type": "code",
   "execution_count": null,
   "metadata": {},
   "outputs": [],
   "source": [
    "for i in range(1,2):\n",
    "    !python ../Framework/custom_sklearn_pipeline.py Original XGBoost XGBoost 3 $i"
   ]
  },
  {
   "cell_type": "code",
   "execution_count": null,
   "metadata": {},
   "outputs": [],
   "source": [
    "for c in range(1):\n",
    "    for nC in [3,5]:\n",
    "        for i in ['Original-PCA']:\n",
    "            for j in ['Linear','XGBoost']:\n",
    "                for k in ['XGBoost']:\n",
    "                    !python Shapley_Clustering_PCA_Blackbox.py $i $j $k $nC $c"
   ]
  },
  {
   "cell_type": "code",
   "execution_count": 59,
   "metadata": {},
   "outputs": [],
   "source": [
    "benchmark_df = pd.read_csv('../Data/5-fold-linear-xgb-test.txt')\n",
    "runtime_df = pd.read_csv('../Data/train_runtime.txt')\n",
    "complexity_df = pd.read_csv('../Data/test_complexity.txt')"
   ]
  },
  {
   "cell_type": "code",
   "execution_count": null,
   "metadata": {},
   "outputs": [],
   "source": [
    "#benchmark_df = benchmark_df[benchmark_df['Explainer_Type'] == 'XGBoost']\n",
    "benchmark_df.head()"
   ]
  },
  {
   "cell_type": "code",
   "execution_count": null,
   "metadata": {},
   "outputs": [],
   "source": [
    "bsl1 = benchmark_df.groupby('Dataset_name').agg({'S1' : min})\n",
    "bsl2 = benchmark_df.groupby('Dataset_name').agg({'S2' : min})\n",
    "bsl1"
   ]
  },
  {
   "cell_type": "code",
   "execution_count": null,
   "metadata": {},
   "outputs": [],
   "source": [
    "for j in range(len(benchmark_df['Dataset_name'])):\n",
    "    benchmark_df['S1'].iloc[j] = bsl1.loc[benchmark_df['Dataset_name'].iloc[j]][0]\n",
    "    benchmark_df['S2'].iloc[j] = bsl2.loc[benchmark_df['Dataset_name'].iloc[j]][0]"
   ]
  },
  {
   "cell_type": "code",
   "execution_count": null,
   "metadata": {},
   "outputs": [],
   "source": [
    "#benchmark_df_min = benchmark_df[(benchmark_df['Explainer_model'] > benchmark_df['Shapley_ensemble']) & (benchmark_df['Original_ensemble'] > benchmark_df['Shapley_ensemble'])]\n",
    "benchmark_df_min = benchmark_df\n",
    "bsl1_improvement = (benchmark_df_min['S1'] - benchmark_df_min['S7']).divide(benchmark_df_min['S1'])\n",
    "bsl2_improvement = (benchmark_df_min['S2'] - benchmark_df_min['S7']).divide(benchmark_df_min['S2'])\n",
    "benchmark_df_min['Avg_Percentage_Improvement'] = round(100 * (bsl1_improvement+bsl2_improvement)/2,1)\n",
    "benchmark_df_min = benchmark_df_min.loc[benchmark_df_min['Avg_Percentage_Improvement'] >= 0]\n",
    "#benchmark_df_min = benchmark_df_min[benchmark_df_min['S7'] < benchmark_df_min['S10']]\n",
    "benchmark_df_min[benchmark_df_min['Cluster_count'] > 1]"
   ]
  },
  {
   "cell_type": "code",
   "execution_count": 60,
   "metadata": {},
   "outputs": [
    {
     "data": {
      "text/html": [
       "<div>\n",
       "<style scoped>\n",
       "    .dataframe tbody tr th:only-of-type {\n",
       "        vertical-align: middle;\n",
       "    }\n",
       "\n",
       "    .dataframe tbody tr th {\n",
       "        vertical-align: top;\n",
       "    }\n",
       "\n",
       "    .dataframe thead th {\n",
       "        text-align: right;\n",
       "    }\n",
       "</style>\n",
       "<table border=\"1\" class=\"dataframe\">\n",
       "  <thead>\n",
       "    <tr style=\"text-align: right;\">\n",
       "      <th></th>\n",
       "      <th>Dataset_name</th>\n",
       "      <th>B1</th>\n",
       "      <th>B2</th>\n",
       "      <th>B4</th>\n",
       "      <th>B5</th>\n",
       "      <th>B7</th>\n",
       "      <th>B8</th>\n",
       "      <th>Cluster_count</th>\n",
       "    </tr>\n",
       "  </thead>\n",
       "  <tbody>\n",
       "    <tr>\n",
       "      <th>1</th>\n",
       "      <td>Admissions</td>\n",
       "      <td>0.071</td>\n",
       "      <td>0.072</td>\n",
       "      <td>0.064</td>\n",
       "      <td>0.073</td>\n",
       "      <td>0.066</td>\n",
       "      <td>0.073</td>\n",
       "      <td>2</td>\n",
       "    </tr>\n",
       "    <tr>\n",
       "      <th>2</th>\n",
       "      <td>Admissions</td>\n",
       "      <td>0.071</td>\n",
       "      <td>0.077</td>\n",
       "      <td>0.068</td>\n",
       "      <td>0.080</td>\n",
       "      <td>0.065</td>\n",
       "      <td>0.079</td>\n",
       "      <td>3</td>\n",
       "    </tr>\n",
       "    <tr>\n",
       "      <th>3</th>\n",
       "      <td>Admissions</td>\n",
       "      <td>0.071</td>\n",
       "      <td>0.079</td>\n",
       "      <td>0.079</td>\n",
       "      <td>0.077</td>\n",
       "      <td>0.068</td>\n",
       "      <td>0.078</td>\n",
       "      <td>4</td>\n",
       "    </tr>\n",
       "    <tr>\n",
       "      <th>4</th>\n",
       "      <td>Admissions</td>\n",
       "      <td>0.071</td>\n",
       "      <td>0.075</td>\n",
       "      <td>0.076</td>\n",
       "      <td>0.077</td>\n",
       "      <td>0.071</td>\n",
       "      <td>0.077</td>\n",
       "      <td>5</td>\n",
       "    </tr>\n",
       "    <tr>\n",
       "      <th>5</th>\n",
       "      <td>Admissions</td>\n",
       "      <td>0.071</td>\n",
       "      <td>0.085</td>\n",
       "      <td>0.073</td>\n",
       "      <td>0.082</td>\n",
       "      <td>0.066</td>\n",
       "      <td>0.081</td>\n",
       "      <td>6</td>\n",
       "    </tr>\n",
       "  </tbody>\n",
       "</table>\n",
       "</div>"
      ],
      "text/plain": [
       "  Dataset_name     B1     B2     B4     B5     B7     B8  Cluster_count\n",
       "1   Admissions  0.071  0.072  0.064  0.073  0.066  0.073              2\n",
       "2   Admissions  0.071  0.077  0.068  0.080  0.065  0.079              3\n",
       "3   Admissions  0.071  0.079  0.079  0.077  0.068  0.078              4\n",
       "4   Admissions  0.071  0.075  0.076  0.077  0.071  0.077              5\n",
       "5   Admissions  0.071  0.085  0.073  0.082  0.066  0.081              6"
      ]
     },
     "execution_count": 60,
     "metadata": {},
     "output_type": "execute_result"
    }
   ],
   "source": [
    "benchmark_df_no_c1 = benchmark_df[benchmark_df['Cluster_count'] > 1]\n",
    "benchmark_df_only_c1 = benchmark_df[benchmark_df['Cluster_count'] == 1]\n",
    "complexity_df_no_c1 = complexity_df[complexity_df['Cluster_count'] > 1]\n",
    "complexity_df_only_c1 = complexity_df[complexity_df['Cluster_count'] == 1]\n",
    "runtime_df_no_c1 = runtime_df[runtime_df['Cluster_count'] > 1]\n",
    "runtime_df_only_c1 = runtime_df[runtime_df['Cluster_count'] == 1]\n",
    "benchmark_df_no_c1.head()"
   ]
  },
  {
   "cell_type": "code",
   "execution_count": null,
   "metadata": {},
   "outputs": [],
   "source": [
    "visualize_pairvs(benchmark_df_no_c1,'B1','B2')"
   ]
  },
  {
   "cell_type": "code",
   "execution_count": null,
   "metadata": {},
   "outputs": [],
   "source": [
    "visualize_pairvs_2(benchmark_df_only_c1,'B4','B7',{'Draw':'Draw','B4':'Branch X','B7':'Branch Y'},0.001)\n",
    "#compare_branch_best_runtime(benchmark_df_only_c1,runtime_only_c1,'B1','B4',{'Draw':'Draw','B1':'B1','B4':'B3'})\n",
    "#compare_branch_best_complexity(benchmark_df_only_c1,complexity_df_only_c1,'B1','B4',{'Draw':'Draw','B1':'B1','B4':'B3'})"
   ]
  },
  {
   "cell_type": "code",
   "execution_count": null,
   "metadata": {},
   "outputs": [],
   "source": [
    "visualize_pairvs(benchmark_df_no_c1,'B2','B8')"
   ]
  },
  {
   "cell_type": "code",
   "execution_count": null,
   "metadata": {},
   "outputs": [],
   "source": [
    "visualize_pairvs_2(benchmark_df_no_c1,'B5','B8',{'Draw':'Draw','B5':'Branch 5','B8':'Branch 8'},0.1)\n",
    "#compare_branch_best_runtime(benchmark_df_no_c1,runtime_df_no_c1,'B2','B5')\n",
    "#compare_branch_best_complexity(benchmark_df_no_c1,complexity_df_no_c1,'B2','B5')"
   ]
  },
  {
   "cell_type": "code",
   "execution_count": null,
   "metadata": {},
   "outputs": [],
   "source": [
    "benchmark_mins,benchmark_min_idx = get_branch_mins(benchmark_df)\n",
    "benchmark_mins['Vs_results'] = benchmark_mins.apply(lambda x : label_vs_triple(x,['B2','B5','B8'],0.001) ,axis = 1)"
   ]
  },
  {
   "cell_type": "code",
   "execution_count": 95,
   "metadata": {},
   "outputs": [
    {
     "data": {
      "text/plain": [
       "<matplotlib.axes._subplots.AxesSubplot at 0x1aadf12afd0>"
      ]
     },
     "execution_count": 95,
     "metadata": {},
     "output_type": "execute_result"
    },
    {
     "data": {
      "image/png": "[encoded data removed]",
      "text/plain": [
       "<Figure size 2160x720 with 3 Axes>"
      ]
     },
     "metadata": {
      "needs_background": "light"
     },
     "output_type": "display_data"
    }
   ],
   "source": [
    "visualize_multiple_vs(benchmark_df_no_c1,['B5','B8'],{'Draw':'Draw','B5':'Branch 5','B8':'Branch 8','B1':'Branch 1'},0.1)"
   ]
  },
  {
   "cell_type": "code",
   "execution_count": null,
   "metadata": {},
   "outputs": [],
   "source": [
    "df_temp = pd.DataFrame(['B5'],columns =['Vs_results'])\n",
    "df_temp['Dataset_name'] = 0\n",
    "df_temp"
   ]
  },
  {
   "cell_type": "code",
   "execution_count": null,
   "metadata": {},
   "outputs": [],
   "source": [
    "visualize_pairvs(benchmark_df_no_c1,'B5','B8')"
   ]
  },
  {
   "cell_type": "code",
   "execution_count": null,
   "metadata": {},
   "outputs": [],
   "source": [
    "visualize_pairvs_2(benchmark_df_no_c1,'B5','B8',None,0.001)\n",
    "compare_branch_best_runtime(benchmark_df_no_c1,runtime_df_no_c1,'B5','B8')\n",
    "compare_branch_best_complexity(benchmark_df_no_c1,complexity_df_no_c1,'B5','B8')"
   ]
  },
  {
   "cell_type": "code",
   "execution_count": null,
   "metadata": {},
   "outputs": [],
   "source": [
    "#S5 vs S9\n",
    "visualize_pairvs(benchmark_df_only_c1,'S6','S10',label_opt = {'Draw':'Draw','S6':'S5','S10':'S9'})"
   ]
  },
  {
   "cell_type": "code",
   "execution_count": null,
   "metadata": {},
   "outputs": [],
   "source": [
    "#S6 vs S10\n",
    "visualize_pairvs(benchmark_df_no_c1,'S6','S10')"
   ]
  },
  {
   "cell_type": "code",
   "execution_count": null,
   "metadata": {},
   "outputs": [],
   "source": [
    "data_dict= scatter_datasets(benchmark_df_no_c1,'B1','B5')"
   ]
  },
  {
   "cell_type": "code",
   "execution_count": null,
   "metadata": {},
   "outputs": [],
   "source": [
    "dataset_dict = dataset_stats(26)"
   ]
  },
  {
   "cell_type": "code",
   "execution_count": null,
   "metadata": {},
   "outputs": [],
   "source": [
    "data_df = pd.DataFrame(dataset_dict).transpose()\n",
    "data_df.reset_index(inplace = True)\n",
    "data_df.to_csv('dataset_stats.csv', index=False)"
   ]
  },
  {
   "cell_type": "code",
   "execution_count": null,
   "metadata": {},
   "outputs": [],
   "source": [
    "scatter_datasets(benchmark_df_no_c1,'B2','B5')"
   ]
  },
  {
   "cell_type": "code",
   "execution_count": null,
   "metadata": {},
   "outputs": [],
   "source": [
    "benchmark_df2 = benchmark_df.iloc[:,:7]\n",
    "benchmark_df2.to_csv('stats_import_data.csv', sep = ',', index = False)"
   ]
  },
  {
   "cell_type": "code",
   "execution_count": null,
   "metadata": {},
   "outputs": [],
   "source": [
    "bench_datatype_grouped = benchmark_df_min.groupby('Data_Type').agg({'Percentage_Improvement':np.mean})\n",
    "bench_dataset_grouped = benchmark_df_min.groupby(['Dataset_name']).agg({'Percentage_Improvement':np.mean, 'Data_Type':'nunique'})\n",
    "bench_dataset_grouped = bench_dataset_grouped[bench_dataset_grouped['Data_Type'] == 1]\n",
    "benchmark_df_min = benchmark_df_min[benchmark_df_min['Dataset_name'] != 'NYE_Airbnb']\n",
    "bench_datatype_grouped = benchmark_df_min.groupby(['Data_Type','Dataset_name']).agg({'Percentage_Improvement':np.mean})\n",
    "bench_dataset_grouped = benchmark_df_min.groupby(['Dataset_name','Data_Type']).agg({'Percentage_Improvement':np.mean})\n",
    "bench_datatype_grouped = bench_datatype_grouped.groupby('Data_Type').mean()\n",
    "bench_dataset_grouped"
   ]
  },
  {
   "cell_type": "code",
   "execution_count": null,
   "metadata": {},
   "outputs": [],
   "source": [
    "g = sns.barplot(y =bench_datatype_grouped.index ,x ='Percentage_Improvement',data = bench_datatype_grouped)\n",
    "g.set_title ('Percentage improvement over all methods and datasets for given feature space')"
   ]
  },
  {
   "cell_type": "code",
   "execution_count": null,
   "metadata": {},
   "outputs": [],
   "source": [
    "g= sns.barplot(y =bench_dataset_grouped.index ,x ='Percentage_Improvement',data = bench_dataset_grouped)\n",
    "g.set_title('Percentage improvement in rmse over all models for given dataset')"
   ]
  },
  {
   "cell_type": "code",
   "execution_count": null,
   "metadata": {},
   "outputs": [],
   "source": [
    "data_min = benchmark_df_min.groupby(['Data_Type','Explainer_Type','Ensemble_model_Type']).agg({'Dataset_name':'nunique','Percentage_Improvement':np.mean})\n",
    "data_min['Percentage_Improvement'] = round(data_min['Percentage_Improvement'],1)\n",
    "data_min.columns = ['Dataset_count','Percentage_Improvement']\n",
    "best_params = data_min['Dataset_count'].idxmax()"
   ]
  },
  {
   "cell_type": "code",
   "execution_count": null,
   "metadata": {},
   "outputs": [],
   "source": [
    "data_min"
   ]
  },
  {
   "cell_type": "code",
   "execution_count": null,
   "metadata": {},
   "outputs": [],
   "source": [
    "params_grouped = benchmark_df_min.groupby(['Data_Type','Explainer_Type','Ensemble_model_Type','Dataset_name'])\n",
    "params_grouped_df = params_grouped.agg({'Explainer_model' : min ,'Original_ensemble':min, 'Shapley_ensemble' : min,'Percentage_Improvement':np.mean})\n",
    "best_params_results = params_grouped_df.loc[best_params]"
   ]
  },
  {
   "cell_type": "code",
   "execution_count": null,
   "metadata": {},
   "outputs": [],
   "source": [
    "list(best_params)"
   ]
  },
  {
   "cell_type": "code",
   "execution_count": null,
   "metadata": {},
   "outputs": [],
   "source": [
    "#sets = benchmark_df[(benchmark_df.Data_Type == best_params[0]) & (benchmark_df.Explainer_Type == best_params[1]) & (benchmark_df.Ensemble_model_Type == best_params[2])]\n",
    "#sets"
   ]
  },
  {
   "cell_type": "code",
   "execution_count": null,
   "metadata": {
    "scrolled": true
   },
   "outputs": [],
   "source": [
    "best_params_results"
   ]
  },
  {
   "cell_type": "code",
   "execution_count": null,
   "metadata": {},
   "outputs": [],
   "source": [
    "g = sns.barplot(y =best_params_results.index ,x ='Percentage_Improvement',data = best_params_results)\n",
    "g.set_title('Percentage improvement in rmse for Feature Space: {0} /Explainer(M_e): {1} /Leaf_Model(M_c1): {2}'.format(best_params[0],best_params[1],best_params[2]))"
   ]
  },
  {
   "cell_type": "code",
   "execution_count": null,
   "metadata": {},
   "outputs": [],
   "source": [
    "data_min = benchmark_df.groupby(['Data_Type','Explainer_Type','Ensemble_model_Type','Dataset_name'])\n",
    "data_min_df = data_min.agg({'Explainer_model' : min ,'Original_ensemble':min, 'Shapley_ensemble' : min})\n",
    "data_real_min = data_min_df[(data_min_df['Explainer_model'] > data_min_df['Shapley_ensemble']) & (data_min_df['Original_ensemble'] > data_min_df['Shapley_ensemble'])]\n",
    "bsl1_improvement = (data_real_min['Explainer_model'] - data_real_min['Shapley_ensemble']).divide(data_real_min['Explainer_model'])\n",
    "bsl2_improvement = (data_real_min['Original_ensemble'] - data_real_min['Shapley_ensemble']).divide(data_real_min['Original_ensemble'])\n",
    "data_real_min['Avg_Percentage_Improvement'] = 100 * (bsl1_improvement+bsl2_improvement)/2\n",
    "data_real_min"
   ]
  },
  {
   "cell_type": "code",
   "execution_count": null,
   "metadata": {},
   "outputs": [],
   "source": [
    "data_min = benchmark_df.groupby(['Data_Type','Explainer_Type','Ensemble_model_Type','Dataset_name'])\n",
    "data_min_df = data_min.agg({'Explainer_model' : min ,'Original_ensemble':min, 'Shapley_ensemble' : min})\n",
    "data_real_min = data_min_df[(data_min_df['Explainer_model'] > data_min_df['Shapley_ensemble']) & (data_min_df['Original_ensemble'] > data_min_df['Shapley_ensemble'])]\n",
    "bsl1_improvement = (data_real_min['Explainer_model'] - data_real_min['Shapley_ensemble']).divide(data_real_min['Explainer_model'])\n",
    "bsl2_improvement = (data_real_min['Original_ensemble'] - data_real_min['Shapley_ensemble']).divide(data_real_min['Original_ensemble'])\n",
    "data_real_min['Avg_Percentage_Improvement'] = 100 * (bsl1_improvement+bsl2_improvement)/2\n",
    "data_real_min"
   ]
  },
  {
   "cell_type": "code",
   "execution_count": null,
   "metadata": {},
   "outputs": [],
   "source": [
    "data_real_min2 = data_real_min['Shapley_ensemble'].groupby(['Data_Type','Ensemble_model_Type','Explainer_Type']).count()\n",
    "data_param_count = data_real_min2.groupby(['Data_Type','Explainer_Type','Ensemble_model_Type']).sum()\n",
    "data_param_count"
   ]
  },
  {
   "cell_type": "code",
   "execution_count": null,
   "metadata": {},
   "outputs": [],
   "source": [
    "data_min = benchmark_df.groupby(['Data_Type','Cluster_count','Explainer_Type','Ensemble_model_Type','Dataset_name'])\n",
    "data_min_df = data_min.agg({'Explainer_model' : min ,'Original_ensemble':min, 'Shapley_ensemble' : min})\n",
    "data_real_min = data_min_df[(data_min_df['Explainer_model'] > data_min_df['Shapley_ensemble']) & (data_min_df['Original_ensemble'] > data_min_df['Shapley_ensemble'])]\n",
    "data_real_min"
   ]
  },
  {
   "cell_type": "code",
   "execution_count": null,
   "metadata": {},
   "outputs": [],
   "source": [
    "data_real_min2 = data_real_min['Shapley_ensemble'].groupby(['Data_Type','Cluster_count','Ensemble_model_Type','Explainer_Type']).count()\n",
    "data_param_count = data_real_min2.groupby(['Data_Type','Cluster_count','Explainer_Type','Ensemble_model_Type']).sum()\n",
    "data_param_count"
   ]
  },
  {
   "cell_type": "code",
   "execution_count": null,
   "metadata": {},
   "outputs": [],
   "source": [
    "benchmark_df = pd.read_csv('../Data/test_results_all_data.txt')\n",
    "bsl1 = benchmark_df.groupby('Dataset_name').agg({'Explainer_model' : min})\n",
    "bsl2 = benchmark_df.groupby('Dataset_name').agg({'Original_ensemble' : min})\n",
    "for j in range(len(benchmark_df['Dataset_name'])):\n",
    "    benchmark_df['Explainer_model'].iloc[j] = bsl1.loc[benchmark_df['Dataset_name'].iloc[j]][0]\n",
    "    benchmark_df['Original_ensemble'].iloc[j] = bsl2.loc[benchmark_df['Dataset_name'].iloc[j]][0]\n",
    "data_min = benchmark_df.groupby(['Data_Type','Explainer_Type','Ensemble_model_Type','Dataset_name'])\n",
    "data_min_df = data_min.agg({'Explainer_model' : min ,'Original_ensemble':min, 'Shapley_ensemble' : min})\n",
    "data_real_min = data_min_df[(data_min_df['Explainer_model'] > data_min_df['Shapley_ensemble']) & (data_min_df['Original_ensemble'] > data_min_df['Shapley_ensemble'])]\n",
    "data_real_min"
   ]
  },
  {
   "cell_type": "code",
   "execution_count": null,
   "metadata": {},
   "outputs": [],
   "source": [
    "data_real_min2 = data_real_min['Shapley_ensemble'].groupby(['Data_Type','Ensemble_model_Type','Explainer_Type']).count()\n",
    "data_param_count = data_real_min2.groupby(['Data_Type','Explainer_Type','Ensemble_model_Type']).sum()\n",
    "data_param_count"
   ]
  },
  {
   "cell_type": "code",
   "execution_count": null,
   "metadata": {},
   "outputs": [],
   "source": [
    "data_min = benchmark_df.groupby(['Data_Type','Cluster_count','Explainer_Type','Ensemble_model_Type','Dataset_name'])\n",
    "data_min_df = data_min.agg({'Explainer_model' : min ,'Original_ensemble':min, 'Shapley_ensemble' : min})\n",
    "data_real_min = data_min_df[(data_min_df['Explainer_model'] > data_min_df['Shapley_ensemble']) & (data_min_df['Original_ensemble'] > data_min_df['Shapley_ensemble'])]\n",
    "data_real_min"
   ]
  },
  {
   "cell_type": "code",
   "execution_count": null,
   "metadata": {},
   "outputs": [],
   "source": [
    "data_real_min2 = data_real_min['Shapley_ensemble'].groupby(['Data_Type','Cluster_count','Ensemble_model_Type','Explainer_Type']).count()\n",
    "data_param_count = data_real_min2.groupby(['Data_Type','Cluster_count','Explainer_Type','Ensemble_model_Type']).sum()\n",
    "data_param_count"
   ]
  },
  {
   "cell_type": "code",
   "execution_count": null,
   "metadata": {},
   "outputs": [],
   "source": [
    "benchmark_df_bst = benchmark_df_min[benchmark_df_min['Dataset_name'] == 'Amazon']\n",
    "benchmark_df_org = benchmark_df_bst[(benchmark_df_bst['Data_Type'] == 'Original')]\n",
    "benchmark_df_shap = benchmark_df_bst[(benchmark_df_bst['Data_Type'] == 'Shapley')]\n",
    "benchmark_df_org.reset_index(inplace = True)\n",
    "benchmark_df_shap.reset_index(inplace = True)"
   ]
  },
  {
   "cell_type": "code",
   "execution_count": null,
   "metadata": {},
   "outputs": [],
   "source": [
    "benchmark_melted_org = pd.melt(benchmark_df_org.iloc[:,[2,3,4,5,7,8]] , id_vars = ['Explainer_Type','Ensemble_model_Type','Cluster_count'], value_vars= ['Explainer_model','Original_ensemble','Shapley_ensemble'])\n",
    "#benchmark_melted_org.drop_duplicates(benchmark_melted_org.columns[[0,3,4]],inplace = True)\n",
    "benchmark_melted_org.rename(columns = {'variable':'Model','value':'rmse'},inplace = True)\n",
    "g= sns.catplot(x = 'Explainer_Type',y = 'rmse', hue = 'Model',col = 'Ensemble_model_Type',row = 'Cluster_count',kind = 'bar',data = benchmark_melted_org)\n",
    "g.fig.subplots_adjust(top=0.9)\n",
    "g.fig.suptitle('Test-rmse results for dataset: {0} with training via: {1}'.format(benchmark_df_org['Dataset_name'].iloc[0], benchmark_df_org['Data_Type'].iloc[0]), fontsize=16)"
   ]
  },
  {
   "cell_type": "code",
   "execution_count": null,
   "metadata": {},
   "outputs": [],
   "source": [
    "benchmark_melted_shap = pd.melt(benchmark_df_shap.iloc[:,[2,3,4,5,7,8]] , id_vars = ['Explainer_Type','Ensemble_model_Type','Cluster_count'], value_vars= ['Explainer_model','Original_ensemble','Shapley_ensemble'])\n",
    "#benchmark_melted_shap.drop_duplicates(benchmark_melted_shap.columns[[0,3,4]],inplace = True)\n",
    "benchmark_melted_shap.rename(columns = {'variable':'Model','value':'rmse'},inplace = True)\n",
    "g= sns.catplot(x = 'Explainer_Type',y = 'rmse', hue = 'Model',col = 'Ensemble_model_Type',row = 'Cluster_count',kind = 'bar',data = benchmark_melted_shap)\n",
    "g.fig.subplots_adjust(top=0.9)\n",
    "g.fig.suptitle('Test-rmse results for dataset: {0} with training via: {1}'.format(benchmark_df_shap['Dataset_name'].iloc[0], benchmark_df_shap['Data_Type'].iloc[0]), fontsize=16)"
   ]
  },
  {
   "cell_type": "code",
   "execution_count": 61,
   "metadata": {},
   "outputs": [],
   "source": [
    "benchmark_best = set_branch_best(benchmark_df_no_c1,'B1','B2','B4','B5','B7','B8')\n",
    "benchmark_best_c1 = set_branch_best(benchmark_df_only_c1,'B4','B7')\n",
    "#benchmark_best.reset_index(inplace = True,drop = True)"
   ]
  },
  {
   "cell_type": "code",
   "execution_count": 52,
   "metadata": {},
   "outputs": [
    {
     "ename": "ValueError",
     "evalue": "Length of values does not match length of index",
     "output_type": "error",
     "traceback": [
      "\u001b[1;31m---------------------------------------------------------------------------\u001b[0m",
      "\u001b[1;31mValueError\u001b[0m                                Traceback (most recent call last)",
      "\u001b[1;32m<ipython-input-52-a702786423a0>\u001b[0m in \u001b[0;36m<module>\u001b[1;34m\u001b[0m\n\u001b[1;32m----> 1\u001b[1;33m \u001b[0mbenchmark_best\u001b[0m\u001b[1;33m[\u001b[0m\u001b[1;34m'B3'\u001b[0m\u001b[1;33m]\u001b[0m \u001b[1;33m=\u001b[0m \u001b[1;33m[\u001b[0m\u001b[0mdf\u001b[0m\u001b[1;33m[\u001b[0m\u001b[0mi\u001b[0m\u001b[1;33m]\u001b[0m\u001b[1;33m[\u001b[0m\u001b[1;36m0\u001b[0m\u001b[1;33m]\u001b[0m \u001b[1;32mfor\u001b[0m \u001b[0mi\u001b[0m \u001b[1;32min\u001b[0m \u001b[0mrange\u001b[0m\u001b[1;33m(\u001b[0m\u001b[0mdf\u001b[0m\u001b[1;33m.\u001b[0m\u001b[0mshape\u001b[0m\u001b[1;33m[\u001b[0m\u001b[1;36m0\u001b[0m\u001b[1;33m]\u001b[0m\u001b[1;33m)\u001b[0m\u001b[1;33m]\u001b[0m\u001b[1;33m\u001b[0m\u001b[1;33m\u001b[0m\u001b[0m\n\u001b[0m\u001b[0;32m      2\u001b[0m \u001b[0mbenchmark_best\u001b[0m\u001b[1;33m[\u001b[0m\u001b[1;34m'B5'\u001b[0m\u001b[1;33m]\u001b[0m \u001b[1;33m=\u001b[0m \u001b[1;33m[\u001b[0m\u001b[0mdf\u001b[0m\u001b[1;33m[\u001b[0m\u001b[0mi\u001b[0m\u001b[1;33m]\u001b[0m\u001b[1;33m[\u001b[0m\u001b[1;36m1\u001b[0m\u001b[1;33m]\u001b[0m \u001b[1;32mfor\u001b[0m \u001b[0mi\u001b[0m \u001b[1;32min\u001b[0m \u001b[0mrange\u001b[0m\u001b[1;33m(\u001b[0m\u001b[0mdf\u001b[0m\u001b[1;33m.\u001b[0m\u001b[0mshape\u001b[0m\u001b[1;33m[\u001b[0m\u001b[1;36m0\u001b[0m\u001b[1;33m]\u001b[0m\u001b[1;33m)\u001b[0m\u001b[1;33m]\u001b[0m\u001b[1;33m\u001b[0m\u001b[1;33m\u001b[0m\u001b[0m\n\u001b[0;32m      3\u001b[0m \u001b[0mbenchmark_best2\u001b[0m \u001b[1;33m=\u001b[0m \u001b[0mpd\u001b[0m\u001b[1;33m.\u001b[0m\u001b[0mconcat\u001b[0m\u001b[1;33m(\u001b[0m\u001b[1;33m(\u001b[0m\u001b[0mbenchmark_best\u001b[0m\u001b[1;33m,\u001b[0m\u001b[0mbenchmark_best_c1\u001b[0m\u001b[1;33m.\u001b[0m\u001b[0mloc\u001b[0m\u001b[1;33m[\u001b[0m\u001b[1;33m:\u001b[0m\u001b[1;33m,\u001b[0m\u001b[1;33m[\u001b[0m\u001b[1;34m'B4'\u001b[0m\u001b[1;33m,\u001b[0m\u001b[1;34m'B7'\u001b[0m\u001b[1;33m]\u001b[0m\u001b[1;33m]\u001b[0m\u001b[1;33m)\u001b[0m\u001b[1;33m,\u001b[0m\u001b[0maxis\u001b[0m \u001b[1;33m=\u001b[0m \u001b[1;36m1\u001b[0m\u001b[1;33m)\u001b[0m\u001b[1;33m\u001b[0m\u001b[1;33m\u001b[0m\u001b[0m\n",
      "\u001b[1;32m~\\Anaconda3\\lib\\site-packages\\pandas\\core\\frame.py\u001b[0m in \u001b[0;36m__setitem__\u001b[1;34m(self, key, value)\u001b[0m\n\u001b[0;32m   3117\u001b[0m         \u001b[1;32melse\u001b[0m\u001b[1;33m:\u001b[0m\u001b[1;33m\u001b[0m\u001b[1;33m\u001b[0m\u001b[0m\n\u001b[0;32m   3118\u001b[0m             \u001b[1;31m# set column\u001b[0m\u001b[1;33m\u001b[0m\u001b[1;33m\u001b[0m\u001b[1;33m\u001b[0m\u001b[0m\n\u001b[1;32m-> 3119\u001b[1;33m             \u001b[0mself\u001b[0m\u001b[1;33m.\u001b[0m\u001b[0m_set_item\u001b[0m\u001b[1;33m(\u001b[0m\u001b[0mkey\u001b[0m\u001b[1;33m,\u001b[0m \u001b[0mvalue\u001b[0m\u001b[1;33m)\u001b[0m\u001b[1;33m\u001b[0m\u001b[1;33m\u001b[0m\u001b[0m\n\u001b[0m\u001b[0;32m   3120\u001b[0m \u001b[1;33m\u001b[0m\u001b[0m\n\u001b[0;32m   3121\u001b[0m     \u001b[1;32mdef\u001b[0m \u001b[0m_setitem_slice\u001b[0m\u001b[1;33m(\u001b[0m\u001b[0mself\u001b[0m\u001b[1;33m,\u001b[0m \u001b[0mkey\u001b[0m\u001b[1;33m,\u001b[0m \u001b[0mvalue\u001b[0m\u001b[1;33m)\u001b[0m\u001b[1;33m:\u001b[0m\u001b[1;33m\u001b[0m\u001b[1;33m\u001b[0m\u001b[0m\n",
      "\u001b[1;32m~\\Anaconda3\\lib\\site-packages\\pandas\\core\\frame.py\u001b[0m in \u001b[0;36m_set_item\u001b[1;34m(self, key, value)\u001b[0m\n\u001b[0;32m   3192\u001b[0m \u001b[1;33m\u001b[0m\u001b[0m\n\u001b[0;32m   3193\u001b[0m         \u001b[0mself\u001b[0m\u001b[1;33m.\u001b[0m\u001b[0m_ensure_valid_index\u001b[0m\u001b[1;33m(\u001b[0m\u001b[0mvalue\u001b[0m\u001b[1;33m)\u001b[0m\u001b[1;33m\u001b[0m\u001b[1;33m\u001b[0m\u001b[0m\n\u001b[1;32m-> 3194\u001b[1;33m         \u001b[0mvalue\u001b[0m \u001b[1;33m=\u001b[0m \u001b[0mself\u001b[0m\u001b[1;33m.\u001b[0m\u001b[0m_sanitize_column\u001b[0m\u001b[1;33m(\u001b[0m\u001b[0mkey\u001b[0m\u001b[1;33m,\u001b[0m \u001b[0mvalue\u001b[0m\u001b[1;33m)\u001b[0m\u001b[1;33m\u001b[0m\u001b[1;33m\u001b[0m\u001b[0m\n\u001b[0m\u001b[0;32m   3195\u001b[0m         \u001b[0mNDFrame\u001b[0m\u001b[1;33m.\u001b[0m\u001b[0m_set_item\u001b[0m\u001b[1;33m(\u001b[0m\u001b[0mself\u001b[0m\u001b[1;33m,\u001b[0m \u001b[0mkey\u001b[0m\u001b[1;33m,\u001b[0m \u001b[0mvalue\u001b[0m\u001b[1;33m)\u001b[0m\u001b[1;33m\u001b[0m\u001b[1;33m\u001b[0m\u001b[0m\n\u001b[0;32m   3196\u001b[0m \u001b[1;33m\u001b[0m\u001b[0m\n",
      "\u001b[1;32m~\\Anaconda3\\lib\\site-packages\\pandas\\core\\frame.py\u001b[0m in \u001b[0;36m_sanitize_column\u001b[1;34m(self, key, value, broadcast)\u001b[0m\n\u001b[0;32m   3389\u001b[0m \u001b[1;33m\u001b[0m\u001b[0m\n\u001b[0;32m   3390\u001b[0m             \u001b[1;31m# turn me into an ndarray\u001b[0m\u001b[1;33m\u001b[0m\u001b[1;33m\u001b[0m\u001b[1;33m\u001b[0m\u001b[0m\n\u001b[1;32m-> 3391\u001b[1;33m             \u001b[0mvalue\u001b[0m \u001b[1;33m=\u001b[0m \u001b[0m_sanitize_index\u001b[0m\u001b[1;33m(\u001b[0m\u001b[0mvalue\u001b[0m\u001b[1;33m,\u001b[0m \u001b[0mself\u001b[0m\u001b[1;33m.\u001b[0m\u001b[0mindex\u001b[0m\u001b[1;33m,\u001b[0m \u001b[0mcopy\u001b[0m\u001b[1;33m=\u001b[0m\u001b[1;32mFalse\u001b[0m\u001b[1;33m)\u001b[0m\u001b[1;33m\u001b[0m\u001b[1;33m\u001b[0m\u001b[0m\n\u001b[0m\u001b[0;32m   3392\u001b[0m             \u001b[1;32mif\u001b[0m \u001b[1;32mnot\u001b[0m \u001b[0misinstance\u001b[0m\u001b[1;33m(\u001b[0m\u001b[0mvalue\u001b[0m\u001b[1;33m,\u001b[0m \u001b[1;33m(\u001b[0m\u001b[0mnp\u001b[0m\u001b[1;33m.\u001b[0m\u001b[0mndarray\u001b[0m\u001b[1;33m,\u001b[0m \u001b[0mIndex\u001b[0m\u001b[1;33m)\u001b[0m\u001b[1;33m)\u001b[0m\u001b[1;33m:\u001b[0m\u001b[1;33m\u001b[0m\u001b[1;33m\u001b[0m\u001b[0m\n\u001b[0;32m   3393\u001b[0m                 \u001b[1;32mif\u001b[0m \u001b[0misinstance\u001b[0m\u001b[1;33m(\u001b[0m\u001b[0mvalue\u001b[0m\u001b[1;33m,\u001b[0m \u001b[0mlist\u001b[0m\u001b[1;33m)\u001b[0m \u001b[1;32mand\u001b[0m \u001b[0mlen\u001b[0m\u001b[1;33m(\u001b[0m\u001b[0mvalue\u001b[0m\u001b[1;33m)\u001b[0m \u001b[1;33m>\u001b[0m \u001b[1;36m0\u001b[0m\u001b[1;33m:\u001b[0m\u001b[1;33m\u001b[0m\u001b[1;33m\u001b[0m\u001b[0m\n",
      "\u001b[1;32m~\\Anaconda3\\lib\\site-packages\\pandas\\core\\series.py\u001b[0m in \u001b[0;36m_sanitize_index\u001b[1;34m(data, index, copy)\u001b[0m\n\u001b[0;32m   3999\u001b[0m \u001b[1;33m\u001b[0m\u001b[0m\n\u001b[0;32m   4000\u001b[0m     \u001b[1;32mif\u001b[0m \u001b[0mlen\u001b[0m\u001b[1;33m(\u001b[0m\u001b[0mdata\u001b[0m\u001b[1;33m)\u001b[0m \u001b[1;33m!=\u001b[0m \u001b[0mlen\u001b[0m\u001b[1;33m(\u001b[0m\u001b[0mindex\u001b[0m\u001b[1;33m)\u001b[0m\u001b[1;33m:\u001b[0m\u001b[1;33m\u001b[0m\u001b[1;33m\u001b[0m\u001b[0m\n\u001b[1;32m-> 4001\u001b[1;33m         \u001b[1;32mraise\u001b[0m \u001b[0mValueError\u001b[0m\u001b[1;33m(\u001b[0m\u001b[1;34m'Length of values does not match length of '\u001b[0m \u001b[1;34m'index'\u001b[0m\u001b[1;33m)\u001b[0m\u001b[1;33m\u001b[0m\u001b[1;33m\u001b[0m\u001b[0m\n\u001b[0m\u001b[0;32m   4002\u001b[0m \u001b[1;33m\u001b[0m\u001b[0m\n\u001b[0;32m   4003\u001b[0m     \u001b[1;32mif\u001b[0m \u001b[0misinstance\u001b[0m\u001b[1;33m(\u001b[0m\u001b[0mdata\u001b[0m\u001b[1;33m,\u001b[0m \u001b[0mABCIndexClass\u001b[0m\u001b[1;33m)\u001b[0m \u001b[1;32mand\u001b[0m \u001b[1;32mnot\u001b[0m \u001b[0mcopy\u001b[0m\u001b[1;33m:\u001b[0m\u001b[1;33m\u001b[0m\u001b[1;33m\u001b[0m\u001b[0m\n",
      "\u001b[1;31mValueError\u001b[0m: Length of values does not match length of index"
     ]
    }
   ],
   "source": [
    "benchmark_best['B3'] = [df[i][0] for i in range(df.shape[0])]\n",
    "benchmark_best['B5'] = [df[i][1] for i in range(df.shape[0])]\n",
    "benchmark_best2 = pd.concat((benchmark_best,benchmark_best_c1.loc[:,['B4','B7']]),axis = 1)"
   ]
  },
  {
   "cell_type": "code",
   "execution_count": 41,
   "metadata": {},
   "outputs": [
    {
     "data": {
      "text/plain": [
       "(24, 2)"
      ]
     },
     "execution_count": 41,
     "metadata": {},
     "output_type": "execute_result"
    }
   ],
   "source": [
    "df = np.array(benchmark_best_c1.loc[:,['B4','B7']])\n",
    "df.shape"
   ]
  },
  {
   "cell_type": "code",
   "execution_count": 65,
   "metadata": {},
   "outputs": [
    {
     "data": {
      "text/html": [
       "<div>\n",
       "<style scoped>\n",
       "    .dataframe tbody tr th:only-of-type {\n",
       "        vertical-align: middle;\n",
       "    }\n",
       "\n",
       "    .dataframe tbody tr th {\n",
       "        vertical-align: top;\n",
       "    }\n",
       "\n",
       "    .dataframe thead th {\n",
       "        text-align: right;\n",
       "    }\n",
       "</style>\n",
       "<table border=\"1\" class=\"dataframe\">\n",
       "  <thead>\n",
       "    <tr style=\"text-align: right;\">\n",
       "      <th></th>\n",
       "      <th>Dataset_name</th>\n",
       "      <th>B1</th>\n",
       "      <th>B2</th>\n",
       "      <th>B4</th>\n",
       "      <th>B5</th>\n",
       "      <th>B7</th>\n",
       "      <th>B8</th>\n",
       "      <th>Cluster_count</th>\n",
       "    </tr>\n",
       "  </thead>\n",
       "  <tbody>\n",
       "    <tr>\n",
       "      <th>0</th>\n",
       "      <td>Admissions</td>\n",
       "      <td>0.071</td>\n",
       "      <td>0.071</td>\n",
       "      <td>0.071</td>\n",
       "      <td>0.071</td>\n",
       "      <td>0.066</td>\n",
       "      <td>0.071</td>\n",
       "      <td>1</td>\n",
       "    </tr>\n",
       "    <tr>\n",
       "      <th>6</th>\n",
       "      <td>Amazon</td>\n",
       "      <td>166.873</td>\n",
       "      <td>166.873</td>\n",
       "      <td>166.962</td>\n",
       "      <td>166.873</td>\n",
       "      <td>189.723</td>\n",
       "      <td>166.873</td>\n",
       "      <td>1</td>\n",
       "    </tr>\n",
       "    <tr>\n",
       "      <th>12</th>\n",
       "      <td>Boston</td>\n",
       "      <td>3.118</td>\n",
       "      <td>3.118</td>\n",
       "      <td>3.096</td>\n",
       "      <td>3.118</td>\n",
       "      <td>3.558</td>\n",
       "      <td>3.118</td>\n",
       "      <td>1</td>\n",
       "    </tr>\n",
       "    <tr>\n",
       "      <th>18</th>\n",
       "      <td>Crime</td>\n",
       "      <td>344.746</td>\n",
       "      <td>344.746</td>\n",
       "      <td>346.198</td>\n",
       "      <td>344.746</td>\n",
       "      <td>624.472</td>\n",
       "      <td>344.746</td>\n",
       "      <td>1</td>\n",
       "    </tr>\n",
       "    <tr>\n",
       "      <th>24</th>\n",
       "      <td>Diabetes</td>\n",
       "      <td>67.455</td>\n",
       "      <td>67.455</td>\n",
       "      <td>67.003</td>\n",
       "      <td>67.455</td>\n",
       "      <td>62.810</td>\n",
       "      <td>67.455</td>\n",
       "      <td>1</td>\n",
       "    </tr>\n",
       "    <tr>\n",
       "      <th>30</th>\n",
       "      <td>Fish_weights</td>\n",
       "      <td>52.006</td>\n",
       "      <td>52.006</td>\n",
       "      <td>50.513</td>\n",
       "      <td>52.006</td>\n",
       "      <td>72.918</td>\n",
       "      <td>52.006</td>\n",
       "      <td>1</td>\n",
       "    </tr>\n",
       "    <tr>\n",
       "      <th>36</th>\n",
       "      <td>Insurance</td>\n",
       "      <td>4943.969</td>\n",
       "      <td>4943.969</td>\n",
       "      <td>4934.656</td>\n",
       "      <td>4943.969</td>\n",
       "      <td>5432.387</td>\n",
       "      <td>4943.969</td>\n",
       "      <td>1</td>\n",
       "    </tr>\n",
       "    <tr>\n",
       "      <th>42</th>\n",
       "      <td>Nhanes</td>\n",
       "      <td>12.280</td>\n",
       "      <td>12.280</td>\n",
       "      <td>12.281</td>\n",
       "      <td>12.280</td>\n",
       "      <td>12.276</td>\n",
       "      <td>12.280</td>\n",
       "      <td>1</td>\n",
       "    </tr>\n",
       "    <tr>\n",
       "      <th>48</th>\n",
       "      <td>NYE_Airbnb</td>\n",
       "      <td>160.564</td>\n",
       "      <td>160.564</td>\n",
       "      <td>161.474</td>\n",
       "      <td>160.564</td>\n",
       "      <td>178.823</td>\n",
       "      <td>160.564</td>\n",
       "      <td>1</td>\n",
       "    </tr>\n",
       "    <tr>\n",
       "      <th>54</th>\n",
       "      <td>Student_grades</td>\n",
       "      <td>2.140</td>\n",
       "      <td>2.140</td>\n",
       "      <td>2.147</td>\n",
       "      <td>2.140</td>\n",
       "      <td>2.711</td>\n",
       "      <td>2.140</td>\n",
       "      <td>1</td>\n",
       "    </tr>\n",
       "    <tr>\n",
       "      <th>60</th>\n",
       "      <td>Liver_Disorder</td>\n",
       "      <td>3.317</td>\n",
       "      <td>3.317</td>\n",
       "      <td>3.289</td>\n",
       "      <td>3.317</td>\n",
       "      <td>3.282</td>\n",
       "      <td>3.317</td>\n",
       "      <td>1</td>\n",
       "    </tr>\n",
       "    <tr>\n",
       "      <th>66</th>\n",
       "      <td>Satellite</td>\n",
       "      <td>0.728</td>\n",
       "      <td>0.728</td>\n",
       "      <td>0.729</td>\n",
       "      <td>0.728</td>\n",
       "      <td>0.809</td>\n",
       "      <td>0.728</td>\n",
       "      <td>1</td>\n",
       "    </tr>\n",
       "    <tr>\n",
       "      <th>72</th>\n",
       "      <td>Wine Quality</td>\n",
       "      <td>0.645</td>\n",
       "      <td>0.645</td>\n",
       "      <td>0.647</td>\n",
       "      <td>0.645</td>\n",
       "      <td>0.665</td>\n",
       "      <td>0.645</td>\n",
       "      <td>1</td>\n",
       "    </tr>\n",
       "    <tr>\n",
       "      <th>78</th>\n",
       "      <td>Banking Data</td>\n",
       "      <td>0.083</td>\n",
       "      <td>0.083</td>\n",
       "      <td>0.083</td>\n",
       "      <td>0.083</td>\n",
       "      <td>0.086</td>\n",
       "      <td>0.083</td>\n",
       "      <td>1</td>\n",
       "    </tr>\n",
       "    <tr>\n",
       "      <th>84</th>\n",
       "      <td>Balloon</td>\n",
       "      <td>0.074</td>\n",
       "      <td>0.074</td>\n",
       "      <td>0.074</td>\n",
       "      <td>0.074</td>\n",
       "      <td>0.074</td>\n",
       "      <td>0.074</td>\n",
       "      <td>1</td>\n",
       "    </tr>\n",
       "    <tr>\n",
       "      <th>90</th>\n",
       "      <td>Quake</td>\n",
       "      <td>0.196</td>\n",
       "      <td>0.196</td>\n",
       "      <td>0.194</td>\n",
       "      <td>0.196</td>\n",
       "      <td>0.192</td>\n",
       "      <td>0.196</td>\n",
       "      <td>1</td>\n",
       "    </tr>\n",
       "    <tr>\n",
       "      <th>96</th>\n",
       "      <td>Auto Price</td>\n",
       "      <td>1129.769</td>\n",
       "      <td>1129.769</td>\n",
       "      <td>1115.416</td>\n",
       "      <td>1129.769</td>\n",
       "      <td>1464.995</td>\n",
       "      <td>1129.769</td>\n",
       "      <td>1</td>\n",
       "    </tr>\n",
       "    <tr>\n",
       "      <th>102</th>\n",
       "      <td>Friedman</td>\n",
       "      <td>1.038</td>\n",
       "      <td>1.038</td>\n",
       "      <td>1.039</td>\n",
       "      <td>1.038</td>\n",
       "      <td>1.804</td>\n",
       "      <td>1.038</td>\n",
       "      <td>1</td>\n",
       "    </tr>\n",
       "    <tr>\n",
       "      <th>108</th>\n",
       "      <td>Sales</td>\n",
       "      <td>0.941</td>\n",
       "      <td>0.941</td>\n",
       "      <td>0.949</td>\n",
       "      <td>0.941</td>\n",
       "      <td>0.999</td>\n",
       "      <td>0.941</td>\n",
       "      <td>1</td>\n",
       "    </tr>\n",
       "    <tr>\n",
       "      <th>114</th>\n",
       "      <td>Telecom</td>\n",
       "      <td>6.637</td>\n",
       "      <td>6.637</td>\n",
       "      <td>6.599</td>\n",
       "      <td>6.637</td>\n",
       "      <td>10.144</td>\n",
       "      <td>6.637</td>\n",
       "      <td>1</td>\n",
       "    </tr>\n",
       "    <tr>\n",
       "      <th>120</th>\n",
       "      <td>CPU Activity</td>\n",
       "      <td>2.601</td>\n",
       "      <td>2.601</td>\n",
       "      <td>2.605</td>\n",
       "      <td>2.601</td>\n",
       "      <td>4.178</td>\n",
       "      <td>2.601</td>\n",
       "      <td>1</td>\n",
       "    </tr>\n",
       "    <tr>\n",
       "      <th>126</th>\n",
       "      <td>Music Origin</td>\n",
       "      <td>28.138</td>\n",
       "      <td>28.138</td>\n",
       "      <td>27.764</td>\n",
       "      <td>28.138</td>\n",
       "      <td>53.080</td>\n",
       "      <td>28.138</td>\n",
       "      <td>1</td>\n",
       "    </tr>\n",
       "    <tr>\n",
       "      <th>132</th>\n",
       "      <td>Employee Accept</td>\n",
       "      <td>1.676</td>\n",
       "      <td>1.676</td>\n",
       "      <td>1.676</td>\n",
       "      <td>1.676</td>\n",
       "      <td>1.672</td>\n",
       "      <td>1.676</td>\n",
       "      <td>1</td>\n",
       "    </tr>\n",
       "    <tr>\n",
       "      <th>138</th>\n",
       "      <td>Soil Data</td>\n",
       "      <td>0.075</td>\n",
       "      <td>0.075</td>\n",
       "      <td>0.073</td>\n",
       "      <td>0.075</td>\n",
       "      <td>1.087</td>\n",
       "      <td>0.075</td>\n",
       "      <td>1</td>\n",
       "    </tr>\n",
       "  </tbody>\n",
       "</table>\n",
       "</div>"
      ],
      "text/plain": [
       "        Dataset_name        B1        B2        B4        B5        B7  \\\n",
       "0         Admissions     0.071     0.071     0.071     0.071     0.066   \n",
       "6             Amazon   166.873   166.873   166.962   166.873   189.723   \n",
       "12            Boston     3.118     3.118     3.096     3.118     3.558   \n",
       "18             Crime   344.746   344.746   346.198   344.746   624.472   \n",
       "24          Diabetes    67.455    67.455    67.003    67.455    62.810   \n",
       "30      Fish_weights    52.006    52.006    50.513    52.006    72.918   \n",
       "36         Insurance  4943.969  4943.969  4934.656  4943.969  5432.387   \n",
       "42            Nhanes    12.280    12.280    12.281    12.280    12.276   \n",
       "48        NYE_Airbnb   160.564   160.564   161.474   160.564   178.823   \n",
       "54    Student_grades     2.140     2.140     2.147     2.140     2.711   \n",
       "60    Liver_Disorder     3.317     3.317     3.289     3.317     3.282   \n",
       "66         Satellite     0.728     0.728     0.729     0.728     0.809   \n",
       "72      Wine Quality     0.645     0.645     0.647     0.645     0.665   \n",
       "78      Banking Data     0.083     0.083     0.083     0.083     0.086   \n",
       "84           Balloon     0.074     0.074     0.074     0.074     0.074   \n",
       "90             Quake     0.196     0.196     0.194     0.196     0.192   \n",
       "96        Auto Price  1129.769  1129.769  1115.416  1129.769  1464.995   \n",
       "102         Friedman     1.038     1.038     1.039     1.038     1.804   \n",
       "108            Sales     0.941     0.941     0.949     0.941     0.999   \n",
       "114          Telecom     6.637     6.637     6.599     6.637    10.144   \n",
       "120     CPU Activity     2.601     2.601     2.605     2.601     4.178   \n",
       "126     Music Origin    28.138    28.138    27.764    28.138    53.080   \n",
       "132  Employee Accept     1.676     1.676     1.676     1.676     1.672   \n",
       "138        Soil Data     0.075     0.075     0.073     0.075     1.087   \n",
       "\n",
       "           B8  Cluster_count  \n",
       "0       0.071              1  \n",
       "6     166.873              1  \n",
       "12      3.118              1  \n",
       "18    344.746              1  \n",
       "24     67.455              1  \n",
       "30     52.006              1  \n",
       "36   4943.969              1  \n",
       "42     12.280              1  \n",
       "48    160.564              1  \n",
       "54      2.140              1  \n",
       "60      3.317              1  \n",
       "66      0.728              1  \n",
       "72      0.645              1  \n",
       "78      0.083              1  \n",
       "84      0.074              1  \n",
       "90      0.196              1  \n",
       "96   1129.769              1  \n",
       "102     1.038              1  \n",
       "108     0.941              1  \n",
       "114     6.637              1  \n",
       "120     2.601              1  \n",
       "126    28.138              1  \n",
       "132     1.676              1  \n",
       "138     0.075              1  "
      ]
     },
     "execution_count": 65,
     "metadata": {},
     "output_type": "execute_result"
    }
   ],
   "source": [
    "benchmark_best_c1"
   ]
  },
  {
   "cell_type": "code",
   "execution_count": 49,
   "metadata": {},
   "outputs": [
    {
     "ename": "ValueError",
     "evalue": "Length of values does not match length of index",
     "output_type": "error",
     "traceback": [
      "\u001b[1;31m---------------------------------------------------------------------------\u001b[0m",
      "\u001b[1;31mValueError\u001b[0m                                Traceback (most recent call last)",
      "\u001b[1;32m<ipython-input-49-2fdadcf91ecc>\u001b[0m in \u001b[0;36m<module>\u001b[1;34m\u001b[0m\n\u001b[0;32m      1\u001b[0m \u001b[0mar\u001b[0m \u001b[1;33m=\u001b[0m \u001b[0mnp\u001b[0m\u001b[1;33m.\u001b[0m\u001b[0marray\u001b[0m\u001b[1;33m(\u001b[0m\u001b[1;33m[\u001b[0m\u001b[0mdf\u001b[0m\u001b[1;33m[\u001b[0m\u001b[0mi\u001b[0m\u001b[1;33m]\u001b[0m\u001b[1;33m[\u001b[0m\u001b[1;36m0\u001b[0m\u001b[1;33m]\u001b[0m \u001b[1;32mfor\u001b[0m \u001b[0mi\u001b[0m \u001b[1;32min\u001b[0m \u001b[0mrange\u001b[0m\u001b[1;33m(\u001b[0m\u001b[0mdf\u001b[0m\u001b[1;33m.\u001b[0m\u001b[0mshape\u001b[0m\u001b[1;33m[\u001b[0m\u001b[1;36m0\u001b[0m\u001b[1;33m]\u001b[0m\u001b[1;33m)\u001b[0m\u001b[1;33m]\u001b[0m\u001b[1;33m)\u001b[0m\u001b[1;33m\u001b[0m\u001b[1;33m\u001b[0m\u001b[0m\n\u001b[1;32m----> 2\u001b[1;33m \u001b[0mbenchmark_best\u001b[0m\u001b[1;33m[\u001b[0m\u001b[1;34m'New_col'\u001b[0m\u001b[1;33m]\u001b[0m \u001b[1;33m=\u001b[0m \u001b[0mar\u001b[0m\u001b[1;33m\u001b[0m\u001b[1;33m\u001b[0m\u001b[0m\n\u001b[0m",
      "\u001b[1;32m~\\Anaconda3\\lib\\site-packages\\pandas\\core\\frame.py\u001b[0m in \u001b[0;36m__setitem__\u001b[1;34m(self, key, value)\u001b[0m\n\u001b[0;32m   3117\u001b[0m         \u001b[1;32melse\u001b[0m\u001b[1;33m:\u001b[0m\u001b[1;33m\u001b[0m\u001b[1;33m\u001b[0m\u001b[0m\n\u001b[0;32m   3118\u001b[0m             \u001b[1;31m# set column\u001b[0m\u001b[1;33m\u001b[0m\u001b[1;33m\u001b[0m\u001b[1;33m\u001b[0m\u001b[0m\n\u001b[1;32m-> 3119\u001b[1;33m             \u001b[0mself\u001b[0m\u001b[1;33m.\u001b[0m\u001b[0m_set_item\u001b[0m\u001b[1;33m(\u001b[0m\u001b[0mkey\u001b[0m\u001b[1;33m,\u001b[0m \u001b[0mvalue\u001b[0m\u001b[1;33m)\u001b[0m\u001b[1;33m\u001b[0m\u001b[1;33m\u001b[0m\u001b[0m\n\u001b[0m\u001b[0;32m   3120\u001b[0m \u001b[1;33m\u001b[0m\u001b[0m\n\u001b[0;32m   3121\u001b[0m     \u001b[1;32mdef\u001b[0m \u001b[0m_setitem_slice\u001b[0m\u001b[1;33m(\u001b[0m\u001b[0mself\u001b[0m\u001b[1;33m,\u001b[0m \u001b[0mkey\u001b[0m\u001b[1;33m,\u001b[0m \u001b[0mvalue\u001b[0m\u001b[1;33m)\u001b[0m\u001b[1;33m:\u001b[0m\u001b[1;33m\u001b[0m\u001b[1;33m\u001b[0m\u001b[0m\n",
      "\u001b[1;32m~\\Anaconda3\\lib\\site-packages\\pandas\\core\\frame.py\u001b[0m in \u001b[0;36m_set_item\u001b[1;34m(self, key, value)\u001b[0m\n\u001b[0;32m   3192\u001b[0m \u001b[1;33m\u001b[0m\u001b[0m\n\u001b[0;32m   3193\u001b[0m         \u001b[0mself\u001b[0m\u001b[1;33m.\u001b[0m\u001b[0m_ensure_valid_index\u001b[0m\u001b[1;33m(\u001b[0m\u001b[0mvalue\u001b[0m\u001b[1;33m)\u001b[0m\u001b[1;33m\u001b[0m\u001b[1;33m\u001b[0m\u001b[0m\n\u001b[1;32m-> 3194\u001b[1;33m         \u001b[0mvalue\u001b[0m \u001b[1;33m=\u001b[0m \u001b[0mself\u001b[0m\u001b[1;33m.\u001b[0m\u001b[0m_sanitize_column\u001b[0m\u001b[1;33m(\u001b[0m\u001b[0mkey\u001b[0m\u001b[1;33m,\u001b[0m \u001b[0mvalue\u001b[0m\u001b[1;33m)\u001b[0m\u001b[1;33m\u001b[0m\u001b[1;33m\u001b[0m\u001b[0m\n\u001b[0m\u001b[0;32m   3195\u001b[0m         \u001b[0mNDFrame\u001b[0m\u001b[1;33m.\u001b[0m\u001b[0m_set_item\u001b[0m\u001b[1;33m(\u001b[0m\u001b[0mself\u001b[0m\u001b[1;33m,\u001b[0m \u001b[0mkey\u001b[0m\u001b[1;33m,\u001b[0m \u001b[0mvalue\u001b[0m\u001b[1;33m)\u001b[0m\u001b[1;33m\u001b[0m\u001b[1;33m\u001b[0m\u001b[0m\n\u001b[0;32m   3196\u001b[0m \u001b[1;33m\u001b[0m\u001b[0m\n",
      "\u001b[1;32m~\\Anaconda3\\lib\\site-packages\\pandas\\core\\frame.py\u001b[0m in \u001b[0;36m_sanitize_column\u001b[1;34m(self, key, value, broadcast)\u001b[0m\n\u001b[0;32m   3389\u001b[0m \u001b[1;33m\u001b[0m\u001b[0m\n\u001b[0;32m   3390\u001b[0m             \u001b[1;31m# turn me into an ndarray\u001b[0m\u001b[1;33m\u001b[0m\u001b[1;33m\u001b[0m\u001b[1;33m\u001b[0m\u001b[0m\n\u001b[1;32m-> 3391\u001b[1;33m             \u001b[0mvalue\u001b[0m \u001b[1;33m=\u001b[0m \u001b[0m_sanitize_index\u001b[0m\u001b[1;33m(\u001b[0m\u001b[0mvalue\u001b[0m\u001b[1;33m,\u001b[0m \u001b[0mself\u001b[0m\u001b[1;33m.\u001b[0m\u001b[0mindex\u001b[0m\u001b[1;33m,\u001b[0m \u001b[0mcopy\u001b[0m\u001b[1;33m=\u001b[0m\u001b[1;32mFalse\u001b[0m\u001b[1;33m)\u001b[0m\u001b[1;33m\u001b[0m\u001b[1;33m\u001b[0m\u001b[0m\n\u001b[0m\u001b[0;32m   3392\u001b[0m             \u001b[1;32mif\u001b[0m \u001b[1;32mnot\u001b[0m \u001b[0misinstance\u001b[0m\u001b[1;33m(\u001b[0m\u001b[0mvalue\u001b[0m\u001b[1;33m,\u001b[0m \u001b[1;33m(\u001b[0m\u001b[0mnp\u001b[0m\u001b[1;33m.\u001b[0m\u001b[0mndarray\u001b[0m\u001b[1;33m,\u001b[0m \u001b[0mIndex\u001b[0m\u001b[1;33m)\u001b[0m\u001b[1;33m)\u001b[0m\u001b[1;33m:\u001b[0m\u001b[1;33m\u001b[0m\u001b[1;33m\u001b[0m\u001b[0m\n\u001b[0;32m   3393\u001b[0m                 \u001b[1;32mif\u001b[0m \u001b[0misinstance\u001b[0m\u001b[1;33m(\u001b[0m\u001b[0mvalue\u001b[0m\u001b[1;33m,\u001b[0m \u001b[0mlist\u001b[0m\u001b[1;33m)\u001b[0m \u001b[1;32mand\u001b[0m \u001b[0mlen\u001b[0m\u001b[1;33m(\u001b[0m\u001b[0mvalue\u001b[0m\u001b[1;33m)\u001b[0m \u001b[1;33m>\u001b[0m \u001b[1;36m0\u001b[0m\u001b[1;33m:\u001b[0m\u001b[1;33m\u001b[0m\u001b[1;33m\u001b[0m\u001b[0m\n",
      "\u001b[1;32m~\\Anaconda3\\lib\\site-packages\\pandas\\core\\series.py\u001b[0m in \u001b[0;36m_sanitize_index\u001b[1;34m(data, index, copy)\u001b[0m\n\u001b[0;32m   3999\u001b[0m \u001b[1;33m\u001b[0m\u001b[0m\n\u001b[0;32m   4000\u001b[0m     \u001b[1;32mif\u001b[0m \u001b[0mlen\u001b[0m\u001b[1;33m(\u001b[0m\u001b[0mdata\u001b[0m\u001b[1;33m)\u001b[0m \u001b[1;33m!=\u001b[0m \u001b[0mlen\u001b[0m\u001b[1;33m(\u001b[0m\u001b[0mindex\u001b[0m\u001b[1;33m)\u001b[0m\u001b[1;33m:\u001b[0m\u001b[1;33m\u001b[0m\u001b[1;33m\u001b[0m\u001b[0m\n\u001b[1;32m-> 4001\u001b[1;33m         \u001b[1;32mraise\u001b[0m \u001b[0mValueError\u001b[0m\u001b[1;33m(\u001b[0m\u001b[1;34m'Length of values does not match length of '\u001b[0m \u001b[1;34m'index'\u001b[0m\u001b[1;33m)\u001b[0m\u001b[1;33m\u001b[0m\u001b[1;33m\u001b[0m\u001b[0m\n\u001b[0m\u001b[0;32m   4002\u001b[0m \u001b[1;33m\u001b[0m\u001b[0m\n\u001b[0;32m   4003\u001b[0m     \u001b[1;32mif\u001b[0m \u001b[0misinstance\u001b[0m\u001b[1;33m(\u001b[0m\u001b[0mdata\u001b[0m\u001b[1;33m,\u001b[0m \u001b[0mABCIndexClass\u001b[0m\u001b[1;33m)\u001b[0m \u001b[1;32mand\u001b[0m \u001b[1;32mnot\u001b[0m \u001b[0mcopy\u001b[0m\u001b[1;33m:\u001b[0m\u001b[1;33m\u001b[0m\u001b[1;33m\u001b[0m\u001b[0m\n",
      "\u001b[1;31mValueError\u001b[0m: Length of values does not match length of index"
     ]
    }
   ],
   "source": [
    "ar = np.array([df[i][0] for i in range(df.shape[0])])\n",
    "benchmark_best['New_col'] = ar"
   ]
  },
  {
   "cell_type": "code",
   "execution_count": 66,
   "metadata": {},
   "outputs": [],
   "source": [
    "benchmark_best_grouped  = benchmark_best.groupby('Dataset_name')['B1','B2','B4','B5','B7','B8'].min()\n",
    "benchmark_best_c1_grouped  = benchmark_best_c1.groupby('Dataset_name')['B4','B7'].min()"
   ]
  },
  {
   "cell_type": "code",
   "execution_count": null,
   "metadata": {},
   "outputs": [],
   "source": [
    "print(benchmark_best_grouped.to_latex(index = False))"
   ]
  },
  {
   "cell_type": "code",
   "execution_count": null,
   "metadata": {},
   "outputs": [],
   "source": [
    "print(benchmark_best_grouped.transpose().to_latex())"
   ]
  },
  {
   "cell_type": "code",
   "execution_count": 67,
   "metadata": {},
   "outputs": [
    {
     "data": {
      "text/html": [
       "<div>\n",
       "<style scoped>\n",
       "    .dataframe tbody tr th:only-of-type {\n",
       "        vertical-align: middle;\n",
       "    }\n",
       "\n",
       "    .dataframe tbody tr th {\n",
       "        vertical-align: top;\n",
       "    }\n",
       "\n",
       "    .dataframe thead th {\n",
       "        text-align: right;\n",
       "    }\n",
       "</style>\n",
       "<table border=\"1\" class=\"dataframe\">\n",
       "  <thead>\n",
       "    <tr style=\"text-align: right;\">\n",
       "      <th></th>\n",
       "      <th>B1</th>\n",
       "      <th>B2</th>\n",
       "      <th>B4</th>\n",
       "      <th>B5</th>\n",
       "      <th>B7</th>\n",
       "      <th>B8</th>\n",
       "    </tr>\n",
       "    <tr>\n",
       "      <th>Dataset_name</th>\n",
       "      <th></th>\n",
       "      <th></th>\n",
       "      <th></th>\n",
       "      <th></th>\n",
       "      <th></th>\n",
       "      <th></th>\n",
       "    </tr>\n",
       "  </thead>\n",
       "  <tbody>\n",
       "    <tr>\n",
       "      <th>Admissions</th>\n",
       "      <td>0.071</td>\n",
       "      <td>0.072</td>\n",
       "      <td>0.064</td>\n",
       "      <td>0.073</td>\n",
       "      <td>0.065</td>\n",
       "      <td>0.073</td>\n",
       "    </tr>\n",
       "    <tr>\n",
       "      <th>Amazon</th>\n",
       "      <td>166.873</td>\n",
       "      <td>163.930</td>\n",
       "      <td>172.224</td>\n",
       "      <td>161.275</td>\n",
       "      <td>193.768</td>\n",
       "      <td>161.275</td>\n",
       "    </tr>\n",
       "    <tr>\n",
       "      <th>Auto Price</th>\n",
       "      <td>1129.769</td>\n",
       "      <td>1190.579</td>\n",
       "      <td>2002.525</td>\n",
       "      <td>1053.687</td>\n",
       "      <td>2249.064</td>\n",
       "      <td>1053.687</td>\n",
       "    </tr>\n",
       "    <tr>\n",
       "      <th>Balloon</th>\n",
       "      <td>0.074</td>\n",
       "      <td>0.074</td>\n",
       "      <td>0.078</td>\n",
       "      <td>0.074</td>\n",
       "      <td>0.078</td>\n",
       "      <td>0.074</td>\n",
       "    </tr>\n",
       "    <tr>\n",
       "      <th>Banking Data</th>\n",
       "      <td>0.083</td>\n",
       "      <td>0.083</td>\n",
       "      <td>0.086</td>\n",
       "      <td>0.083</td>\n",
       "      <td>0.088</td>\n",
       "      <td>0.082</td>\n",
       "    </tr>\n",
       "    <tr>\n",
       "      <th>Boston</th>\n",
       "      <td>3.118</td>\n",
       "      <td>3.027</td>\n",
       "      <td>3.595</td>\n",
       "      <td>3.100</td>\n",
       "      <td>3.950</td>\n",
       "      <td>3.100</td>\n",
       "    </tr>\n",
       "    <tr>\n",
       "      <th>CPU Activity</th>\n",
       "      <td>2.601</td>\n",
       "      <td>2.612</td>\n",
       "      <td>2.755</td>\n",
       "      <td>2.612</td>\n",
       "      <td>4.202</td>\n",
       "      <td>2.597</td>\n",
       "    </tr>\n",
       "    <tr>\n",
       "      <th>Crime</th>\n",
       "      <td>344.746</td>\n",
       "      <td>346.443</td>\n",
       "      <td>339.212</td>\n",
       "      <td>339.637</td>\n",
       "      <td>641.487</td>\n",
       "      <td>338.785</td>\n",
       "    </tr>\n",
       "    <tr>\n",
       "      <th>Diabetes</th>\n",
       "      <td>67.455</td>\n",
       "      <td>66.887</td>\n",
       "      <td>65.480</td>\n",
       "      <td>65.913</td>\n",
       "      <td>58.937</td>\n",
       "      <td>64.441</td>\n",
       "    </tr>\n",
       "    <tr>\n",
       "      <th>Employee Accept</th>\n",
       "      <td>1.676</td>\n",
       "      <td>1.668</td>\n",
       "      <td>1.714</td>\n",
       "      <td>1.668</td>\n",
       "      <td>1.703</td>\n",
       "      <td>1.668</td>\n",
       "    </tr>\n",
       "    <tr>\n",
       "      <th>Fish_weights</th>\n",
       "      <td>52.006</td>\n",
       "      <td>48.409</td>\n",
       "      <td>59.715</td>\n",
       "      <td>48.291</td>\n",
       "      <td>100.458</td>\n",
       "      <td>48.291</td>\n",
       "    </tr>\n",
       "    <tr>\n",
       "      <th>Friedman</th>\n",
       "      <td>1.038</td>\n",
       "      <td>1.056</td>\n",
       "      <td>1.057</td>\n",
       "      <td>1.052</td>\n",
       "      <td>1.809</td>\n",
       "      <td>1.049</td>\n",
       "    </tr>\n",
       "    <tr>\n",
       "      <th>Insurance</th>\n",
       "      <td>4943.969</td>\n",
       "      <td>5038.248</td>\n",
       "      <td>5350.054</td>\n",
       "      <td>5038.248</td>\n",
       "      <td>5552.364</td>\n",
       "      <td>5038.248</td>\n",
       "    </tr>\n",
       "    <tr>\n",
       "      <th>Liver_Disorder</th>\n",
       "      <td>3.317</td>\n",
       "      <td>3.105</td>\n",
       "      <td>3.238</td>\n",
       "      <td>3.233</td>\n",
       "      <td>3.202</td>\n",
       "      <td>3.281</td>\n",
       "    </tr>\n",
       "    <tr>\n",
       "      <th>Music Origin</th>\n",
       "      <td>28.138</td>\n",
       "      <td>29.954</td>\n",
       "      <td>31.890</td>\n",
       "      <td>30.521</td>\n",
       "      <td>56.013</td>\n",
       "      <td>30.631</td>\n",
       "    </tr>\n",
       "    <tr>\n",
       "      <th>NYE_Airbnb</th>\n",
       "      <td>160.564</td>\n",
       "      <td>156.852</td>\n",
       "      <td>163.626</td>\n",
       "      <td>151.702</td>\n",
       "      <td>173.173</td>\n",
       "      <td>151.702</td>\n",
       "    </tr>\n",
       "    <tr>\n",
       "      <th>Nhanes</th>\n",
       "      <td>12.280</td>\n",
       "      <td>12.495</td>\n",
       "      <td>12.409</td>\n",
       "      <td>12.433</td>\n",
       "      <td>12.401</td>\n",
       "      <td>12.417</td>\n",
       "    </tr>\n",
       "    <tr>\n",
       "      <th>Quake</th>\n",
       "      <td>0.196</td>\n",
       "      <td>0.196</td>\n",
       "      <td>0.196</td>\n",
       "      <td>0.195</td>\n",
       "      <td>0.193</td>\n",
       "      <td>0.195</td>\n",
       "    </tr>\n",
       "    <tr>\n",
       "      <th>Sales</th>\n",
       "      <td>0.941</td>\n",
       "      <td>0.847</td>\n",
       "      <td>1.053</td>\n",
       "      <td>0.905</td>\n",
       "      <td>1.090</td>\n",
       "      <td>0.905</td>\n",
       "    </tr>\n",
       "    <tr>\n",
       "      <th>Satellite</th>\n",
       "      <td>0.728</td>\n",
       "      <td>0.698</td>\n",
       "      <td>0.787</td>\n",
       "      <td>0.708</td>\n",
       "      <td>0.862</td>\n",
       "      <td>0.715</td>\n",
       "    </tr>\n",
       "    <tr>\n",
       "      <th>Soil Data</th>\n",
       "      <td>0.075</td>\n",
       "      <td>0.044</td>\n",
       "      <td>0.107</td>\n",
       "      <td>0.039</td>\n",
       "      <td>1.117</td>\n",
       "      <td>0.039</td>\n",
       "    </tr>\n",
       "    <tr>\n",
       "      <th>Student_grades</th>\n",
       "      <td>2.140</td>\n",
       "      <td>2.214</td>\n",
       "      <td>2.119</td>\n",
       "      <td>2.005</td>\n",
       "      <td>2.440</td>\n",
       "      <td>1.986</td>\n",
       "    </tr>\n",
       "    <tr>\n",
       "      <th>Telecom</th>\n",
       "      <td>6.637</td>\n",
       "      <td>4.726</td>\n",
       "      <td>7.538</td>\n",
       "      <td>5.178</td>\n",
       "      <td>10.935</td>\n",
       "      <td>5.112</td>\n",
       "    </tr>\n",
       "    <tr>\n",
       "      <th>Wine Quality</th>\n",
       "      <td>0.645</td>\n",
       "      <td>0.634</td>\n",
       "      <td>0.665</td>\n",
       "      <td>0.636</td>\n",
       "      <td>0.682</td>\n",
       "      <td>0.627</td>\n",
       "    </tr>\n",
       "  </tbody>\n",
       "</table>\n",
       "</div>"
      ],
      "text/plain": [
       "                       B1        B2        B4        B5        B7        B8\n",
       "Dataset_name                                                               \n",
       "Admissions          0.071     0.072     0.064     0.073     0.065     0.073\n",
       "Amazon            166.873   163.930   172.224   161.275   193.768   161.275\n",
       "Auto Price       1129.769  1190.579  2002.525  1053.687  2249.064  1053.687\n",
       "Balloon             0.074     0.074     0.078     0.074     0.078     0.074\n",
       "Banking Data        0.083     0.083     0.086     0.083     0.088     0.082\n",
       "Boston              3.118     3.027     3.595     3.100     3.950     3.100\n",
       "CPU Activity        2.601     2.612     2.755     2.612     4.202     2.597\n",
       "Crime             344.746   346.443   339.212   339.637   641.487   338.785\n",
       "Diabetes           67.455    66.887    65.480    65.913    58.937    64.441\n",
       "Employee Accept     1.676     1.668     1.714     1.668     1.703     1.668\n",
       "Fish_weights       52.006    48.409    59.715    48.291   100.458    48.291\n",
       "Friedman            1.038     1.056     1.057     1.052     1.809     1.049\n",
       "Insurance        4943.969  5038.248  5350.054  5038.248  5552.364  5038.248\n",
       "Liver_Disorder      3.317     3.105     3.238     3.233     3.202     3.281\n",
       "Music Origin       28.138    29.954    31.890    30.521    56.013    30.631\n",
       "NYE_Airbnb        160.564   156.852   163.626   151.702   173.173   151.702\n",
       "Nhanes             12.280    12.495    12.409    12.433    12.401    12.417\n",
       "Quake               0.196     0.196     0.196     0.195     0.193     0.195\n",
       "Sales               0.941     0.847     1.053     0.905     1.090     0.905\n",
       "Satellite           0.728     0.698     0.787     0.708     0.862     0.715\n",
       "Soil Data           0.075     0.044     0.107     0.039     1.117     0.039\n",
       "Student_grades      2.140     2.214     2.119     2.005     2.440     1.986\n",
       "Telecom             6.637     4.726     7.538     5.178    10.935     5.112\n",
       "Wine Quality        0.645     0.634     0.665     0.636     0.682     0.627"
      ]
     },
     "execution_count": 67,
     "metadata": {},
     "output_type": "execute_result"
    }
   ],
   "source": [
    "benchmark_best_grouped"
   ]
  },
  {
   "cell_type": "code",
   "execution_count": 69,
   "metadata": {},
   "outputs": [
    {
     "data": {
      "text/html": [
       "<div>\n",
       "<style scoped>\n",
       "    .dataframe tbody tr th:only-of-type {\n",
       "        vertical-align: middle;\n",
       "    }\n",
       "\n",
       "    .dataframe tbody tr th {\n",
       "        vertical-align: top;\n",
       "    }\n",
       "\n",
       "    .dataframe thead th {\n",
       "        text-align: right;\n",
       "    }\n",
       "</style>\n",
       "<table border=\"1\" class=\"dataframe\">\n",
       "  <thead>\n",
       "    <tr style=\"text-align: right;\">\n",
       "      <th></th>\n",
       "      <th>B4</th>\n",
       "      <th>B7</th>\n",
       "    </tr>\n",
       "    <tr>\n",
       "      <th>Dataset_name</th>\n",
       "      <th></th>\n",
       "      <th></th>\n",
       "    </tr>\n",
       "  </thead>\n",
       "  <tbody>\n",
       "    <tr>\n",
       "      <th>Admissions</th>\n",
       "      <td>0.071</td>\n",
       "      <td>0.066</td>\n",
       "    </tr>\n",
       "    <tr>\n",
       "      <th>Amazon</th>\n",
       "      <td>166.962</td>\n",
       "      <td>189.723</td>\n",
       "    </tr>\n",
       "    <tr>\n",
       "      <th>Auto Price</th>\n",
       "      <td>1115.416</td>\n",
       "      <td>1464.995</td>\n",
       "    </tr>\n",
       "    <tr>\n",
       "      <th>Balloon</th>\n",
       "      <td>0.074</td>\n",
       "      <td>0.074</td>\n",
       "    </tr>\n",
       "    <tr>\n",
       "      <th>Banking Data</th>\n",
       "      <td>0.083</td>\n",
       "      <td>0.086</td>\n",
       "    </tr>\n",
       "    <tr>\n",
       "      <th>Boston</th>\n",
       "      <td>3.096</td>\n",
       "      <td>3.558</td>\n",
       "    </tr>\n",
       "    <tr>\n",
       "      <th>CPU Activity</th>\n",
       "      <td>2.605</td>\n",
       "      <td>4.178</td>\n",
       "    </tr>\n",
       "    <tr>\n",
       "      <th>Crime</th>\n",
       "      <td>346.198</td>\n",
       "      <td>624.472</td>\n",
       "    </tr>\n",
       "    <tr>\n",
       "      <th>Diabetes</th>\n",
       "      <td>67.003</td>\n",
       "      <td>62.810</td>\n",
       "    </tr>\n",
       "    <tr>\n",
       "      <th>Employee Accept</th>\n",
       "      <td>1.676</td>\n",
       "      <td>1.672</td>\n",
       "    </tr>\n",
       "    <tr>\n",
       "      <th>Fish_weights</th>\n",
       "      <td>50.513</td>\n",
       "      <td>72.918</td>\n",
       "    </tr>\n",
       "    <tr>\n",
       "      <th>Friedman</th>\n",
       "      <td>1.039</td>\n",
       "      <td>1.804</td>\n",
       "    </tr>\n",
       "    <tr>\n",
       "      <th>Insurance</th>\n",
       "      <td>4934.656</td>\n",
       "      <td>5432.387</td>\n",
       "    </tr>\n",
       "    <tr>\n",
       "      <th>Liver_Disorder</th>\n",
       "      <td>3.289</td>\n",
       "      <td>3.282</td>\n",
       "    </tr>\n",
       "    <tr>\n",
       "      <th>Music Origin</th>\n",
       "      <td>27.764</td>\n",
       "      <td>53.080</td>\n",
       "    </tr>\n",
       "    <tr>\n",
       "      <th>NYE_Airbnb</th>\n",
       "      <td>161.474</td>\n",
       "      <td>178.823</td>\n",
       "    </tr>\n",
       "    <tr>\n",
       "      <th>Nhanes</th>\n",
       "      <td>12.281</td>\n",
       "      <td>12.276</td>\n",
       "    </tr>\n",
       "    <tr>\n",
       "      <th>Quake</th>\n",
       "      <td>0.194</td>\n",
       "      <td>0.192</td>\n",
       "    </tr>\n",
       "    <tr>\n",
       "      <th>Sales</th>\n",
       "      <td>0.949</td>\n",
       "      <td>0.999</td>\n",
       "    </tr>\n",
       "    <tr>\n",
       "      <th>Satellite</th>\n",
       "      <td>0.729</td>\n",
       "      <td>0.809</td>\n",
       "    </tr>\n",
       "    <tr>\n",
       "      <th>Soil Data</th>\n",
       "      <td>0.073</td>\n",
       "      <td>1.087</td>\n",
       "    </tr>\n",
       "    <tr>\n",
       "      <th>Student_grades</th>\n",
       "      <td>2.147</td>\n",
       "      <td>2.711</td>\n",
       "    </tr>\n",
       "    <tr>\n",
       "      <th>Telecom</th>\n",
       "      <td>6.599</td>\n",
       "      <td>10.144</td>\n",
       "    </tr>\n",
       "    <tr>\n",
       "      <th>Wine Quality</th>\n",
       "      <td>0.647</td>\n",
       "      <td>0.665</td>\n",
       "    </tr>\n",
       "  </tbody>\n",
       "</table>\n",
       "</div>"
      ],
      "text/plain": [
       "                       B4        B7\n",
       "Dataset_name                       \n",
       "Admissions          0.071     0.066\n",
       "Amazon            166.962   189.723\n",
       "Auto Price       1115.416  1464.995\n",
       "Balloon             0.074     0.074\n",
       "Banking Data        0.083     0.086\n",
       "Boston              3.096     3.558\n",
       "CPU Activity        2.605     4.178\n",
       "Crime             346.198   624.472\n",
       "Diabetes           67.003    62.810\n",
       "Employee Accept     1.676     1.672\n",
       "Fish_weights       50.513    72.918\n",
       "Friedman            1.039     1.804\n",
       "Insurance        4934.656  5432.387\n",
       "Liver_Disorder      3.289     3.282\n",
       "Music Origin       27.764    53.080\n",
       "NYE_Airbnb        161.474   178.823\n",
       "Nhanes             12.281    12.276\n",
       "Quake               0.194     0.192\n",
       "Sales               0.949     0.999\n",
       "Satellite           0.729     0.809\n",
       "Soil Data           0.073     1.087\n",
       "Student_grades      2.147     2.711\n",
       "Telecom             6.599    10.144\n",
       "Wine Quality        0.647     0.665"
      ]
     },
     "execution_count": 69,
     "metadata": {},
     "output_type": "execute_result"
    }
   ],
   "source": [
    "benchmark_best_c1_grouped"
   ]
  },
  {
   "cell_type": "code",
   "execution_count": 72,
   "metadata": {},
   "outputs": [
    {
     "ename": "TypeError",
     "evalue": "sort_values() missing 1 required positional argument: 'by'",
     "output_type": "error",
     "traceback": [
      "\u001b[1;31m---------------------------------------------------------------------------\u001b[0m",
      "\u001b[1;31mTypeError\u001b[0m                                 Traceback (most recent call last)",
      "\u001b[1;32m<ipython-input-72-a6e6dce0f684>\u001b[0m in \u001b[0;36m<module>\u001b[1;34m\u001b[0m\n\u001b[0;32m      1\u001b[0m \u001b[0mbenchmark_best_grouped\u001b[0m\u001b[1;33m[\u001b[0m\u001b[1;34m'B3'\u001b[0m\u001b[1;33m]\u001b[0m \u001b[1;33m=\u001b[0m \u001b[0mbenchmark_best_c1_grouped\u001b[0m\u001b[1;33m[\u001b[0m\u001b[1;34m'B4'\u001b[0m\u001b[1;33m]\u001b[0m\u001b[1;33m\u001b[0m\u001b[1;33m\u001b[0m\u001b[0m\n\u001b[0;32m      2\u001b[0m \u001b[0mbenchmark_best_grouped\u001b[0m\u001b[1;33m[\u001b[0m\u001b[1;34m'B6'\u001b[0m\u001b[1;33m]\u001b[0m \u001b[1;33m=\u001b[0m \u001b[0mbenchmark_best_c1_grouped\u001b[0m\u001b[1;33m[\u001b[0m\u001b[1;34m'B7'\u001b[0m\u001b[1;33m]\u001b[0m\u001b[1;33m\u001b[0m\u001b[1;33m\u001b[0m\u001b[0m\n\u001b[1;32m----> 3\u001b[1;33m \u001b[0mbenchmark_best_grouped\u001b[0m\u001b[1;33m.\u001b[0m\u001b[0msort_values\u001b[0m\u001b[1;33m(\u001b[0m\u001b[0maxis\u001b[0m \u001b[1;33m=\u001b[0m \u001b[1;36m1\u001b[0m\u001b[1;33m)\u001b[0m\u001b[1;33m\u001b[0m\u001b[1;33m\u001b[0m\u001b[0m\n\u001b[0m",
      "\u001b[1;31mTypeError\u001b[0m: sort_values() missing 1 required positional argument: 'by'"
     ]
    }
   ],
   "source": [
    "benchmark_best_grouped['B3'] = benchmark_best_c1_grouped['B4']\n",
    "benchmark_best_grouped['B6'] = benchmark_best_c1_grouped['B7']\n",
    "benchmark_best_grouped.sort_values(by = ['B1','B2','B3','B4','B5','B6','B7','B8'],axis = 1)"
   ]
  },
  {
   "cell_type": "code",
   "execution_count": 77,
   "metadata": {},
   "outputs": [
    {
     "data": {
      "text/plain": [
       "Index(['B1', 'B2', 'B4', 'B5', 'B7', 'B8', 'B3', 'B6'], dtype='object')"
      ]
     },
     "execution_count": 77,
     "metadata": {},
     "output_type": "execute_result"
    }
   ],
   "source": [
    "benchmark_best_grouped.columns"
   ]
  },
  {
   "cell_type": "code",
   "execution_count": 80,
   "metadata": {},
   "outputs": [],
   "source": [
    "new_col = sorted(benchmark_best_grouped.columns)"
   ]
  },
  {
   "cell_type": "code",
   "execution_count": 83,
   "metadata": {},
   "outputs": [
    {
     "name": "stdout",
     "output_type": "stream",
     "text": [
      "\\begin{tabular}{lrrrrrrrr}\n",
      "\\toprule\n",
      "{} &        B1 &        B2 &        B3 &        B4 &        B5 &        B6 &        B7 &        B8 \\\\\n",
      "Dataset\\_name    &           &           &           &           &           &           &           &           \\\\\n",
      "\\midrule\n",
      "Admissions      &     0.071 &     0.072 &     0.071 &     0.064 &     0.073 &     0.066 &     0.065 &     0.073 \\\\\n",
      "Amazon          &   166.873 &   163.930 &   166.962 &   172.224 &   161.275 &   189.723 &   193.768 &   161.275 \\\\\n",
      "Auto Price      &  1129.769 &  1190.579 &  1115.416 &  2002.525 &  1053.687 &  1464.995 &  2249.064 &  1053.687 \\\\\n",
      "Balloon         &     0.074 &     0.074 &     0.074 &     0.078 &     0.074 &     0.074 &     0.078 &     0.074 \\\\\n",
      "Banking Data    &     0.083 &     0.083 &     0.083 &     0.086 &     0.083 &     0.086 &     0.088 &     0.082 \\\\\n",
      "Boston          &     3.118 &     3.027 &     3.096 &     3.595 &     3.100 &     3.558 &     3.950 &     3.100 \\\\\n",
      "CPU Activity    &     2.601 &     2.612 &     2.605 &     2.755 &     2.612 &     4.178 &     4.202 &     2.597 \\\\\n",
      "Crime           &   344.746 &   346.443 &   346.198 &   339.212 &   339.637 &   624.472 &   641.487 &   338.785 \\\\\n",
      "Diabetes        &    67.455 &    66.887 &    67.003 &    65.480 &    65.913 &    62.810 &    58.937 &    64.441 \\\\\n",
      "Employee Accept &     1.676 &     1.668 &     1.676 &     1.714 &     1.668 &     1.672 &     1.703 &     1.668 \\\\\n",
      "Fish\\_weights    &    52.006 &    48.409 &    50.513 &    59.715 &    48.291 &    72.918 &   100.458 &    48.291 \\\\\n",
      "Friedman        &     1.038 &     1.056 &     1.039 &     1.057 &     1.052 &     1.804 &     1.809 &     1.049 \\\\\n",
      "Insurance       &  4943.969 &  5038.248 &  4934.656 &  5350.054 &  5038.248 &  5432.387 &  5552.364 &  5038.248 \\\\\n",
      "Liver\\_Disorder  &     3.317 &     3.105 &     3.289 &     3.238 &     3.233 &     3.282 &     3.202 &     3.281 \\\\\n",
      "Music Origin    &    28.138 &    29.954 &    27.764 &    31.890 &    30.521 &    53.080 &    56.013 &    30.631 \\\\\n",
      "NYE\\_Airbnb      &   160.564 &   156.852 &   161.474 &   163.626 &   151.702 &   178.823 &   173.173 &   151.702 \\\\\n",
      "Nhanes          &    12.280 &    12.495 &    12.281 &    12.409 &    12.433 &    12.276 &    12.401 &    12.417 \\\\\n",
      "Quake           &     0.196 &     0.196 &     0.194 &     0.196 &     0.195 &     0.192 &     0.193 &     0.195 \\\\\n",
      "Sales           &     0.941 &     0.847 &     0.949 &     1.053 &     0.905 &     0.999 &     1.090 &     0.905 \\\\\n",
      "Satellite       &     0.728 &     0.698 &     0.729 &     0.787 &     0.708 &     0.809 &     0.862 &     0.715 \\\\\n",
      "Soil Data       &     0.075 &     0.044 &     0.073 &     0.107 &     0.039 &     1.087 &     1.117 &     0.039 \\\\\n",
      "Student\\_grades  &     2.140 &     2.214 &     2.147 &     2.119 &     2.005 &     2.711 &     2.440 &     1.986 \\\\\n",
      "Telecom         &     6.637 &     4.726 &     6.599 &     7.538 &     5.178 &    10.144 &    10.935 &     5.112 \\\\\n",
      "Wine Quality    &     0.645 &     0.634 &     0.647 &     0.665 &     0.636 &     0.665 &     0.682 &     0.627 \\\\\n",
      "\\bottomrule\n",
      "\\end{tabular}\n",
      "\n"
     ]
    }
   ],
   "source": [
    "print(benchmark_best_grouped[new_col].to_latex())"
   ]
  },
  {
   "cell_type": "code",
   "execution_count": null,
   "metadata": {},
   "outputs": [],
   "source": []
  }
 ],
 "metadata": {
  "kernelspec": {
   "display_name": "Python [conda env:root] *",
   "language": "python",
   "name": "conda-root-py"
  },
  "language_info": {
   "codemirror_mode": {
    "name": "ipython",
    "version": 3
   },
   "file_extension": ".py",
   "mimetype": "text/x-python",
   "name": "python",
   "nbconvert_exporter": "python",
   "pygments_lexer": "ipython3",
   "version": "3.7.1"
  }
 },
 "nbformat": 4,
 "nbformat_minor": 2
}
